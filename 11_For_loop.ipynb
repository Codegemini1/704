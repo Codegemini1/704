{
 "cells": [
  {
   "cell_type": "code",
   "execution_count": 1,
   "id": "73e930f4-5f29-44db-8066-5a97a10fff87",
   "metadata": {},
   "outputs": [],
   "source": [
    "l = [1,2,4,4.3,3.2,[10,20,1.5,3.6],5]"
   ]
  },
  {
   "cell_type": "code",
   "execution_count": 3,
   "id": "b23401ce-a1c3-4aef-bc26-b3fa0cd95721",
   "metadata": {},
   "outputs": [
    {
     "name": "stdout",
     "output_type": "stream",
     "text": [
      "1 <class 'int'>\n",
      "2 <class 'int'>\n",
      "4 <class 'int'>\n",
      "4.3 <class 'float'>\n",
      "3.2 <class 'float'>\n",
      "[10, 20, 1.5, 3.6] <class 'list'>\n",
      "5 <class 'int'>\n"
     ]
    }
   ],
   "source": [
    "for i in l:\n",
    "    print(i, type(i))"
   ]
  },
  {
   "cell_type": "code",
   "execution_count": 5,
   "id": "f254fa33-32b2-42c3-a2a9-cdbbb48917d9",
   "metadata": {},
   "outputs": [
    {
     "data": {
      "text/plain": [
       "[1, 2, 4, 4.3, 3.2, [10, 20, 1.5, 3.6], 5]"
      ]
     },
     "execution_count": 5,
     "metadata": {},
     "output_type": "execute_result"
    }
   ],
   "source": [
    "l"
   ]
  },
  {
   "cell_type": "code",
   "execution_count": 4,
   "id": "1939a7d9-1494-4361-a014-77c573994bbb",
   "metadata": {},
   "outputs": [
    {
     "name": "stdout",
     "output_type": "stream",
     "text": [
      "10\n",
      "20\n",
      "1.5\n",
      "3.6\n"
     ]
    }
   ],
   "source": [
    "for i in l:\n",
    "    if type(i) == list:\n",
    "        for data in i:\n",
    "            print(data)"
   ]
  },
  {
   "cell_type": "code",
   "execution_count": 6,
   "id": "70b5c620-a820-406a-97e4-c30ea8858c34",
   "metadata": {},
   "outputs": [],
   "source": [
    "# Fetch only int type of data"
   ]
  },
  {
   "cell_type": "code",
   "execution_count": 7,
   "id": "d6fe341e-d6be-4e0f-9162-f84e12869462",
   "metadata": {},
   "outputs": [
    {
     "data": {
      "text/plain": [
       "[1, 2, 4, 4.3, 3.2, [10, 20, 1.5, 3.6], 5]"
      ]
     },
     "execution_count": 7,
     "metadata": {},
     "output_type": "execute_result"
    }
   ],
   "source": [
    "l"
   ]
  },
  {
   "cell_type": "code",
   "execution_count": 9,
   "id": "12aec9b9-a2f7-42d2-9740-0c38ba072b08",
   "metadata": {},
   "outputs": [
    {
     "name": "stdout",
     "output_type": "stream",
     "text": [
      "1\n",
      "2\n",
      "4\n",
      "10\n",
      "20\n",
      "5\n"
     ]
    }
   ],
   "source": [
    "for i in l:\n",
    "    if type(i) == int:\n",
    "        print(i)\n",
    "    elif type(i) == list:\n",
    "        for data in i:\n",
    "            if type(data) == int:\n",
    "                print(data)"
   ]
  },
  {
   "cell_type": "code",
   "execution_count": 10,
   "id": "d4e7600c-cac3-4324-b170-573c602b2a9e",
   "metadata": {},
   "outputs": [
    {
     "name": "stdout",
     "output_type": "stream",
     "text": [
      "H\n",
      "e\n",
      "l\n",
      "l\n",
      "o\n",
      " \n",
      "P\n",
      "y\n",
      "t\n",
      "h\n",
      "o\n",
      "n\n"
     ]
    }
   ],
   "source": [
    "for i in 'Hello Python':\n",
    "    print(i)"
   ]
  },
  {
   "cell_type": "code",
   "execution_count": 22,
   "id": "0279795d-3d44-4ad7-957c-d14b178c237c",
   "metadata": {},
   "outputs": [],
   "source": [
    "l1 = ['Hello', 'Python', 'Data', 'Science',1]"
   ]
  },
  {
   "cell_type": "code",
   "execution_count": 23,
   "id": "2e1050a2-1225-4ea7-9ba1-8f03696e27e9",
   "metadata": {},
   "outputs": [
    {
     "name": "stdout",
     "output_type": "stream",
     "text": [
      "Hello\n",
      "Python\n",
      "Data\n",
      "Science\n",
      "1\n"
     ]
    }
   ],
   "source": [
    "for i in l1:\n",
    "    print(i)"
   ]
  },
  {
   "cell_type": "code",
   "execution_count": 24,
   "id": "d546274e-13b9-4792-9acd-627bb2ab9001",
   "metadata": {},
   "outputs": [
    {
     "name": "stdout",
     "output_type": "stream",
     "text": [
      "H\n",
      "e\n",
      "l\n",
      "l\n",
      "o\n",
      "P\n",
      "y\n",
      "t\n",
      "h\n",
      "o\n",
      "n\n",
      "D\n",
      "a\n",
      "t\n",
      "a\n",
      "S\n",
      "c\n",
      "i\n",
      "e\n",
      "n\n",
      "c\n",
      "e\n"
     ]
    }
   ],
   "source": [
    "for i in l1:\n",
    "    if type(i) == str:\n",
    "        for data in i:\n",
    "            print(data)"
   ]
  },
  {
   "cell_type": "code",
   "execution_count": 25,
   "id": "693d0c78-9f01-45a4-a591-ad6b372a06a4",
   "metadata": {},
   "outputs": [],
   "source": [
    "a = []\n",
    "for i in l1:\n",
    "    if type(i) == str:\n",
    "        for data in i:\n",
    "            a.append(data)"
   ]
  },
  {
   "cell_type": "code",
   "execution_count": 26,
   "id": "214a4a93-96ca-4400-bd70-f28bdea3e0f6",
   "metadata": {},
   "outputs": [
    {
     "data": {
      "text/plain": [
       "['H',\n",
       " 'e',\n",
       " 'l',\n",
       " 'l',\n",
       " 'o',\n",
       " 'P',\n",
       " 'y',\n",
       " 't',\n",
       " 'h',\n",
       " 'o',\n",
       " 'n',\n",
       " 'D',\n",
       " 'a',\n",
       " 't',\n",
       " 'a',\n",
       " 'S',\n",
       " 'c',\n",
       " 'i',\n",
       " 'e',\n",
       " 'n',\n",
       " 'c',\n",
       " 'e']"
      ]
     },
     "execution_count": 26,
     "metadata": {},
     "output_type": "execute_result"
    }
   ],
   "source": [
    "a"
   ]
  },
  {
   "cell_type": "code",
   "execution_count": 27,
   "id": "ac76cd5e-e30f-4c36-abb8-40b1fbdbf103",
   "metadata": {},
   "outputs": [
    {
     "data": {
      "text/plain": [
       "3"
      ]
     },
     "execution_count": 27,
     "metadata": {},
     "output_type": "execute_result"
    }
   ],
   "source": [
    "a.count('e')"
   ]
  },
  {
   "cell_type": "code",
   "execution_count": 28,
   "id": "4fc48987-6b8e-4229-812b-9187f7acd98a",
   "metadata": {},
   "outputs": [
    {
     "name": "stdout",
     "output_type": "stream",
     "text": [
      "My name starts with H\n",
      "My name starts with e\n",
      "My name starts with l\n",
      "My name starts with l\n",
      "My name starts with o\n",
      "My name starts with P\n",
      "My name starts with y\n",
      "My name starts with t\n",
      "My name starts with h\n",
      "My name starts with o\n",
      "My name starts with n\n",
      "My name starts with D\n",
      "My name starts with a\n",
      "My name starts with t\n",
      "My name starts with a\n",
      "My name starts with S\n",
      "My name starts with c\n",
      "My name starts with i\n",
      "My name starts with e\n",
      "My name starts with n\n",
      "My name starts with c\n",
      "My name starts with e\n"
     ]
    }
   ],
   "source": [
    "for i in l1:\n",
    "    if type(i) == str:\n",
    "        for data in i:\n",
    "            print('My name starts with',data)"
   ]
  },
  {
   "cell_type": "code",
   "execution_count": 29,
   "id": "b4e9ecf8-4482-4454-b373-31bb100f60a8",
   "metadata": {},
   "outputs": [],
   "source": [
    "# Break Continue pass"
   ]
  },
  {
   "cell_type": "markdown",
   "id": "ee34ba59-5a99-4b56-8030-21d8a6454cc9",
   "metadata": {},
   "source": [
    "# Break"
   ]
  },
  {
   "cell_type": "code",
   "execution_count": 32,
   "id": "56d33280-0c1e-45df-81af-8475169e6b3b",
   "metadata": {},
   "outputs": [
    {
     "name": "stdout",
     "output_type": "stream",
     "text": [
      "D\n",
      "a\n",
      "t\n",
      "a\n",
      " \n",
      "S\n",
      "c\n",
      "i\n"
     ]
    }
   ],
   "source": [
    "for i in 'Data Science':\n",
    "    if i == 'e':\n",
    "        break\n",
    "    print(i)"
   ]
  },
  {
   "cell_type": "code",
   "execution_count": 34,
   "id": "224597f0-cb71-447c-9f40-5ae3531014f3",
   "metadata": {},
   "outputs": [],
   "source": [
    "s = ['Vaibhav', 'Rahul', 'Aditi', 'Anushka']"
   ]
  },
  {
   "cell_type": "code",
   "execution_count": 35,
   "id": "7eb393ba-48b7-4d3c-97ca-6657fca04c39",
   "metadata": {},
   "outputs": [
    {
     "name": "stdout",
     "output_type": "stream",
     "text": [
      "You have recived Certification Vaibhav\n"
     ]
    }
   ],
   "source": [
    "for i in s:\n",
    "    if i  == 'Rahul':\n",
    "        break\n",
    "    print('You have recived Certification', i)"
   ]
  },
  {
   "cell_type": "code",
   "execution_count": 36,
   "id": "0e7e70ff-0c4b-4db0-bc98-b0f7c4458a74",
   "metadata": {},
   "outputs": [
    {
     "name": "stdout",
     "output_type": "stream",
     "text": [
      "1\n",
      "2\n"
     ]
    }
   ],
   "source": [
    "for i in range(1,6):\n",
    "    if i == 3:\n",
    "        break\n",
    "    print(i)"
   ]
  },
  {
   "cell_type": "markdown",
   "id": "0252f458-09ac-43f0-a71c-a2e5d6835b55",
   "metadata": {},
   "source": [
    "# Continue"
   ]
  },
  {
   "cell_type": "code",
   "execution_count": 37,
   "id": "4e87a4ca-5b4a-4b08-a3d0-771a571da5cb",
   "metadata": {},
   "outputs": [
    {
     "name": "stdout",
     "output_type": "stream",
     "text": [
      "D\n",
      "t\n",
      " \n",
      "S\n",
      "c\n",
      "i\n",
      "e\n",
      "n\n",
      "c\n",
      "e\n"
     ]
    }
   ],
   "source": [
    "for i in 'Data Science':\n",
    "    if i == 'a':\n",
    "        continue\n",
    "    print(i)"
   ]
  },
  {
   "cell_type": "code",
   "execution_count": 38,
   "id": "6748c90e-980d-449a-9ac2-a3aec553fcbf",
   "metadata": {},
   "outputs": [
    {
     "data": {
      "text/plain": [
       "['Vaibhav', 'Rahul', 'Aditi', 'Anushka']"
      ]
     },
     "execution_count": 38,
     "metadata": {},
     "output_type": "execute_result"
    }
   ],
   "source": [
    "s"
   ]
  },
  {
   "cell_type": "code",
   "execution_count": 39,
   "id": "02552b35-f421-43d3-b137-67309c6469ec",
   "metadata": {},
   "outputs": [
    {
     "name": "stdout",
     "output_type": "stream",
     "text": [
      "Vaibhav\n",
      "Aditi\n",
      "Anushka\n"
     ]
    }
   ],
   "source": [
    "for i in s:\n",
    "    if i == 'Rahul':\n",
    "        continue\n",
    "    print(i)"
   ]
  },
  {
   "cell_type": "code",
   "execution_count": 40,
   "id": "be737966-1eee-4ee8-9ab9-66fc0a852036",
   "metadata": {},
   "outputs": [
    {
     "name": "stdout",
     "output_type": "stream",
     "text": [
      "1\n",
      "2\n",
      "4\n",
      "5\n"
     ]
    }
   ],
   "source": [
    "for i in range(1,6):\n",
    "    if i == 3:\n",
    "        continue\n",
    "    print(i)"
   ]
  },
  {
   "cell_type": "markdown",
   "id": "6fd340a0-93da-43c3-9007-c9cab2d7a816",
   "metadata": {},
   "source": [
    "# Pass"
   ]
  },
  {
   "cell_type": "code",
   "execution_count": 41,
   "id": "9ac27334-13e8-4543-9e68-738e31f996d1",
   "metadata": {},
   "outputs": [
    {
     "ename": "SyntaxError",
     "evalue": "incomplete input (89759846.py, line 2)",
     "output_type": "error",
     "traceback": [
      "\u001b[1;36m  Cell \u001b[1;32mIn[41], line 2\u001b[1;36m\u001b[0m\n\u001b[1;33m    \u001b[0m\n\u001b[1;37m    ^\u001b[0m\n\u001b[1;31mSyntaxError\u001b[0m\u001b[1;31m:\u001b[0m incomplete input\n"
     ]
    }
   ],
   "source": [
    "for i in s:\n",
    "    "
   ]
  },
  {
   "cell_type": "code",
   "execution_count": 42,
   "id": "8a66cf85-6292-42e8-b083-067e43402a32",
   "metadata": {},
   "outputs": [],
   "source": [
    "for i in s:\n",
    "    pass"
   ]
  },
  {
   "cell_type": "code",
   "execution_count": 44,
   "id": "03933a87-c6ab-4983-9f66-2f72ece6f034",
   "metadata": {},
   "outputs": [
    {
     "data": {
      "text/plain": [
       "['Vaibhav', 'Rahul', 'Aditi', 'Anushka']"
      ]
     },
     "execution_count": 44,
     "metadata": {},
     "output_type": "execute_result"
    }
   ],
   "source": [
    "s"
   ]
  },
  {
   "cell_type": "code",
   "execution_count": 43,
   "id": "02322dca-37f3-4d71-86b8-06b77536d758",
   "metadata": {},
   "outputs": [
    {
     "name": "stdout",
     "output_type": "stream",
     "text": [
      "Vaibhav\n",
      "Aditi\n",
      "Anushka\n"
     ]
    }
   ],
   "source": [
    "for i in s:\n",
    "    if i == 'Rahul':\n",
    "        pass\n",
    "    else:\n",
    "        print(i)"
   ]
  },
  {
   "cell_type": "code",
   "execution_count": 45,
   "id": "4b4a982a-5d3b-4776-9fdb-98b4e8a4998f",
   "metadata": {},
   "outputs": [],
   "source": [
    "if 5 > 10:\n",
    "    pass"
   ]
  },
  {
   "cell_type": "code",
   "execution_count": 46,
   "id": "2b6d63af-405c-4360-b662-9f77c64b6711",
   "metadata": {},
   "outputs": [
    {
     "ename": "SyntaxError",
     "evalue": "incomplete input (2440532116.py, line 1)",
     "output_type": "error",
     "traceback": [
      "\u001b[1;36m  Cell \u001b[1;32mIn[46], line 1\u001b[1;36m\u001b[0m\n\u001b[1;33m    if 5 > 10:\u001b[0m\n\u001b[1;37m              ^\u001b[0m\n\u001b[1;31mSyntaxError\u001b[0m\u001b[1;31m:\u001b[0m incomplete input\n"
     ]
    }
   ],
   "source": [
    "if 5 > 10:"
   ]
  },
  {
   "cell_type": "code",
   "execution_count": null,
   "id": "6c041f11-24a0-4c25-b6d8-7a49acad7697",
   "metadata": {},
   "outputs": [],
   "source": []
  }
 ],
 "metadata": {
  "kernelspec": {
   "display_name": "Python 3 (ipykernel)",
   "language": "python",
   "name": "python3"
  },
  "language_info": {
   "codemirror_mode": {
    "name": "ipython",
    "version": 3
   },
   "file_extension": ".py",
   "mimetype": "text/x-python",
   "name": "python",
   "nbconvert_exporter": "python",
   "pygments_lexer": "ipython3",
   "version": "3.12.4"
  }
 },
 "nbformat": 4,
 "nbformat_minor": 5
}
