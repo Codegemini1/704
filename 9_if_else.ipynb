{
 "cells": [
  {
   "cell_type": "markdown",
   "id": "66f7a63d-810c-456a-b1ee-1dea0daa8f95",
   "metadata": {},
   "source": [
    "# If Else"
   ]
  },
  {
   "cell_type": "code",
   "execution_count": 3,
   "id": "debf5013-4267-4408-90ee-6081fc38cef4",
   "metadata": {},
   "outputs": [
    {
     "name": "stdout",
     "output_type": "stream",
     "text": [
      "Greater\n"
     ]
    }
   ],
   "source": [
    "if 10 > 5:\n",
    "    print('Greater')\n",
    "else:\n",
    "    print('Not greater')"
   ]
  },
  {
   "cell_type": "code",
   "execution_count": 2,
   "id": "01e17222-0e76-4112-9841-76031153273e",
   "metadata": {},
   "outputs": [
    {
     "data": {
      "text/plain": [
       "True"
      ]
     },
     "execution_count": 2,
     "metadata": {},
     "output_type": "execute_result"
    }
   ],
   "source": [
    "10 > 5"
   ]
  },
  {
   "cell_type": "code",
   "execution_count": 4,
   "id": "e6904ad2-cdff-4c48-9cf7-a2bb19e0efa7",
   "metadata": {},
   "outputs": [
    {
     "name": "stdout",
     "output_type": "stream",
     "text": [
      "Not smallar\n"
     ]
    }
   ],
   "source": [
    "if 10 < 5:\n",
    "    print('Smallar')\n",
    "else:\n",
    "    print('Not smallar')"
   ]
  },
  {
   "cell_type": "code",
   "execution_count": 6,
   "id": "2823643c-9761-4b25-b0f2-5756f0639b7f",
   "metadata": {},
   "outputs": [
    {
     "name": "stdin",
     "output_type": "stream",
     "text": [
      "Enter your age 18\n"
     ]
    },
    {
     "name": "stdout",
     "output_type": "stream",
     "text": [
      "Allowed to driving bike/car\n"
     ]
    }
   ],
   "source": [
    "age = int(input('Enter your age'))\n",
    "if age >= 18:\n",
    "    print('Allowed to driving bike/car')\n",
    "else:\n",
    "    print('Not allowed to drive bike/car')"
   ]
  },
  {
   "cell_type": "code",
   "execution_count": 8,
   "id": "61482fd7-6876-408c-b451-448963c434c7",
   "metadata": {},
   "outputs": [
    {
     "name": "stdin",
     "output_type": "stream",
     "text": [
      "Enter your password vaibhav\n"
     ]
    },
    {
     "name": "stdout",
     "output_type": "stream",
     "text": [
      "Right Password\n"
     ]
    }
   ],
   "source": [
    "password = input('Enter your password')\n",
    "if password == 'vaibhav':\n",
    "    print('Right Password')\n",
    "else:\n",
    "    print('Wrong Password')"
   ]
  },
  {
   "cell_type": "code",
   "execution_count": 9,
   "id": "6ce9f6f7-6ce7-4bbc-8eea-93c568940a0b",
   "metadata": {},
   "outputs": [
    {
     "data": {
      "text/plain": [
       "False"
      ]
     },
     "execution_count": 9,
     "metadata": {},
     "output_type": "execute_result"
    }
   ],
   "source": [
    "'kkudhjjdd' == 'vaibhav'"
   ]
  },
  {
   "cell_type": "code",
   "execution_count": 10,
   "id": "ec69149b-c443-4a8d-93e9-72fdc079e5eb",
   "metadata": {},
   "outputs": [
    {
     "data": {
      "text/plain": [
       "True"
      ]
     },
     "execution_count": 10,
     "metadata": {},
     "output_type": "execute_result"
    }
   ],
   "source": [
    "'vaibhav' == 'vaibhav'"
   ]
  },
  {
   "cell_type": "markdown",
   "id": "3083c8a1-9898-49ae-9c01-7471c0883cda",
   "metadata": {},
   "source": [
    "# If elif else"
   ]
  },
  {
   "cell_type": "code",
   "execution_count": 12,
   "id": "dd64e84b-a79b-43b4-99d8-76c7e732b751",
   "metadata": {},
   "outputs": [
    {
     "name": "stdout",
     "output_type": "stream",
     "text": [
      "Failed\n"
     ]
    }
   ],
   "source": [
    "marks = 15\n",
    "\n",
    "if marks > 90:\n",
    "    print('A+ ')\n",
    "elif marks > 80:\n",
    "    print('A')\n",
    "elif marks > 60:\n",
    "    print('B')\n",
    "elif marks > 35:\n",
    "    print('C')\n",
    "else:\n",
    "    print('Failed')"
   ]
  },
  {
   "cell_type": "code",
   "execution_count": 14,
   "id": "6e65e3da-1b48-4e8a-9a6e-0bf04a10e588",
   "metadata": {},
   "outputs": [
    {
     "name": "stdout",
     "output_type": "stream",
     "text": [
      "Student\n"
     ]
    }
   ],
   "source": [
    "age = 9\n",
    "\n",
    "if age > 60:\n",
    "    print('Old Person')\n",
    "elif age > 40:\n",
    "    print('Middle age person')\n",
    "elif age > 18:\n",
    "    print('Young Person')\n",
    "else:\n",
    "    print('Student')"
   ]
  },
  {
   "cell_type": "code",
   "execution_count": 18,
   "id": "86300593-bb20-4444-a668-f509132938f4",
   "metadata": {},
   "outputs": [
    {
     "name": "stdin",
     "output_type": "stream",
     "text": [
      "Enter your curse name python\n"
     ]
    },
    {
     "name": "stdout",
     "output_type": "stream",
     "text": [
      "Yes python course is availabel and its cost is 100$\n"
     ]
    }
   ],
   "source": [
    "course = input('Enter your curse name')\n",
    "\n",
    "if course == 'python':\n",
    "    print(f'Yes {course} course is availabel and its cost is 100$')\n",
    "elif course == 'java':\n",
    "    print(f'Yes {course} course is availabel and its cost is 80$')\n",
    "elif course == 'c':\n",
    "    print(f'Yes {course} course is availabel and its cost is 50$')\n",
    "else:\n",
    "    print(f'Sorry your course {course} is not availabel ')"
   ]
  },
  {
   "cell_type": "code",
   "execution_count": 20,
   "id": "5450cc64-b7fc-4270-ada0-5b4b7675f0b1",
   "metadata": {},
   "outputs": [
    {
     "name": "stdout",
     "output_type": "stream",
     "text": [
      "You got B Grade\n"
     ]
    }
   ],
   "source": [
    "marks = 54\n",
    "if marks >= 90 and marks <= 100:\n",
    "    print('You got A+ grade')\n",
    "elif marks >= 50 and marks < 90:\n",
    "    print('You got B Grade')\n",
    "elif marks >= 35 and marks < 50:\n",
    "    print('Pass')\n",
    "elif marks >= 0 and marks < 35:\n",
    "    print('Failed')\n",
    "else:\n",
    "    print('Write a valid marks between range of 0 - 100 marks')"
   ]
  },
  {
   "cell_type": "code",
   "execution_count": null,
   "id": "ae5f8016-32b4-45b8-bd2f-973dcd938611",
   "metadata": {},
   "outputs": [],
   "source": []
  }
 ],
 "metadata": {
  "kernelspec": {
   "display_name": "Python 3 (ipykernel)",
   "language": "python",
   "name": "python3"
  },
  "language_info": {
   "codemirror_mode": {
    "name": "ipython",
    "version": 3
   },
   "file_extension": ".py",
   "mimetype": "text/x-python",
   "name": "python",
   "nbconvert_exporter": "python",
   "pygments_lexer": "ipython3",
   "version": "3.12.4"
  }
 },
 "nbformat": 4,
 "nbformat_minor": 5
}
