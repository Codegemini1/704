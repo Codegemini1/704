{
 "cells": [
  {
   "cell_type": "code",
   "execution_count": 1,
   "id": "458258a6-6d25-40ab-b690-d07c76712296",
   "metadata": {},
   "outputs": [],
   "source": [
    "import logging"
   ]
  },
  {
   "cell_type": "code",
   "execution_count": 2,
   "id": "96d2f7dd-806b-481e-a8a8-0cc9171307ec",
   "metadata": {},
   "outputs": [],
   "source": [
    "logging.basicConfig(filename = 'test.log', level = logging.DEBUG, format = '%(asctime)s - %(levelname)s - %(message)s')"
   ]
  },
  {
   "cell_type": "code",
   "execution_count": 3,
   "id": "596ab914-3d09-4d6c-a36e-6e325f44a29d",
   "metadata": {},
   "outputs": [],
   "source": [
    "def add (x,y):\n",
    "    try:\n",
    "        logging.info('Entered into add function')\n",
    "        logging.info(f'adding {x} and {y}')\n",
    "        result = x + y\n",
    "        logging.info(f'result is {result}')\n",
    "        logging.info('Add function completed')\n",
    "    except Exception as e:\n",
    "        logging.error(e)"
   ]
  },
  {
   "cell_type": "code",
   "execution_count": 4,
   "id": "9e83fa7f-a8d1-4a02-9af8-04e376a778dd",
   "metadata": {},
   "outputs": [],
   "source": [
    "add(10,5)"
   ]
  },
  {
   "cell_type": "code",
   "execution_count": 5,
   "id": "03cbfed4-0b58-4394-ad41-ee2916cfc8d6",
   "metadata": {},
   "outputs": [
    {
     "data": {
      "text/plain": [
       "['Time', 'Product', 'id', 'spend', 'time']"
      ]
     },
     "execution_count": 5,
     "metadata": {},
     "output_type": "execute_result"
    }
   ],
   "source": [
    "'Time Product id spend time'.split()"
   ]
  },
  {
   "cell_type": "code",
   "execution_count": null,
   "id": "81d9c56e-2240-401e-9e2f-3726dabb72d1",
   "metadata": {},
   "outputs": [],
   "source": []
  }
 ],
 "metadata": {
  "kernelspec": {
   "display_name": "Python 3 (ipykernel)",
   "language": "python",
   "name": "python3"
  },
  "language_info": {
   "codemirror_mode": {
    "name": "ipython",
    "version": 3
   },
   "file_extension": ".py",
   "mimetype": "text/x-python",
   "name": "python",
   "nbconvert_exporter": "python",
   "pygments_lexer": "ipython3",
   "version": "3.12.4"
  }
 },
 "nbformat": 4,
 "nbformat_minor": 5
}
