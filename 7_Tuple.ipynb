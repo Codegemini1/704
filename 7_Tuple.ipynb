{
 "cells": [
  {
   "cell_type": "markdown",
   "id": "c6fb3891-b718-4bcd-847a-daea63915f47",
   "metadata": {},
   "source": [
    "# Tuple"
   ]
  },
  {
   "cell_type": "code",
   "execution_count": 1,
   "id": "0227ac98-46a8-4b64-8ac9-7b684586ac5b",
   "metadata": {},
   "outputs": [],
   "source": [
    "t = (1,2,3,4)"
   ]
  },
  {
   "cell_type": "code",
   "execution_count": 3,
   "id": "c593879d-4f50-40f1-8266-df8ec0c1257c",
   "metadata": {},
   "outputs": [
    {
     "data": {
      "text/plain": [
       "tuple"
      ]
     },
     "execution_count": 3,
     "metadata": {},
     "output_type": "execute_result"
    }
   ],
   "source": [
    "type(t)"
   ]
  },
  {
   "cell_type": "code",
   "execution_count": 4,
   "id": "1ae7bc1c-cf23-435f-bd87-1f82fa827d88",
   "metadata": {},
   "outputs": [
    {
     "data": {
      "text/plain": [
       "3"
      ]
     },
     "execution_count": 4,
     "metadata": {},
     "output_type": "execute_result"
    }
   ],
   "source": [
    "t[2]"
   ]
  },
  {
   "cell_type": "code",
   "execution_count": 5,
   "id": "ed970ab2-c1b1-4e52-a2ef-b5e738a5ed36",
   "metadata": {},
   "outputs": [],
   "source": [
    "a = (10,20,'Hello', True)"
   ]
  },
  {
   "cell_type": "code",
   "execution_count": 6,
   "id": "2743011f-7ac6-47b4-9677-664ad5181d02",
   "metadata": {},
   "outputs": [
    {
     "data": {
      "text/plain": [
       "(10, 20, 'Hello', True)"
      ]
     },
     "execution_count": 6,
     "metadata": {},
     "output_type": "execute_result"
    }
   ],
   "source": [
    "a"
   ]
  },
  {
   "cell_type": "code",
   "execution_count": 7,
   "id": "9361a2db-8a04-4a61-b10c-af09e1084fe9",
   "metadata": {},
   "outputs": [
    {
     "data": {
      "text/plain": [
       "'Hello'"
      ]
     },
     "execution_count": 7,
     "metadata": {},
     "output_type": "execute_result"
    }
   ],
   "source": [
    "a[2]"
   ]
  },
  {
   "cell_type": "code",
   "execution_count": 8,
   "id": "58f2e140-c4ef-4495-bd24-e574141e75e9",
   "metadata": {},
   "outputs": [
    {
     "ename": "TypeError",
     "evalue": "'tuple' object does not support item assignment",
     "output_type": "error",
     "traceback": [
      "\u001b[1;31m---------------------------------------------------------------------------\u001b[0m",
      "\u001b[1;31mTypeError\u001b[0m                                 Traceback (most recent call last)",
      "Cell \u001b[1;32mIn[8], line 1\u001b[0m\n\u001b[1;32m----> 1\u001b[0m a[\u001b[38;5;241m0\u001b[39m] \u001b[38;5;241m=\u001b[39m \u001b[38;5;241m1000\u001b[39m\n",
      "\u001b[1;31mTypeError\u001b[0m: 'tuple' object does not support item assignment"
     ]
    }
   ],
   "source": [
    "a[0] = 1000"
   ]
  },
  {
   "cell_type": "code",
   "execution_count": 9,
   "id": "5bfbe09d-bf60-4dee-8f76-52116269aa08",
   "metadata": {},
   "outputs": [],
   "source": [
    "s = (1,4,7,3,7)"
   ]
  },
  {
   "cell_type": "code",
   "execution_count": 10,
   "id": "8241e753-cd44-4abc-9116-e213c491ff0e",
   "metadata": {},
   "outputs": [
    {
     "data": {
      "text/plain": [
       "(1, 4, 7, 3, 7)"
      ]
     },
     "execution_count": 10,
     "metadata": {},
     "output_type": "execute_result"
    }
   ],
   "source": [
    "s"
   ]
  },
  {
   "cell_type": "code",
   "execution_count": 11,
   "id": "c513f62b-282e-4c05-90f7-9ef6dce3fb14",
   "metadata": {},
   "outputs": [],
   "source": [
    "# Diff b/w List and tuple"
   ]
  },
  {
   "cell_type": "code",
   "execution_count": 12,
   "id": "ced748d9-cf1d-42ec-a57a-07b5126d94ee",
   "metadata": {},
   "outputs": [
    {
     "data": {
      "text/plain": [
       "1"
      ]
     },
     "execution_count": 12,
     "metadata": {},
     "output_type": "execute_result"
    }
   ],
   "source": [
    "s.count(4)"
   ]
  },
  {
   "cell_type": "code",
   "execution_count": 13,
   "id": "051d6af7-840a-4ff3-815e-d1c54e848f79",
   "metadata": {},
   "outputs": [
    {
     "data": {
      "text/plain": [
       "3"
      ]
     },
     "execution_count": 13,
     "metadata": {},
     "output_type": "execute_result"
    }
   ],
   "source": [
    "s.index(3)"
   ]
  },
  {
   "cell_type": "code",
   "execution_count": 14,
   "id": "9c3ab2f9-a28d-4fb4-9ccc-b82f2c80cb62",
   "metadata": {},
   "outputs": [
    {
     "data": {
      "text/plain": [
       "(1, 4, 7, 3, 7)"
      ]
     },
     "execution_count": 14,
     "metadata": {},
     "output_type": "execute_result"
    }
   ],
   "source": [
    "s"
   ]
  },
  {
   "cell_type": "code",
   "execution_count": 16,
   "id": "71356258-3c9d-411a-bcc9-5b1eebe335bb",
   "metadata": {},
   "outputs": [],
   "source": [
    "s = list(s)"
   ]
  },
  {
   "cell_type": "code",
   "execution_count": 17,
   "id": "379fe172-6c13-4ece-a2b9-d78d23de7c86",
   "metadata": {},
   "outputs": [
    {
     "data": {
      "text/plain": [
       "[1, 4, 7, 3, 7]"
      ]
     },
     "execution_count": 17,
     "metadata": {},
     "output_type": "execute_result"
    }
   ],
   "source": [
    "s"
   ]
  },
  {
   "cell_type": "code",
   "execution_count": 18,
   "id": "6aea2e0c-5c06-43d0-9b15-c14de2edf621",
   "metadata": {},
   "outputs": [
    {
     "data": {
      "text/plain": [
       "list"
      ]
     },
     "execution_count": 18,
     "metadata": {},
     "output_type": "execute_result"
    }
   ],
   "source": [
    "type(s)"
   ]
  },
  {
   "cell_type": "code",
   "execution_count": 19,
   "id": "342e7629-89ca-41ae-9b8a-1aeeb77fcd93",
   "metadata": {},
   "outputs": [],
   "source": [
    "s[0] = 1000"
   ]
  },
  {
   "cell_type": "code",
   "execution_count": 20,
   "id": "33da3ea8-73cb-437b-9271-2fbbabde532c",
   "metadata": {},
   "outputs": [
    {
     "data": {
      "text/plain": [
       "[1000, 4, 7, 3, 7]"
      ]
     },
     "execution_count": 20,
     "metadata": {},
     "output_type": "execute_result"
    }
   ],
   "source": [
    "s"
   ]
  },
  {
   "cell_type": "code",
   "execution_count": 22,
   "id": "fac84eed-cf00-406e-8d9d-3868349123d9",
   "metadata": {},
   "outputs": [],
   "source": [
    "s = tuple(s)"
   ]
  },
  {
   "cell_type": "code",
   "execution_count": 23,
   "id": "fa443913-14fa-4017-a9dd-f3b58ae14bf3",
   "metadata": {},
   "outputs": [
    {
     "data": {
      "text/plain": [
       "(1000, 4, 7, 3, 7)"
      ]
     },
     "execution_count": 23,
     "metadata": {},
     "output_type": "execute_result"
    }
   ],
   "source": [
    "s"
   ]
  },
  {
   "cell_type": "code",
   "execution_count": 24,
   "id": "99194853-9393-4e43-8ba4-cf2bdd1fef62",
   "metadata": {},
   "outputs": [],
   "source": [
    "t1 = (10,20,30,(1,2,3,4),40,50)"
   ]
  },
  {
   "cell_type": "code",
   "execution_count": 25,
   "id": "773f983d-1851-41a4-a885-bc64f9ef48cf",
   "metadata": {},
   "outputs": [
    {
     "data": {
      "text/plain": [
       "(10, 20, 30, (1, 2, 3, 4), 40, 50)"
      ]
     },
     "execution_count": 25,
     "metadata": {},
     "output_type": "execute_result"
    }
   ],
   "source": [
    "t1"
   ]
  },
  {
   "cell_type": "code",
   "execution_count": 30,
   "id": "e37f3cf8-e57e-4a92-a557-205ffdb4aa7b",
   "metadata": {},
   "outputs": [
    {
     "data": {
      "text/plain": [
       "2"
      ]
     },
     "execution_count": 30,
     "metadata": {},
     "output_type": "execute_result"
    }
   ],
   "source": [
    "t1[3][1]"
   ]
  },
  {
   "cell_type": "code",
   "execution_count": 31,
   "id": "86b46e73-84ca-4926-9d49-6fc0a16595da",
   "metadata": {},
   "outputs": [
    {
     "data": {
      "text/plain": [
       "(1000, 4, 7, 3, 7)"
      ]
     },
     "execution_count": 31,
     "metadata": {},
     "output_type": "execute_result"
    }
   ],
   "source": [
    "s"
   ]
  },
  {
   "cell_type": "code",
   "execution_count": 32,
   "id": "06999d50-e6ab-44bd-8deb-3caf484b8d8e",
   "metadata": {},
   "outputs": [
    {
     "data": {
      "text/plain": [
       "(1, 2, 3, 4)"
      ]
     },
     "execution_count": 32,
     "metadata": {},
     "output_type": "execute_result"
    }
   ],
   "source": [
    "t"
   ]
  },
  {
   "cell_type": "code",
   "execution_count": 33,
   "id": "f1d02f67-9906-4442-8894-10d745503bd9",
   "metadata": {},
   "outputs": [
    {
     "data": {
      "text/plain": [
       "(1, 2, 3, 4, 1000, 4, 7, 3, 7)"
      ]
     },
     "execution_count": 33,
     "metadata": {},
     "output_type": "execute_result"
    }
   ],
   "source": [
    "t + s"
   ]
  },
  {
   "cell_type": "markdown",
   "id": "3df727e8-084c-4154-bc6e-ad82db4eb241",
   "metadata": {},
   "source": [
    "# Set"
   ]
  },
  {
   "cell_type": "code",
   "execution_count": 34,
   "id": "b786b1b3-7d2b-4013-b41c-5fb4697262d7",
   "metadata": {},
   "outputs": [],
   "source": [
    "s = {10,20,30}"
   ]
  },
  {
   "cell_type": "code",
   "execution_count": 35,
   "id": "74087b04-083f-481f-8d99-780d347d0487",
   "metadata": {},
   "outputs": [
    {
     "data": {
      "text/plain": [
       "{10, 20, 30}"
      ]
     },
     "execution_count": 35,
     "metadata": {},
     "output_type": "execute_result"
    }
   ],
   "source": [
    "s"
   ]
  },
  {
   "cell_type": "code",
   "execution_count": 36,
   "id": "38eac02e-29ac-4e20-b971-37c0dd439697",
   "metadata": {},
   "outputs": [
    {
     "data": {
      "text/plain": [
       "set"
      ]
     },
     "execution_count": 36,
     "metadata": {},
     "output_type": "execute_result"
    }
   ],
   "source": [
    "type(s)"
   ]
  },
  {
   "cell_type": "code",
   "execution_count": 37,
   "id": "03f7207f-7fec-4113-99a7-a43c2f38080c",
   "metadata": {},
   "outputs": [],
   "source": [
    "s1 = {1,1,2,2,3,3,4,4,5,5}"
   ]
  },
  {
   "cell_type": "code",
   "execution_count": 38,
   "id": "3ab1b21d-6272-4a54-b7a6-f3739bd64e91",
   "metadata": {},
   "outputs": [
    {
     "data": {
      "text/plain": [
       "{1, 2, 3, 4, 5}"
      ]
     },
     "execution_count": 38,
     "metadata": {},
     "output_type": "execute_result"
    }
   ],
   "source": [
    "s1"
   ]
  },
  {
   "cell_type": "code",
   "execution_count": 39,
   "id": "b90ad0ac-7859-424c-b4d9-aad4257989e9",
   "metadata": {},
   "outputs": [
    {
     "data": {
      "text/plain": [
       "(1, 2, 3, 4)"
      ]
     },
     "execution_count": 39,
     "metadata": {},
     "output_type": "execute_result"
    }
   ],
   "source": [
    "t"
   ]
  },
  {
   "cell_type": "code",
   "execution_count": 40,
   "id": "c1ec564c-8369-4718-8d47-5b18c3a0424f",
   "metadata": {},
   "outputs": [
    {
     "data": {
      "text/plain": [
       "{1, 2, 3, 4}"
      ]
     },
     "execution_count": 40,
     "metadata": {},
     "output_type": "execute_result"
    }
   ],
   "source": [
    "set(t)"
   ]
  },
  {
   "cell_type": "code",
   "execution_count": 41,
   "id": "e0bd0dd1-e6c0-4123-8086-2c0168d20d68",
   "metadata": {},
   "outputs": [],
   "source": [
    "a = {1,2,3,4}"
   ]
  },
  {
   "cell_type": "code",
   "execution_count": 42,
   "id": "48e91a30-e8e6-4fe4-930b-68db15056d9d",
   "metadata": {},
   "outputs": [],
   "source": [
    "b = {3,4,5,6}"
   ]
  },
  {
   "cell_type": "code",
   "execution_count": 43,
   "id": "0cc1bd48-8e4c-4a0b-832c-fb530c90b608",
   "metadata": {},
   "outputs": [
    {
     "data": {
      "text/plain": [
       "{1, 2, 3, 4, 5, 6}"
      ]
     },
     "execution_count": 43,
     "metadata": {},
     "output_type": "execute_result"
    }
   ],
   "source": [
    "a.union(b)"
   ]
  },
  {
   "cell_type": "code",
   "execution_count": 44,
   "id": "ad8942d1-0212-4667-af26-960e6ad52cb7",
   "metadata": {},
   "outputs": [
    {
     "data": {
      "text/plain": [
       "{3, 4}"
      ]
     },
     "execution_count": 44,
     "metadata": {},
     "output_type": "execute_result"
    }
   ],
   "source": [
    "a.intersection(b)"
   ]
  },
  {
   "cell_type": "code",
   "execution_count": 45,
   "id": "eff49d95-a2e9-4e8d-a510-9fc9ce659b3d",
   "metadata": {},
   "outputs": [
    {
     "data": {
      "text/plain": [
       "{1, 2}"
      ]
     },
     "execution_count": 45,
     "metadata": {},
     "output_type": "execute_result"
    }
   ],
   "source": [
    "a.difference(b)"
   ]
  },
  {
   "cell_type": "code",
   "execution_count": 46,
   "id": "d8918dcc-414b-41a8-aa56-fbe827a8a8c3",
   "metadata": {},
   "outputs": [
    {
     "data": {
      "text/plain": [
       "{5, 6}"
      ]
     },
     "execution_count": 46,
     "metadata": {},
     "output_type": "execute_result"
    }
   ],
   "source": [
    "b.difference(a)"
   ]
  },
  {
   "cell_type": "markdown",
   "id": "5e74e6f0-a56a-4235-a46c-b3053117059c",
   "metadata": {},
   "source": [
    "# Dict"
   ]
  },
  {
   "cell_type": "code",
   "execution_count": 47,
   "id": "6ccfa1f6-ae99-461d-9627-5d15639a05f3",
   "metadata": {},
   "outputs": [],
   "source": [
    "d = {'a':1,'b':2}"
   ]
  },
  {
   "cell_type": "code",
   "execution_count": 48,
   "id": "05e957f9-03d6-476b-87fe-1be252176118",
   "metadata": {},
   "outputs": [
    {
     "data": {
      "text/plain": [
       "{'a': 1, 'b': 2}"
      ]
     },
     "execution_count": 48,
     "metadata": {},
     "output_type": "execute_result"
    }
   ],
   "source": [
    "d"
   ]
  },
  {
   "cell_type": "code",
   "execution_count": 49,
   "id": "a39b4f5d-c91a-476d-9467-6d369d931595",
   "metadata": {},
   "outputs": [
    {
     "data": {
      "text/plain": [
       "dict"
      ]
     },
     "execution_count": 49,
     "metadata": {},
     "output_type": "execute_result"
    }
   ],
   "source": [
    "type(d)"
   ]
  },
  {
   "cell_type": "code",
   "execution_count": 50,
   "id": "c3275a7b-fe3a-4192-a89c-4180c72700cf",
   "metadata": {},
   "outputs": [],
   "source": [
    "d1 = {'Name':'Vaibhav' , 'City':'Pune', 'Mobile_No':81292738}"
   ]
  },
  {
   "cell_type": "code",
   "execution_count": 51,
   "id": "1d5c9301-092c-4370-8041-a6c9dd06a661",
   "metadata": {},
   "outputs": [
    {
     "data": {
      "text/plain": [
       "{'Name': 'Vaibhav', 'City': 'Pune', 'Mobile_No': 81292738}"
      ]
     },
     "execution_count": 51,
     "metadata": {},
     "output_type": "execute_result"
    }
   ],
   "source": [
    "d1"
   ]
  },
  {
   "cell_type": "code",
   "execution_count": 52,
   "id": "f50ff4b3-8edd-427f-aaee-f2e4d02eb0b1",
   "metadata": {},
   "outputs": [
    {
     "data": {
      "text/plain": [
       "81292738"
      ]
     },
     "execution_count": 52,
     "metadata": {},
     "output_type": "execute_result"
    }
   ],
   "source": [
    "d1['Mobile_No']"
   ]
  },
  {
   "cell_type": "code",
   "execution_count": 53,
   "id": "a7e9e194-7a07-4b79-ae12-ff6201fc6287",
   "metadata": {},
   "outputs": [
    {
     "data": {
      "text/plain": [
       "'Pune'"
      ]
     },
     "execution_count": 53,
     "metadata": {},
     "output_type": "execute_result"
    }
   ],
   "source": [
    "d1['City']"
   ]
  },
  {
   "cell_type": "code",
   "execution_count": 54,
   "id": "1cdc138f-0782-4f93-9c4d-1ad4ff5d2c43",
   "metadata": {},
   "outputs": [
    {
     "data": {
      "text/plain": [
       "'Vaibhav'"
      ]
     },
     "execution_count": 54,
     "metadata": {},
     "output_type": "execute_result"
    }
   ],
   "source": [
    "d1['Name']"
   ]
  },
  {
   "cell_type": "code",
   "execution_count": 55,
   "id": "ad3336a6-0102-4b7e-ad6c-1585cb6afc06",
   "metadata": {},
   "outputs": [],
   "source": [
    "# Update"
   ]
  },
  {
   "cell_type": "code",
   "execution_count": 56,
   "id": "b60c0c83-f2ef-4790-a7d0-8f5be06905f9",
   "metadata": {},
   "outputs": [],
   "source": [
    "d1['Mobile_No'] = 999283749"
   ]
  },
  {
   "cell_type": "code",
   "execution_count": 57,
   "id": "d21a5724-42ec-4dcf-8962-e70ae7a98103",
   "metadata": {},
   "outputs": [
    {
     "data": {
      "text/plain": [
       "{'Name': 'Vaibhav', 'City': 'Pune', 'Mobile_No': 999283749}"
      ]
     },
     "execution_count": 57,
     "metadata": {},
     "output_type": "execute_result"
    }
   ],
   "source": [
    "d1"
   ]
  },
  {
   "cell_type": "code",
   "execution_count": 58,
   "id": "ca3181de-fbaf-401c-bb82-54f2959f572f",
   "metadata": {},
   "outputs": [],
   "source": [
    "# New key and value"
   ]
  },
  {
   "cell_type": "code",
   "execution_count": 59,
   "id": "2540622e-742a-4547-88cf-e7644847e708",
   "metadata": {},
   "outputs": [],
   "source": [
    "d1['Roll_No'] = 13"
   ]
  },
  {
   "cell_type": "code",
   "execution_count": 60,
   "id": "080a1847-2f26-407d-9eb3-8dd32bc19b18",
   "metadata": {},
   "outputs": [
    {
     "data": {
      "text/plain": [
       "{'Name': 'Vaibhav', 'City': 'Pune', 'Mobile_No': 999283749, 'Roll_No': 13}"
      ]
     },
     "execution_count": 60,
     "metadata": {},
     "output_type": "execute_result"
    }
   ],
   "source": [
    "d1"
   ]
  },
  {
   "cell_type": "code",
   "execution_count": 61,
   "id": "3028332f-c1a4-45e4-a225-97cb94005a7b",
   "metadata": {},
   "outputs": [
    {
     "data": {
      "text/plain": [
       "dict_keys(['Name', 'City', 'Mobile_No', 'Roll_No'])"
      ]
     },
     "execution_count": 61,
     "metadata": {},
     "output_type": "execute_result"
    }
   ],
   "source": [
    "d1.keys()"
   ]
  },
  {
   "cell_type": "code",
   "execution_count": 62,
   "id": "ef9727a1-5b56-4200-ba4e-906d3526235a",
   "metadata": {},
   "outputs": [
    {
     "data": {
      "text/plain": [
       "dict_values(['Vaibhav', 'Pune', 999283749, 13])"
      ]
     },
     "execution_count": 62,
     "metadata": {},
     "output_type": "execute_result"
    }
   ],
   "source": [
    "d1.values()"
   ]
  },
  {
   "cell_type": "code",
   "execution_count": 63,
   "id": "5cf03a88-6496-401d-83b5-ef1e15deddbb",
   "metadata": {},
   "outputs": [],
   "source": [
    "a = {'List_1':[1,2,3,4,5,6], 'Tuple_1':(10,20,30),'Set_1':{1,2,3,4,5}}"
   ]
  },
  {
   "cell_type": "code",
   "execution_count": 64,
   "id": "beef02bf-5ca6-4d3f-b9f6-88894509bd1b",
   "metadata": {},
   "outputs": [
    {
     "data": {
      "text/plain": [
       "{'List_1': [1, 2, 3, 4, 5, 6],\n",
       " 'Tuple_1': (10, 20, 30),\n",
       " 'Set_1': {1, 2, 3, 4, 5}}"
      ]
     },
     "execution_count": 64,
     "metadata": {},
     "output_type": "execute_result"
    }
   ],
   "source": [
    "a"
   ]
  },
  {
   "cell_type": "code",
   "execution_count": null,
   "id": "5e0933d9-3eef-4269-9e17-d2405a3003c3",
   "metadata": {},
   "outputs": [],
   "source": []
  }
 ],
 "metadata": {
  "kernelspec": {
   "display_name": "Python 3 (ipykernel)",
   "language": "python",
   "name": "python3"
  },
  "language_info": {
   "codemirror_mode": {
    "name": "ipython",
    "version": 3
   },
   "file_extension": ".py",
   "mimetype": "text/x-python",
   "name": "python",
   "nbconvert_exporter": "python",
   "pygments_lexer": "ipython3",
   "version": "3.12.4"
  }
 },
 "nbformat": 4,
 "nbformat_minor": 5
}
