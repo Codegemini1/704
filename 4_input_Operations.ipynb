{
 "cells": [
  {
   "cell_type": "code",
   "execution_count": 1,
   "id": "e7c54601-e6dc-4142-a495-af1fd03d2aa3",
   "metadata": {},
   "outputs": [],
   "source": [
    "name = 'Vaibhav'"
   ]
  },
  {
   "cell_type": "code",
   "execution_count": 2,
   "id": "9b6e4696-6066-4aac-a952-89dd1bb3800f",
   "metadata": {},
   "outputs": [
    {
     "data": {
      "text/plain": [
       "'VaibhavVaibhavVaibhav'"
      ]
     },
     "execution_count": 2,
     "metadata": {},
     "output_type": "execute_result"
    }
   ],
   "source": [
    "name * 3"
   ]
  },
  {
   "cell_type": "markdown",
   "id": "9e8de573-1861-4432-8cf2-0cd4664d6da4",
   "metadata": {},
   "source": [
    "# How to take user input"
   ]
  },
  {
   "cell_type": "code",
   "execution_count": 3,
   "id": "6fd3c087-6022-4e42-b16c-5045549ad730",
   "metadata": {},
   "outputs": [
    {
     "name": "stdin",
     "output_type": "stream",
     "text": [
      "Write your name Vaibahv\n"
     ]
    }
   ],
   "source": [
    "name = input('Write your name')"
   ]
  },
  {
   "cell_type": "code",
   "execution_count": 4,
   "id": "d3fcbcfa-45d3-4895-a147-c650482f7b77",
   "metadata": {},
   "outputs": [
    {
     "data": {
      "text/plain": [
       "'Vaibahv'"
      ]
     },
     "execution_count": 4,
     "metadata": {},
     "output_type": "execute_result"
    }
   ],
   "source": [
    "name"
   ]
  },
  {
   "cell_type": "code",
   "execution_count": 5,
   "id": "a4079a8f-0b20-4170-9d96-09ba421a6269",
   "metadata": {},
   "outputs": [
    {
     "name": "stdin",
     "output_type": "stream",
     "text": [
      "Write your city name Pune\n"
     ]
    }
   ],
   "source": [
    "city = input('Write your city name')"
   ]
  },
  {
   "cell_type": "code",
   "execution_count": 6,
   "id": "5ba52d18-2de0-4107-9fed-8c11d3c1a7ab",
   "metadata": {},
   "outputs": [
    {
     "data": {
      "text/plain": [
       "'Pune'"
      ]
     },
     "execution_count": 6,
     "metadata": {},
     "output_type": "execute_result"
    }
   ],
   "source": [
    "city"
   ]
  },
  {
   "cell_type": "code",
   "execution_count": 7,
   "id": "a9f96cec-1e34-46bc-a4ec-305e59de15b4",
   "metadata": {},
   "outputs": [
    {
     "data": {
      "text/plain": [
       "'Your city name is Pune'"
      ]
     },
     "execution_count": 7,
     "metadata": {},
     "output_type": "execute_result"
    }
   ],
   "source": [
    "'Your city name is ' + city"
   ]
  },
  {
   "cell_type": "code",
   "execution_count": 8,
   "id": "0d093419-cc18-4240-b3fe-b4bca63b1bb5",
   "metadata": {},
   "outputs": [
    {
     "name": "stdout",
     "output_type": "stream",
     "text": [
      "Your city name is Pune\n"
     ]
    }
   ],
   "source": [
    "print(f'Your city name is {city}')"
   ]
  },
  {
   "cell_type": "code",
   "execution_count": 9,
   "id": "b234c20c-e3dd-4e2b-aae6-89554c42ab32",
   "metadata": {},
   "outputs": [
    {
     "data": {
      "text/plain": [
       "('Your city name is', 'Pune')"
      ]
     },
     "execution_count": 9,
     "metadata": {},
     "output_type": "execute_result"
    }
   ],
   "source": [
    "'Your city name is', city"
   ]
  },
  {
   "cell_type": "code",
   "execution_count": 10,
   "id": "e95089e8-eda8-4598-b1f2-508953d330b4",
   "metadata": {},
   "outputs": [
    {
     "name": "stdin",
     "output_type": "stream",
     "text": [
      "Write your fev color name Red\n"
     ]
    }
   ],
   "source": [
    "color = input('Write your fev color name')"
   ]
  },
  {
   "cell_type": "code",
   "execution_count": 11,
   "id": "4fc89aeb-e4e4-4bb0-a75d-1b93f33917b4",
   "metadata": {},
   "outputs": [
    {
     "data": {
      "text/plain": [
       "'Red'"
      ]
     },
     "execution_count": 11,
     "metadata": {},
     "output_type": "execute_result"
    }
   ],
   "source": [
    "color"
   ]
  },
  {
   "cell_type": "code",
   "execution_count": 13,
   "id": "b7e16edb-80e5-4af9-bd90-ec4ef7c5dd73",
   "metadata": {},
   "outputs": [
    {
     "name": "stdout",
     "output_type": "stream",
     "text": [
      "Your fev color is Red and your city name is Pune\n"
     ]
    }
   ],
   "source": [
    "print(f'Your fev color is {color} and your city name is {city}')"
   ]
  },
  {
   "cell_type": "code",
   "execution_count": 15,
   "id": "c9dfee34-cdf6-45e6-a696-55b0ff337570",
   "metadata": {},
   "outputs": [
    {
     "name": "stdin",
     "output_type": "stream",
     "text": [
      "Write your first name Om\n",
      "Write your last name Dixit\n"
     ]
    },
    {
     "name": "stdout",
     "output_type": "stream",
     "text": [
      "Your first name is Om and your last name is Dixit\n"
     ]
    }
   ],
   "source": [
    "first_name = input('Write your first name')\n",
    "last_name = input('Write your last name')\n",
    "print(f'Your first name is {first_name} and your last name is {last_name}')"
   ]
  },
  {
   "cell_type": "code",
   "execution_count": 16,
   "id": "ce9dae96-dbb2-4cb7-b58c-7576fd409727",
   "metadata": {},
   "outputs": [
    {
     "data": {
      "text/plain": [
       "str"
      ]
     },
     "execution_count": 16,
     "metadata": {},
     "output_type": "execute_result"
    }
   ],
   "source": [
    "type(first_name)"
   ]
  },
  {
   "cell_type": "code",
   "execution_count": 17,
   "id": "d82116c8-e79e-4135-b388-3631424ba193",
   "metadata": {},
   "outputs": [
    {
     "name": "stdin",
     "output_type": "stream",
     "text": [
      "Write your age 76\n"
     ]
    }
   ],
   "source": [
    "age = input('Write your age')"
   ]
  },
  {
   "cell_type": "code",
   "execution_count": 18,
   "id": "ebe26531-0800-49b7-9be2-cda462955e93",
   "metadata": {},
   "outputs": [
    {
     "data": {
      "text/plain": [
       "'76'"
      ]
     },
     "execution_count": 18,
     "metadata": {},
     "output_type": "execute_result"
    }
   ],
   "source": [
    "age"
   ]
  },
  {
   "cell_type": "code",
   "execution_count": 19,
   "id": "2982e13f-915d-46ff-9974-e3c2b04228ff",
   "metadata": {},
   "outputs": [
    {
     "data": {
      "text/plain": [
       "str"
      ]
     },
     "execution_count": 19,
     "metadata": {},
     "output_type": "execute_result"
    }
   ],
   "source": [
    "type(age)"
   ]
  },
  {
   "cell_type": "code",
   "execution_count": 24,
   "id": "b30bdd96-e1c5-4dd8-b2a9-1b365fc07e7c",
   "metadata": {},
   "outputs": [
    {
     "name": "stdin",
     "output_type": "stream",
     "text": [
      "Write your age 46\n"
     ]
    }
   ],
   "source": [
    "age = int(input('Write your age'))"
   ]
  },
  {
   "cell_type": "code",
   "execution_count": 21,
   "id": "3b3036dd-0cef-4446-b6eb-99eabfc27422",
   "metadata": {},
   "outputs": [
    {
     "data": {
      "text/plain": [
       "int"
      ]
     },
     "execution_count": 21,
     "metadata": {},
     "output_type": "execute_result"
    }
   ],
   "source": [
    "type(age)"
   ]
  },
  {
   "cell_type": "code",
   "execution_count": 25,
   "id": "745f550e-68d3-4404-a6c3-3830ace78996",
   "metadata": {},
   "outputs": [
    {
     "name": "stdin",
     "output_type": "stream",
     "text": [
      "Write your age 43\n"
     ]
    },
    {
     "name": "stdout",
     "output_type": "stream",
     "text": [
      "Your age is 43\n"
     ]
    }
   ],
   "source": [
    "age = int(input('Write your age'))\n",
    "print(f'Your age is {age}')"
   ]
  },
  {
   "cell_type": "code",
   "execution_count": 26,
   "id": "92c45bb1-d056-4793-8c97-3997a31006ae",
   "metadata": {},
   "outputs": [
    {
     "data": {
      "text/plain": [
       "('Your age is', 43)"
      ]
     },
     "execution_count": 26,
     "metadata": {},
     "output_type": "execute_result"
    }
   ],
   "source": [
    "'Your age is', age"
   ]
  },
  {
   "cell_type": "code",
   "execution_count": 27,
   "id": "ecb40e4d-3401-4fbd-a0b5-0a15e35133fd",
   "metadata": {},
   "outputs": [
    {
     "name": "stdin",
     "output_type": "stream",
     "text": [
      "Write your height in feet 5.5\n"
     ]
    }
   ],
   "source": [
    "height = float(input('Write your height in feet'))"
   ]
  },
  {
   "cell_type": "code",
   "execution_count": 28,
   "id": "c4ec7d3e-2189-4855-9968-e891fecc8c45",
   "metadata": {},
   "outputs": [
    {
     "data": {
      "text/plain": [
       "5.5"
      ]
     },
     "execution_count": 28,
     "metadata": {},
     "output_type": "execute_result"
    }
   ],
   "source": [
    "height"
   ]
  },
  {
   "cell_type": "code",
   "execution_count": 29,
   "id": "5229fa54-2ccb-451e-98ea-024992cd24b5",
   "metadata": {},
   "outputs": [
    {
     "data": {
      "text/plain": [
       "float"
      ]
     },
     "execution_count": 29,
     "metadata": {},
     "output_type": "execute_result"
    }
   ],
   "source": [
    "type(height)"
   ]
  },
  {
   "cell_type": "code",
   "execution_count": 30,
   "id": "914048e7-0777-45bf-9360-cc6ac6025d04",
   "metadata": {},
   "outputs": [
    {
     "name": "stdin",
     "output_type": "stream",
     "text": [
      "Write value for a 3\n",
      "Write value for b 6\n"
     ]
    }
   ],
   "source": [
    "a = int(input('Write value for a'))\n",
    "b = int(input('Write value for b'))\n",
    "c = a + b"
   ]
  },
  {
   "cell_type": "code",
   "execution_count": 31,
   "id": "e2fae3b0-5324-4d42-bf7c-fc28e56eb3c0",
   "metadata": {},
   "outputs": [
    {
     "data": {
      "text/plain": [
       "9"
      ]
     },
     "execution_count": 31,
     "metadata": {},
     "output_type": "execute_result"
    }
   ],
   "source": [
    "c"
   ]
  },
  {
   "cell_type": "code",
   "execution_count": 32,
   "id": "bcada599-185d-4110-afce-7eb3e1081019",
   "metadata": {},
   "outputs": [
    {
     "name": "stdin",
     "output_type": "stream",
     "text": [
      " Nexon\n"
     ]
    }
   ],
   "source": [
    "car = input()"
   ]
  },
  {
   "cell_type": "code",
   "execution_count": 33,
   "id": "26980c34-91ad-4069-b57b-30aaccc63771",
   "metadata": {},
   "outputs": [
    {
     "data": {
      "text/plain": [
       "'Nexon'"
      ]
     },
     "execution_count": 33,
     "metadata": {},
     "output_type": "execute_result"
    }
   ],
   "source": [
    "car"
   ]
  },
  {
   "cell_type": "code",
   "execution_count": 36,
   "id": "aa57a79d-9d1e-4ac4-b245-25a1b7dc96db",
   "metadata": {},
   "outputs": [
    {
     "data": {
      "text/plain": [
       "str"
      ]
     },
     "execution_count": 36,
     "metadata": {},
     "output_type": "execute_result"
    }
   ],
   "source": [
    "type(car)"
   ]
  },
  {
   "cell_type": "code",
   "execution_count": 34,
   "id": "7fbfbf63-b264-46d0-a53a-3868b5f51939",
   "metadata": {},
   "outputs": [
    {
     "name": "stdin",
     "output_type": "stream",
     "text": [
      " 72.230\n"
     ]
    }
   ],
   "source": [
    "weight = float(input())"
   ]
  },
  {
   "cell_type": "code",
   "execution_count": 35,
   "id": "0dd86074-6a45-4f83-9ec4-456739e07c28",
   "metadata": {},
   "outputs": [
    {
     "data": {
      "text/plain": [
       "72.23"
      ]
     },
     "execution_count": 35,
     "metadata": {},
     "output_type": "execute_result"
    }
   ],
   "source": [
    "weight"
   ]
  },
  {
   "cell_type": "code",
   "execution_count": 37,
   "id": "925b8926-13ea-4994-94e9-b04d2f118aba",
   "metadata": {},
   "outputs": [
    {
     "data": {
      "text/plain": [
       "float"
      ]
     },
     "execution_count": 37,
     "metadata": {},
     "output_type": "execute_result"
    }
   ],
   "source": [
    "type(weight)"
   ]
  },
  {
   "cell_type": "code",
   "execution_count": null,
   "id": "6719743e-a571-4d12-9e70-1a34a6789b84",
   "metadata": {},
   "outputs": [],
   "source": [
    "# What is default data type of user input ?\n",
    "# How to take int input by user ?"
   ]
  }
 ],
 "metadata": {
  "kernelspec": {
   "display_name": "Python 3 (ipykernel)",
   "language": "python",
   "name": "python3"
  },
  "language_info": {
   "codemirror_mode": {
    "name": "ipython",
    "version": 3
   },
   "file_extension": ".py",
   "mimetype": "text/x-python",
   "name": "python",
   "nbconvert_exporter": "python",
   "pygments_lexer": "ipython3",
   "version": "3.12.4"
  }
 },
 "nbformat": 4,
 "nbformat_minor": 5
}
