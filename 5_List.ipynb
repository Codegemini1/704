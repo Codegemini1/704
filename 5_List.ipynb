{
 "cells": [
  {
   "cell_type": "markdown",
   "id": "93873260-e1d3-45af-80dd-463c2b587db4",
   "metadata": {},
   "source": [
    "# List"
   ]
  },
  {
   "cell_type": "code",
   "execution_count": 1,
   "id": "8b05dd02-e565-4260-9e98-0b47539a698b",
   "metadata": {},
   "outputs": [],
   "source": [
    "a = [1,2,3,4,5]"
   ]
  },
  {
   "cell_type": "code",
   "execution_count": 2,
   "id": "318f289f-1ca1-4903-81ec-58e10a9e9bb5",
   "metadata": {},
   "outputs": [
    {
     "data": {
      "text/plain": [
       "[1, 2, 3, 4, 5]"
      ]
     },
     "execution_count": 2,
     "metadata": {},
     "output_type": "execute_result"
    }
   ],
   "source": [
    "a"
   ]
  },
  {
   "cell_type": "code",
   "execution_count": 3,
   "id": "fb2a67ef-0913-45c6-b0dd-674bb1da06c9",
   "metadata": {},
   "outputs": [
    {
     "data": {
      "text/plain": [
       "list"
      ]
     },
     "execution_count": 3,
     "metadata": {},
     "output_type": "execute_result"
    }
   ],
   "source": [
    "type(a)"
   ]
  },
  {
   "cell_type": "code",
   "execution_count": 4,
   "id": "2b7442da-b0ca-445c-8f82-20c392e5424a",
   "metadata": {},
   "outputs": [],
   "source": [
    "l = [10,1.5,'Hello',True,10+5j]"
   ]
  },
  {
   "cell_type": "code",
   "execution_count": 5,
   "id": "97d8494e-a0fa-4394-a1d9-fb2181f5d178",
   "metadata": {},
   "outputs": [
    {
     "data": {
      "text/plain": [
       "[10, 1.5, 'Hello', True, (10+5j)]"
      ]
     },
     "execution_count": 5,
     "metadata": {},
     "output_type": "execute_result"
    }
   ],
   "source": [
    "l"
   ]
  },
  {
   "cell_type": "markdown",
   "id": "7f85f4f2-fa98-4a18-9502-9c9cbe6ac741",
   "metadata": {},
   "source": [
    "# Indexing"
   ]
  },
  {
   "cell_type": "code",
   "execution_count": 6,
   "id": "c03388f2-4b8b-4d70-879f-79649f330a2b",
   "metadata": {},
   "outputs": [
    {
     "data": {
      "text/plain": [
       "[1, 2, 3, 4, 5]"
      ]
     },
     "execution_count": 6,
     "metadata": {},
     "output_type": "execute_result"
    }
   ],
   "source": [
    "a"
   ]
  },
  {
   "cell_type": "code",
   "execution_count": 8,
   "id": "0f589c1a-3f7a-4044-8612-6e9236a475d5",
   "metadata": {},
   "outputs": [
    {
     "data": {
      "text/plain": [
       "3"
      ]
     },
     "execution_count": 8,
     "metadata": {},
     "output_type": "execute_result"
    }
   ],
   "source": [
    "a[2]"
   ]
  },
  {
   "cell_type": "code",
   "execution_count": 9,
   "id": "105a0d04-f750-4e9e-9d2e-54dda8182ab9",
   "metadata": {},
   "outputs": [
    {
     "data": {
      "text/plain": [
       "5"
      ]
     },
     "execution_count": 9,
     "metadata": {},
     "output_type": "execute_result"
    }
   ],
   "source": [
    "a[4]"
   ]
  },
  {
   "cell_type": "code",
   "execution_count": 10,
   "id": "a8b3bae4-57ba-42fa-a047-5932a6c4cd13",
   "metadata": {},
   "outputs": [],
   "source": [
    "names = ['Vaibhav', 'Om', 'Ram', 'Sham', 'Rahul']"
   ]
  },
  {
   "cell_type": "code",
   "execution_count": 11,
   "id": "d4f57821-272e-4430-b820-78f0abd6fe62",
   "metadata": {},
   "outputs": [
    {
     "data": {
      "text/plain": [
       "['Vaibhav', 'Om', 'Ram', 'Sham', 'Rahul']"
      ]
     },
     "execution_count": 11,
     "metadata": {},
     "output_type": "execute_result"
    }
   ],
   "source": [
    "names"
   ]
  },
  {
   "cell_type": "code",
   "execution_count": 12,
   "id": "045d2a9b-3297-475d-bbcf-6978e49245d2",
   "metadata": {},
   "outputs": [
    {
     "data": {
      "text/plain": [
       "'Sham'"
      ]
     },
     "execution_count": 12,
     "metadata": {},
     "output_type": "execute_result"
    }
   ],
   "source": [
    "names[3]"
   ]
  },
  {
   "cell_type": "code",
   "execution_count": 13,
   "id": "429c58a6-c81c-4e78-b7bb-64aced18f1a6",
   "metadata": {},
   "outputs": [
    {
     "data": {
      "text/plain": [
       "'Rahul'"
      ]
     },
     "execution_count": 13,
     "metadata": {},
     "output_type": "execute_result"
    }
   ],
   "source": [
    "names[4]"
   ]
  },
  {
   "cell_type": "code",
   "execution_count": 14,
   "id": "88a12f0c-1301-4dd8-a30d-54736dc6092c",
   "metadata": {},
   "outputs": [
    {
     "data": {
      "text/plain": [
       "'Sham'"
      ]
     },
     "execution_count": 14,
     "metadata": {},
     "output_type": "execute_result"
    }
   ],
   "source": [
    "names[-2]"
   ]
  },
  {
   "cell_type": "code",
   "execution_count": 15,
   "id": "66245b46-3c7f-4348-baa3-b5d7116cdca4",
   "metadata": {},
   "outputs": [],
   "source": [
    "s = [1,2,3,4,5,6,7,8]"
   ]
  },
  {
   "cell_type": "code",
   "execution_count": 16,
   "id": "55c29759-7178-44bd-9bd4-954828b1bcf9",
   "metadata": {},
   "outputs": [
    {
     "data": {
      "text/plain": [
       "[1, 2, 3, 4]"
      ]
     },
     "execution_count": 16,
     "metadata": {},
     "output_type": "execute_result"
    }
   ],
   "source": [
    "s[0:4]"
   ]
  },
  {
   "cell_type": "code",
   "execution_count": 17,
   "id": "215d51c4-3bdb-42f7-9e7b-f9c3f5e2d2ae",
   "metadata": {},
   "outputs": [
    {
     "data": {
      "text/plain": [
       "['Vaibhav', 'Om', 'Ram', 'Sham', 'Rahul']"
      ]
     },
     "execution_count": 17,
     "metadata": {},
     "output_type": "execute_result"
    }
   ],
   "source": [
    "names"
   ]
  },
  {
   "cell_type": "code",
   "execution_count": 18,
   "id": "894622fd-644a-48b6-a267-cb9051751f6b",
   "metadata": {},
   "outputs": [
    {
     "data": {
      "text/plain": [
       "['Vaibhav', 'Om', 'Ram']"
      ]
     },
     "execution_count": 18,
     "metadata": {},
     "output_type": "execute_result"
    }
   ],
   "source": [
    "names[0:3] # Start Point : End point"
   ]
  },
  {
   "cell_type": "code",
   "execution_count": 19,
   "id": "15a4a307-6d50-4665-99f2-f3481b13425e",
   "metadata": {},
   "outputs": [
    {
     "data": {
      "text/plain": [
       "['Om', 'Ram', 'Sham']"
      ]
     },
     "execution_count": 19,
     "metadata": {},
     "output_type": "execute_result"
    }
   ],
   "source": [
    "names[1:4]"
   ]
  },
  {
   "cell_type": "code",
   "execution_count": 20,
   "id": "e6c6dd87-878f-448e-9434-a908340e01f4",
   "metadata": {},
   "outputs": [
    {
     "data": {
      "text/plain": [
       "['Ram', 'Sham', 'Rahul']"
      ]
     },
     "execution_count": 20,
     "metadata": {},
     "output_type": "execute_result"
    }
   ],
   "source": [
    "names[2:5]"
   ]
  },
  {
   "cell_type": "code",
   "execution_count": 22,
   "id": "e7509529-f6a1-408b-99df-23624950ac78",
   "metadata": {},
   "outputs": [
    {
     "data": {
      "text/plain": [
       "['Vaibhav', 'Om', 'Ram', 'Sham', 'Rahul']"
      ]
     },
     "execution_count": 22,
     "metadata": {},
     "output_type": "execute_result"
    }
   ],
   "source": [
    "names[:]"
   ]
  },
  {
   "cell_type": "code",
   "execution_count": 23,
   "id": "f671cbf5-0bd7-4935-997c-ee9b2de0d94f",
   "metadata": {},
   "outputs": [
    {
     "data": {
      "text/plain": [
       "['Ram', 'Sham', 'Rahul']"
      ]
     },
     "execution_count": 23,
     "metadata": {},
     "output_type": "execute_result"
    }
   ],
   "source": [
    "names[2:]"
   ]
  },
  {
   "cell_type": "code",
   "execution_count": 21,
   "id": "a7213e74-872a-4591-b342-416231977c25",
   "metadata": {},
   "outputs": [
    {
     "data": {
      "text/plain": [
       "[1, 2, 3, 4, 5, 6, 7, 8]"
      ]
     },
     "execution_count": 21,
     "metadata": {},
     "output_type": "execute_result"
    }
   ],
   "source": [
    "s"
   ]
  },
  {
   "cell_type": "code",
   "execution_count": 26,
   "id": "07692e0a-9c73-48ed-b6f2-28168e7e5add",
   "metadata": {},
   "outputs": [
    {
     "data": {
      "text/plain": [
       "[1, 2, 3, 4, 5, 6, 7, 8]"
      ]
     },
     "execution_count": 26,
     "metadata": {},
     "output_type": "execute_result"
    }
   ],
   "source": [
    "s[0:8:1]"
   ]
  },
  {
   "cell_type": "code",
   "execution_count": 27,
   "id": "e73da3a2-8b5b-40e8-b934-54fa09bff19c",
   "metadata": {},
   "outputs": [
    {
     "data": {
      "text/plain": [
       "[1, 3, 5, 7]"
      ]
     },
     "execution_count": 27,
     "metadata": {},
     "output_type": "execute_result"
    }
   ],
   "source": [
    "s[0:8:2] # Start Point : End Point : Jump Size"
   ]
  },
  {
   "cell_type": "code",
   "execution_count": 28,
   "id": "0c16634e-16a0-4899-b292-1eafa92d7959",
   "metadata": {},
   "outputs": [
    {
     "data": {
      "text/plain": [
       "[1, 3, 5, 7]"
      ]
     },
     "execution_count": 28,
     "metadata": {},
     "output_type": "execute_result"
    }
   ],
   "source": [
    "s[::2]"
   ]
  },
  {
   "cell_type": "code",
   "execution_count": 29,
   "id": "ea396ff7-a4ab-40ee-be56-3392853e958c",
   "metadata": {},
   "outputs": [
    {
     "data": {
      "text/plain": [
       "[1, 4, 7]"
      ]
     },
     "execution_count": 29,
     "metadata": {},
     "output_type": "execute_result"
    }
   ],
   "source": [
    "s[::3]"
   ]
  },
  {
   "cell_type": "code",
   "execution_count": 31,
   "id": "901780c0-6a3c-440b-bbe6-890981b190b7",
   "metadata": {},
   "outputs": [
    {
     "data": {
      "text/plain": [
       "[8, 7, 6, 5, 4, 3, 2, 1]"
      ]
     },
     "execution_count": 31,
     "metadata": {},
     "output_type": "execute_result"
    }
   ],
   "source": [
    "s[::-1]"
   ]
  },
  {
   "cell_type": "code",
   "execution_count": 32,
   "id": "5a67d28d-d8ff-476f-a523-d7fea10cc11b",
   "metadata": {},
   "outputs": [
    {
     "data": {
      "text/plain": [
       "[1, 2, 3, 4, 5, 6, 7, 8]"
      ]
     },
     "execution_count": 32,
     "metadata": {},
     "output_type": "execute_result"
    }
   ],
   "source": [
    "s"
   ]
  },
  {
   "cell_type": "code",
   "execution_count": 33,
   "id": "58900c10-f012-4663-8eea-b85ab50d8395",
   "metadata": {},
   "outputs": [
    {
     "data": {
      "text/plain": [
       "[]"
      ]
     },
     "execution_count": 33,
     "metadata": {},
     "output_type": "execute_result"
    }
   ],
   "source": [
    "s[-1:0:1]"
   ]
  },
  {
   "cell_type": "code",
   "execution_count": 34,
   "id": "7119dd9d-512f-4504-836c-3f0c9345da59",
   "metadata": {},
   "outputs": [
    {
     "data": {
      "text/plain": [
       "[8, 7, 6, 5, 4, 3, 2]"
      ]
     },
     "execution_count": 34,
     "metadata": {},
     "output_type": "execute_result"
    }
   ],
   "source": [
    "s[-1:0:-1]"
   ]
  },
  {
   "cell_type": "code",
   "execution_count": 35,
   "id": "1d5ebb40-6ef3-41cd-8859-d4ef8ccee55a",
   "metadata": {},
   "outputs": [
    {
     "data": {
      "text/plain": [
       "[8, 7, 6, 5, 4, 3, 2, 1]"
      ]
     },
     "execution_count": 35,
     "metadata": {},
     "output_type": "execute_result"
    }
   ],
   "source": [
    "s[-1::-1]"
   ]
  },
  {
   "cell_type": "code",
   "execution_count": 36,
   "id": "a7b12775-a96d-4782-b919-03fbbe14e16a",
   "metadata": {},
   "outputs": [
    {
     "data": {
      "text/plain": [
       "[1, 2, 3, 4, 5, 6, 7, 8]"
      ]
     },
     "execution_count": 36,
     "metadata": {},
     "output_type": "execute_result"
    }
   ],
   "source": [
    "s"
   ]
  },
  {
   "cell_type": "code",
   "execution_count": 37,
   "id": "b6dae25c-f591-450c-97ea-6cc60f700ecd",
   "metadata": {},
   "outputs": [
    {
     "data": {
      "text/plain": [
       "[8, 6, 4, 2]"
      ]
     },
     "execution_count": 37,
     "metadata": {},
     "output_type": "execute_result"
    }
   ],
   "source": [
    "s[7::-2]"
   ]
  },
  {
   "cell_type": "code",
   "execution_count": null,
   "id": "6f1bcf82-7f2b-44c4-bb18-9db161d09efb",
   "metadata": {},
   "outputs": [],
   "source": []
  }
 ],
 "metadata": {
  "kernelspec": {
   "display_name": "Python 3 (ipykernel)",
   "language": "python",
   "name": "python3"
  },
  "language_info": {
   "codemirror_mode": {
    "name": "ipython",
    "version": 3
   },
   "file_extension": ".py",
   "mimetype": "text/x-python",
   "name": "python",
   "nbconvert_exporter": "python",
   "pygments_lexer": "ipython3",
   "version": "3.12.4"
  }
 },
 "nbformat": 4,
 "nbformat_minor": 5
}
