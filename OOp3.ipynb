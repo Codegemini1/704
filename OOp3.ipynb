{
 "cells": [
  {
   "cell_type": "code",
   "execution_count": 1,
   "id": "629ee062-cee7-41e0-bd54-e3bc4cae2351",
   "metadata": {},
   "outputs": [],
   "source": [
    "from abc import ABC, abstractmethod"
   ]
  },
  {
   "cell_type": "code",
   "execution_count": 2,
   "id": "0b72ba20-6850-493d-abd0-45a83cde5f26",
   "metadata": {},
   "outputs": [],
   "source": [
    "class vehicle(ABC):\n",
    "    @abstractmethod\n",
    "    def start(self):\n",
    "        pass"
   ]
  },
  {
   "cell_type": "code",
   "execution_count": 3,
   "id": "23918492-f02b-4b50-9925-e3a09a406d55",
   "metadata": {},
   "outputs": [],
   "source": [
    "class car(vehicle):\n",
    "    def start(self):\n",
    "        print('Car Started')\n",
    "    def stop(self):\n",
    "        print('Car Stopped')"
   ]
  },
  {
   "cell_type": "code",
   "execution_count": 4,
   "id": "aacd332b-7dc4-4b3a-9d37-a4f32c4aa612",
   "metadata": {},
   "outputs": [],
   "source": [
    "v = car()"
   ]
  },
  {
   "cell_type": "code",
   "execution_count": 5,
   "id": "4c74c29e-7440-4bad-abd1-f2fdc270d770",
   "metadata": {},
   "outputs": [
    {
     "name": "stdout",
     "output_type": "stream",
     "text": [
      "Car Started\n"
     ]
    }
   ],
   "source": [
    "v.start()"
   ]
  },
  {
   "cell_type": "code",
   "execution_count": 6,
   "id": "09ec005d-c76a-47a5-adf0-9e83205c295a",
   "metadata": {},
   "outputs": [
    {
     "name": "stdout",
     "output_type": "stream",
     "text": [
      "Car Stopped\n"
     ]
    }
   ],
   "source": [
    "v.stop()"
   ]
  },
  {
   "cell_type": "code",
   "execution_count": 7,
   "id": "02f32c49-ba67-4a4e-9aa9-e56c9c6cc35d",
   "metadata": {},
   "outputs": [],
   "source": [
    "class truck(vehicle):\n",
    "    def stop(self):\n",
    "        print('Truck Stopped')"
   ]
  },
  {
   "cell_type": "code",
   "execution_count": 8,
   "id": "42f92c44-8170-4031-b25c-22c7b6e8aa74",
   "metadata": {},
   "outputs": [
    {
     "ename": "TypeError",
     "evalue": "Can't instantiate abstract class truck without an implementation for abstract method 'start'",
     "output_type": "error",
     "traceback": [
      "\u001b[1;31m---------------------------------------------------------------------------\u001b[0m",
      "\u001b[1;31mTypeError\u001b[0m                                 Traceback (most recent call last)",
      "Cell \u001b[1;32mIn[8], line 1\u001b[0m\n\u001b[1;32m----> 1\u001b[0m t \u001b[38;5;241m=\u001b[39m truck()\n",
      "\u001b[1;31mTypeError\u001b[0m: Can't instantiate abstract class truck without an implementation for abstract method 'start'"
     ]
    }
   ],
   "source": [
    "t = truck()"
   ]
  },
  {
   "cell_type": "code",
   "execution_count": 9,
   "id": "c4adbc1f-3d62-4483-9111-853f51d0a394",
   "metadata": {},
   "outputs": [],
   "source": [
    "class truck(vehicle):\n",
    "    def start(self):\n",
    "        print('Truck Started')\n",
    "    def stop(self):\n",
    "        print('Truck Stopped')"
   ]
  },
  {
   "cell_type": "code",
   "execution_count": 10,
   "id": "70aa4fdf-e786-44a7-93a4-71bf68ec4721",
   "metadata": {},
   "outputs": [],
   "source": [
    "t = truck()"
   ]
  },
  {
   "cell_type": "code",
   "execution_count": 11,
   "id": "54d59ee4-ee64-41fe-9ffa-067f1cd52539",
   "metadata": {},
   "outputs": [
    {
     "name": "stdout",
     "output_type": "stream",
     "text": [
      "Truck Started\n"
     ]
    }
   ],
   "source": [
    "t.start()"
   ]
  },
  {
   "cell_type": "code",
   "execution_count": 12,
   "id": "90537fad-38be-425a-8c97-69f8b524260c",
   "metadata": {},
   "outputs": [],
   "source": [
    "class mobile(ABC):\n",
    "    @abstractmethod\n",
    "    def call(self):\n",
    "        pass"
   ]
  },
  {
   "cell_type": "code",
   "execution_count": 14,
   "id": "e4c3b3f0-e705-4d39-9ee9-1b5304e86b53",
   "metadata": {},
   "outputs": [],
   "source": [
    "class iphone(mobile):\n",
    "    def call(self):\n",
    "        print('Iphone is Calling')\n",
    "    def camera(self):\n",
    "        print('Opning camera')"
   ]
  },
  {
   "cell_type": "code",
   "execution_count": 15,
   "id": "1316244d-fc2c-4c7b-b75a-6b434f2e8c11",
   "metadata": {},
   "outputs": [],
   "source": [
    "iphone13 = iphone()"
   ]
  },
  {
   "cell_type": "code",
   "execution_count": 16,
   "id": "77067794-878e-4cb7-8db1-c740740e70b7",
   "metadata": {},
   "outputs": [
    {
     "name": "stdout",
     "output_type": "stream",
     "text": [
      "Iphone is Calling\n"
     ]
    }
   ],
   "source": [
    "iphone13.call()"
   ]
  },
  {
   "cell_type": "code",
   "execution_count": 17,
   "id": "d4ccd37e-3480-456b-a0af-1513380b9c1e",
   "metadata": {},
   "outputs": [
    {
     "name": "stdout",
     "output_type": "stream",
     "text": [
      "Opning camera\n"
     ]
    }
   ],
   "source": [
    "iphone13.camera()"
   ]
  },
  {
   "cell_type": "code",
   "execution_count": 18,
   "id": "aa4c8a2e-365e-4edb-b75f-d58c5efe20fb",
   "metadata": {},
   "outputs": [],
   "source": [
    "class samsung(mobile):\n",
    "    def call(self):\n",
    "        print('Samsing is Calling')\n",
    "    def sound(self):\n",
    "        print('Sound On')"
   ]
  },
  {
   "cell_type": "code",
   "execution_count": 19,
   "id": "d17282cf-bbaf-4d0b-be10-8de2958fb1bc",
   "metadata": {},
   "outputs": [],
   "source": [
    "s23 = samsung()"
   ]
  },
  {
   "cell_type": "code",
   "execution_count": 20,
   "id": "3520f318-5456-4fd2-a945-082c86e66765",
   "metadata": {},
   "outputs": [
    {
     "name": "stdout",
     "output_type": "stream",
     "text": [
      "Samsing is Calling\n"
     ]
    }
   ],
   "source": [
    "s23.call()"
   ]
  },
  {
   "cell_type": "code",
   "execution_count": 21,
   "id": "7f3b6599-7d27-4744-8c1f-8c6d0e819835",
   "metadata": {},
   "outputs": [
    {
     "name": "stdout",
     "output_type": "stream",
     "text": [
      "Sound On\n"
     ]
    }
   ],
   "source": [
    "s23.sound()"
   ]
  },
  {
   "cell_type": "code",
   "execution_count": null,
   "id": "9b494022-9979-4aea-a53b-d294ee1c33d6",
   "metadata": {},
   "outputs": [],
   "source": []
  }
 ],
 "metadata": {
  "kernelspec": {
   "display_name": "Python 3 (ipykernel)",
   "language": "python",
   "name": "python3"
  },
  "language_info": {
   "codemirror_mode": {
    "name": "ipython",
    "version": 3
   },
   "file_extension": ".py",
   "mimetype": "text/x-python",
   "name": "python",
   "nbconvert_exporter": "python",
   "pygments_lexer": "ipython3",
   "version": "3.12.4"
  }
 },
 "nbformat": 4,
 "nbformat_minor": 5
}
