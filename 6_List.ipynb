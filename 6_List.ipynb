{
 "cells": [
  {
   "cell_type": "markdown",
   "id": "9fdb2d66-1afe-4e86-858c-5231f9fa94b7",
   "metadata": {},
   "source": [
    " Nested List"
   ]
  },
  {
   "cell_type": "code",
   "execution_count": 1,
   "id": "a9e1efae-9a55-4268-a2e5-e2a3bead26d2",
   "metadata": {},
   "outputs": [],
   "source": [
    "a = [1,2,3,4,[10,20,30],5,6]"
   ]
  },
  {
   "cell_type": "code",
   "execution_count": 7,
   "id": "7733b328-5c8c-4c65-9d99-7fd24b8c6ee1",
   "metadata": {},
   "outputs": [
    {
     "data": {
      "text/plain": [
       "[10, 20, 30]"
      ]
     },
     "execution_count": 7,
     "metadata": {},
     "output_type": "execute_result"
    }
   ],
   "source": [
    "a[4]"
   ]
  },
  {
   "cell_type": "code",
   "execution_count": 9,
   "id": "2897eb02-4b11-4189-850f-dcf9013ef9c3",
   "metadata": {},
   "outputs": [
    {
     "data": {
      "text/plain": [
       "20"
      ]
     },
     "execution_count": 9,
     "metadata": {},
     "output_type": "execute_result"
    }
   ],
   "source": [
    "a[4][1]"
   ]
  },
  {
   "cell_type": "code",
   "execution_count": 10,
   "id": "63002445-0023-4a0c-99de-d6d94f3ef669",
   "metadata": {},
   "outputs": [],
   "source": [
    "l = [1,2,3,[10,20,30,[100,200,300],40,50],4,5]"
   ]
  },
  {
   "cell_type": "code",
   "execution_count": 11,
   "id": "4c2b85c0-508c-4cb2-a2c1-116ffffad030",
   "metadata": {},
   "outputs": [
    {
     "data": {
      "text/plain": [
       "[10, 20, 30, [100, 200, 300], 40, 50]"
      ]
     },
     "execution_count": 11,
     "metadata": {},
     "output_type": "execute_result"
    }
   ],
   "source": [
    "l[3]"
   ]
  },
  {
   "cell_type": "code",
   "execution_count": 12,
   "id": "8f5fb97b-caaa-47c6-9507-9e8b382fe260",
   "metadata": {},
   "outputs": [
    {
     "data": {
      "text/plain": [
       "[100, 200, 300]"
      ]
     },
     "execution_count": 12,
     "metadata": {},
     "output_type": "execute_result"
    }
   ],
   "source": [
    "l[3][3]"
   ]
  },
  {
   "cell_type": "code",
   "execution_count": 13,
   "id": "0e90295b-43e0-4f5c-81b6-d01830baeb34",
   "metadata": {},
   "outputs": [
    {
     "data": {
      "text/plain": [
       "200"
      ]
     },
     "execution_count": 13,
     "metadata": {},
     "output_type": "execute_result"
    }
   ],
   "source": [
    "l[3][3][1]"
   ]
  },
  {
   "cell_type": "code",
   "execution_count": 14,
   "id": "addae9c8-f8ea-42b5-b3ca-71e47bb83b86",
   "metadata": {},
   "outputs": [],
   "source": [
    "l = [1,2,3]"
   ]
  },
  {
   "cell_type": "code",
   "execution_count": 15,
   "id": "d7d64301-e4ff-4a2e-8ab8-7251804e36ec",
   "metadata": {},
   "outputs": [
    {
     "data": {
      "text/plain": [
       "[1, 2, 3]"
      ]
     },
     "execution_count": 15,
     "metadata": {},
     "output_type": "execute_result"
    }
   ],
   "source": [
    "l"
   ]
  },
  {
   "cell_type": "code",
   "execution_count": 16,
   "id": "089c17dc-0179-48b7-944c-3dcc94ae5409",
   "metadata": {},
   "outputs": [
    {
     "data": {
      "text/plain": [
       "1"
      ]
     },
     "execution_count": 16,
     "metadata": {},
     "output_type": "execute_result"
    }
   ],
   "source": [
    "l[0]"
   ]
  },
  {
   "cell_type": "code",
   "execution_count": 17,
   "id": "8d6f0f61-c39d-4ffa-b209-91a98d683b68",
   "metadata": {},
   "outputs": [],
   "source": [
    "l[0] = 100"
   ]
  },
  {
   "cell_type": "code",
   "execution_count": 18,
   "id": "c09a05e4-03f1-4d66-b4dd-857d824aabc5",
   "metadata": {},
   "outputs": [
    {
     "data": {
      "text/plain": [
       "[100, 2, 3]"
      ]
     },
     "execution_count": 18,
     "metadata": {},
     "output_type": "execute_result"
    }
   ],
   "source": [
    "l"
   ]
  },
  {
   "cell_type": "code",
   "execution_count": 19,
   "id": "3dcdd0e2-9d94-4be3-b34d-14465f6a38e9",
   "metadata": {},
   "outputs": [],
   "source": [
    "names = ['Vaibhav', 'Om', 'Ram', 'Sham', 'Rahul']"
   ]
  },
  {
   "cell_type": "code",
   "execution_count": 21,
   "id": "f8f08634-2114-4838-aa7a-e3ea8fca7dcf",
   "metadata": {},
   "outputs": [],
   "source": [
    "names[1] = 'Onkar'"
   ]
  },
  {
   "cell_type": "code",
   "execution_count": 22,
   "id": "f1c09e21-c806-46d9-b957-0ddf45ce01a8",
   "metadata": {},
   "outputs": [
    {
     "data": {
      "text/plain": [
       "['Vaibhav', 'Onkar', 'Ram', 'Sham', 'Rahul']"
      ]
     },
     "execution_count": 22,
     "metadata": {},
     "output_type": "execute_result"
    }
   ],
   "source": [
    "names"
   ]
  },
  {
   "cell_type": "code",
   "execution_count": 23,
   "id": "e3d7f173-99cc-437b-a90e-6ce1e37d3875",
   "metadata": {},
   "outputs": [],
   "source": [
    "# Solve 5 examples "
   ]
  },
  {
   "cell_type": "markdown",
   "id": "6afb6e5b-e123-475d-8f27-66a7c54e85d2",
   "metadata": {},
   "source": [
    "Functions in List"
   ]
  },
  {
   "cell_type": "code",
   "execution_count": 24,
   "id": "2a4ea4a2-3164-480e-bf41-ac3cd0eb6303",
   "metadata": {},
   "outputs": [
    {
     "data": {
      "text/plain": [
       "[100, 2, 3]"
      ]
     },
     "execution_count": 24,
     "metadata": {},
     "output_type": "execute_result"
    }
   ],
   "source": [
    "l"
   ]
  },
  {
   "cell_type": "code",
   "execution_count": 25,
   "id": "4cf6a1db-e25d-41fd-b0f6-3b3d529f90cd",
   "metadata": {},
   "outputs": [],
   "source": [
    "l.append(200)"
   ]
  },
  {
   "cell_type": "code",
   "execution_count": 26,
   "id": "9e9c014e-ccac-4332-a147-23cd23afbcdd",
   "metadata": {},
   "outputs": [
    {
     "data": {
      "text/plain": [
       "[100, 2, 3, 200]"
      ]
     },
     "execution_count": 26,
     "metadata": {},
     "output_type": "execute_result"
    }
   ],
   "source": [
    "l"
   ]
  },
  {
   "cell_type": "code",
   "execution_count": 27,
   "id": "9311271e-9b97-479e-b631-8b7f180d284c",
   "metadata": {},
   "outputs": [],
   "source": [
    "l.append(500)"
   ]
  },
  {
   "cell_type": "code",
   "execution_count": 28,
   "id": "32c0696d-380f-466f-9d6b-827146e57137",
   "metadata": {},
   "outputs": [
    {
     "data": {
      "text/plain": [
       "[100, 2, 3, 200, 500]"
      ]
     },
     "execution_count": 28,
     "metadata": {},
     "output_type": "execute_result"
    }
   ],
   "source": [
    "l"
   ]
  },
  {
   "cell_type": "code",
   "execution_count": 29,
   "id": "cc4286f4-b9ae-46bd-8efc-913989b4ea1f",
   "metadata": {},
   "outputs": [],
   "source": [
    "l.append([1.5,2.5,3.5])"
   ]
  },
  {
   "cell_type": "code",
   "execution_count": 30,
   "id": "e9165409-04fb-4f96-a81d-0e411a1e2cba",
   "metadata": {},
   "outputs": [
    {
     "data": {
      "text/plain": [
       "[100, 2, 3, 200, 500, [1.5, 2.5, 3.5]]"
      ]
     },
     "execution_count": 30,
     "metadata": {},
     "output_type": "execute_result"
    }
   ],
   "source": [
    "l"
   ]
  },
  {
   "cell_type": "code",
   "execution_count": 31,
   "id": "dcbef14e-27aa-4c9b-a617-11a5b2f0a017",
   "metadata": {},
   "outputs": [],
   "source": [
    "l.extend([1.5,2.5,3.5])"
   ]
  },
  {
   "cell_type": "code",
   "execution_count": 32,
   "id": "fb260ac3-0516-40f6-939f-0df4d8e982be",
   "metadata": {},
   "outputs": [
    {
     "data": {
      "text/plain": [
       "[100, 2, 3, 200, 500, [1.5, 2.5, 3.5], 1.5, 2.5, 3.5]"
      ]
     },
     "execution_count": 32,
     "metadata": {},
     "output_type": "execute_result"
    }
   ],
   "source": [
    "l"
   ]
  },
  {
   "cell_type": "code",
   "execution_count": 33,
   "id": "5ef04f59-78c4-4210-9e93-dfaffbdbe379",
   "metadata": {},
   "outputs": [],
   "source": [
    "# Diff b/w Append and extend ?"
   ]
  },
  {
   "cell_type": "code",
   "execution_count": 34,
   "id": "43b9d68d-39dc-4d15-a1ca-cbcbe7abf586",
   "metadata": {},
   "outputs": [],
   "source": [
    "l.extend('Hello')"
   ]
  },
  {
   "cell_type": "code",
   "execution_count": 35,
   "id": "247d2ff9-cffc-4826-a84d-45355cdc6a97",
   "metadata": {},
   "outputs": [
    {
     "data": {
      "text/plain": [
       "[100, 2, 3, 200, 500, [1.5, 2.5, 3.5], 1.5, 2.5, 3.5, 'H', 'e', 'l', 'l', 'o']"
      ]
     },
     "execution_count": 35,
     "metadata": {},
     "output_type": "execute_result"
    }
   ],
   "source": [
    "l"
   ]
  },
  {
   "cell_type": "code",
   "execution_count": 36,
   "id": "c7b59c7a-6044-454e-815a-24d4b70d8583",
   "metadata": {},
   "outputs": [],
   "source": [
    "n = 'Hello'"
   ]
  },
  {
   "cell_type": "code",
   "execution_count": 37,
   "id": "e0bf4654-d47b-48eb-9f5b-f3fa405a161d",
   "metadata": {},
   "outputs": [
    {
     "data": {
      "text/plain": [
       "'H'"
      ]
     },
     "execution_count": 37,
     "metadata": {},
     "output_type": "execute_result"
    }
   ],
   "source": [
    "n[0]"
   ]
  },
  {
   "cell_type": "code",
   "execution_count": 38,
   "id": "b111d4f3-37f5-49e1-ab69-8640bfe105f4",
   "metadata": {},
   "outputs": [
    {
     "data": {
      "text/plain": [
       "'e'"
      ]
     },
     "execution_count": 38,
     "metadata": {},
     "output_type": "execute_result"
    }
   ],
   "source": [
    "n[1]"
   ]
  },
  {
   "cell_type": "code",
   "execution_count": 39,
   "id": "24a2da7a-f2da-4d5f-aa77-2f72e56f84d4",
   "metadata": {},
   "outputs": [],
   "source": [
    "# Number --> 72252"
   ]
  },
  {
   "cell_type": "code",
   "execution_count": 40,
   "id": "257344c5-66c8-4d62-a682-2eecaa8cf655",
   "metadata": {},
   "outputs": [],
   "source": [
    "m = 72252"
   ]
  },
  {
   "cell_type": "code",
   "execution_count": 41,
   "id": "0b7c94c7-a825-4bdc-a38b-29165db84ef3",
   "metadata": {},
   "outputs": [
    {
     "data": {
      "text/plain": [
       "72252"
      ]
     },
     "execution_count": 41,
     "metadata": {},
     "output_type": "execute_result"
    }
   ],
   "source": [
    "m"
   ]
  },
  {
   "cell_type": "code",
   "execution_count": 44,
   "id": "4dcf26fe-daa2-4506-a60c-d4efd88e7dbc",
   "metadata": {},
   "outputs": [],
   "source": [
    "num = str(m)"
   ]
  },
  {
   "cell_type": "code",
   "execution_count": 45,
   "id": "79ef59dd-e5b8-428f-a843-ff926488040e",
   "metadata": {},
   "outputs": [
    {
     "data": {
      "text/plain": [
       "'72252'"
      ]
     },
     "execution_count": 45,
     "metadata": {},
     "output_type": "execute_result"
    }
   ],
   "source": [
    "num"
   ]
  },
  {
   "cell_type": "code",
   "execution_count": 46,
   "id": "075f8b9f-c423-462f-89ba-224254a43720",
   "metadata": {},
   "outputs": [
    {
     "data": {
      "text/plain": [
       "['7', '2', '2', '5', '2']"
      ]
     },
     "execution_count": 46,
     "metadata": {},
     "output_type": "execute_result"
    }
   ],
   "source": [
    "list(num)"
   ]
  },
  {
   "cell_type": "code",
   "execution_count": 48,
   "id": "bf9b06fc-c00d-4708-bc05-13b16745abd7",
   "metadata": {},
   "outputs": [],
   "source": [
    "l.insert(1,True)"
   ]
  },
  {
   "cell_type": "code",
   "execution_count": 47,
   "id": "df20ace0-4a58-40e0-a6aa-0c157bd36c77",
   "metadata": {},
   "outputs": [
    {
     "data": {
      "text/plain": [
       "[100, 2, 3, 200, 500, [1.5, 2.5, 3.5], 1.5, 2.5, 3.5, 'H', 'e', 'l', 'l', 'o']"
      ]
     },
     "execution_count": 47,
     "metadata": {},
     "output_type": "execute_result"
    }
   ],
   "source": [
    "l"
   ]
  },
  {
   "cell_type": "code",
   "execution_count": 49,
   "id": "9108b028-c8c6-43c8-8d51-8ced284e1c36",
   "metadata": {},
   "outputs": [
    {
     "data": {
      "text/plain": [
       "[100,\n",
       " True,\n",
       " 2,\n",
       " 3,\n",
       " 200,\n",
       " 500,\n",
       " [1.5, 2.5, 3.5],\n",
       " 1.5,\n",
       " 2.5,\n",
       " 3.5,\n",
       " 'H',\n",
       " 'e',\n",
       " 'l',\n",
       " 'l',\n",
       " 'o']"
      ]
     },
     "execution_count": 49,
     "metadata": {},
     "output_type": "execute_result"
    }
   ],
   "source": [
    "l"
   ]
  },
  {
   "cell_type": "code",
   "execution_count": 50,
   "id": "becdcf5a-cffd-4bd7-9df4-cc44f349568b",
   "metadata": {},
   "outputs": [
    {
     "data": {
      "text/plain": [
       "['Vaibhav', 'Onkar', 'Ram', 'Sham', 'Rahul']"
      ]
     },
     "execution_count": 50,
     "metadata": {},
     "output_type": "execute_result"
    }
   ],
   "source": [
    "names"
   ]
  },
  {
   "cell_type": "code",
   "execution_count": 51,
   "id": "42f978bb-ad9e-4e77-9e32-5b3e59817b57",
   "metadata": {},
   "outputs": [],
   "source": [
    "names.insert(2,'John')"
   ]
  },
  {
   "cell_type": "code",
   "execution_count": 52,
   "id": "d96260c6-a450-4f44-b054-726709671d6f",
   "metadata": {},
   "outputs": [
    {
     "data": {
      "text/plain": [
       "['Vaibhav', 'Onkar', 'John', 'Ram', 'Sham', 'Rahul']"
      ]
     },
     "execution_count": 52,
     "metadata": {},
     "output_type": "execute_result"
    }
   ],
   "source": [
    "names"
   ]
  },
  {
   "cell_type": "code",
   "execution_count": 53,
   "id": "18ef23b0-d75f-4890-8c56-5dac36b3a32e",
   "metadata": {},
   "outputs": [
    {
     "data": {
      "text/plain": [
       "3"
      ]
     },
     "execution_count": 53,
     "metadata": {},
     "output_type": "execute_result"
    }
   ],
   "source": [
    "names.index('Ram')"
   ]
  },
  {
   "cell_type": "code",
   "execution_count": 54,
   "id": "57c73ecf-8ad5-4872-a2b6-d336a69bee2f",
   "metadata": {},
   "outputs": [
    {
     "data": {
      "text/plain": [
       "[100,\n",
       " True,\n",
       " 2,\n",
       " 3,\n",
       " 200,\n",
       " 500,\n",
       " [1.5, 2.5, 3.5],\n",
       " 1.5,\n",
       " 2.5,\n",
       " 3.5,\n",
       " 'H',\n",
       " 'e',\n",
       " 'l',\n",
       " 'l',\n",
       " 'o']"
      ]
     },
     "execution_count": 54,
     "metadata": {},
     "output_type": "execute_result"
    }
   ],
   "source": [
    "l"
   ]
  },
  {
   "cell_type": "code",
   "execution_count": 55,
   "id": "e839df76-dd33-41a6-a990-3835528b9717",
   "metadata": {},
   "outputs": [
    {
     "data": {
      "text/plain": [
       "5"
      ]
     },
     "execution_count": 55,
     "metadata": {},
     "output_type": "execute_result"
    }
   ],
   "source": [
    "l.index(500)"
   ]
  },
  {
   "cell_type": "code",
   "execution_count": 56,
   "id": "33995e85-36d3-4e8f-a91f-49792f02d1f6",
   "metadata": {},
   "outputs": [],
   "source": [
    "o = [1,2,3,1,2,5,2,6]"
   ]
  },
  {
   "cell_type": "code",
   "execution_count": 57,
   "id": "18d0c2d4-0171-47bf-b68d-0458768365b8",
   "metadata": {},
   "outputs": [
    {
     "data": {
      "text/plain": [
       "0"
      ]
     },
     "execution_count": 57,
     "metadata": {},
     "output_type": "execute_result"
    }
   ],
   "source": [
    "o.index(1)"
   ]
  },
  {
   "cell_type": "code",
   "execution_count": 58,
   "id": "cacce6bd-7a34-4477-902f-6d925fa8b17f",
   "metadata": {},
   "outputs": [
    {
     "data": {
      "text/plain": [
       "1"
      ]
     },
     "execution_count": 58,
     "metadata": {},
     "output_type": "execute_result"
    }
   ],
   "source": [
    "o.index(2)"
   ]
  },
  {
   "cell_type": "code",
   "execution_count": 59,
   "id": "3b1bd595-7646-4c9e-bd4f-b004474b72ee",
   "metadata": {},
   "outputs": [
    {
     "data": {
      "text/plain": [
       "[1, 2, 3, 1, 2, 5, 2, 6]"
      ]
     },
     "execution_count": 59,
     "metadata": {},
     "output_type": "execute_result"
    }
   ],
   "source": [
    "o"
   ]
  },
  {
   "cell_type": "code",
   "execution_count": 60,
   "id": "91cb87db-9d75-4878-90a8-04722ae8d040",
   "metadata": {},
   "outputs": [],
   "source": [
    "o.sort()"
   ]
  },
  {
   "cell_type": "code",
   "execution_count": 61,
   "id": "9d3e6520-4944-4139-8430-a4ca4d0385cb",
   "metadata": {},
   "outputs": [
    {
     "data": {
      "text/plain": [
       "[1, 1, 2, 2, 2, 3, 5, 6]"
      ]
     },
     "execution_count": 61,
     "metadata": {},
     "output_type": "execute_result"
    }
   ],
   "source": [
    "o"
   ]
  },
  {
   "cell_type": "code",
   "execution_count": 62,
   "id": "7ca69f0d-02d6-4d5d-aea7-80292fc1e970",
   "metadata": {},
   "outputs": [
    {
     "data": {
      "text/plain": [
       "3"
      ]
     },
     "execution_count": 62,
     "metadata": {},
     "output_type": "execute_result"
    }
   ],
   "source": [
    "o.count(2)"
   ]
  },
  {
   "cell_type": "code",
   "execution_count": 63,
   "id": "9223af4e-27d3-4a7e-87a7-98901abbfa97",
   "metadata": {},
   "outputs": [
    {
     "data": {
      "text/plain": [
       "2"
      ]
     },
     "execution_count": 63,
     "metadata": {},
     "output_type": "execute_result"
    }
   ],
   "source": [
    "o.count(1)"
   ]
  },
  {
   "cell_type": "code",
   "execution_count": 64,
   "id": "4faaf915-d01b-47ce-b88e-61a144085be3",
   "metadata": {},
   "outputs": [],
   "source": [
    "o.remove(5)"
   ]
  },
  {
   "cell_type": "code",
   "execution_count": 65,
   "id": "892f93d7-1e61-40ed-bc83-b31c500511f3",
   "metadata": {},
   "outputs": [
    {
     "data": {
      "text/plain": [
       "[1, 1, 2, 2, 2, 3, 6]"
      ]
     },
     "execution_count": 65,
     "metadata": {},
     "output_type": "execute_result"
    }
   ],
   "source": [
    "o"
   ]
  },
  {
   "cell_type": "code",
   "execution_count": 66,
   "id": "26978367-3c29-4d3b-85a7-e3a79375a5a4",
   "metadata": {},
   "outputs": [],
   "source": [
    "o.remove(2)"
   ]
  },
  {
   "cell_type": "code",
   "execution_count": 67,
   "id": "75d20130-1fb3-40b2-ab92-0628cebe5683",
   "metadata": {},
   "outputs": [
    {
     "data": {
      "text/plain": [
       "[1, 1, 2, 2, 3, 6]"
      ]
     },
     "execution_count": 67,
     "metadata": {},
     "output_type": "execute_result"
    }
   ],
   "source": [
    "o"
   ]
  },
  {
   "cell_type": "code",
   "execution_count": 68,
   "id": "d840ce9f-a28e-4495-8ba8-1851a6ea1e06",
   "metadata": {},
   "outputs": [
    {
     "data": {
      "text/plain": [
       "6"
      ]
     },
     "execution_count": 68,
     "metadata": {},
     "output_type": "execute_result"
    }
   ],
   "source": [
    "o.pop()"
   ]
  },
  {
   "cell_type": "code",
   "execution_count": 69,
   "id": "9d9cac6d-1200-417b-a8d4-e4821e59f02f",
   "metadata": {},
   "outputs": [
    {
     "data": {
      "text/plain": [
       "[1, 1, 2, 2, 3]"
      ]
     },
     "execution_count": 69,
     "metadata": {},
     "output_type": "execute_result"
    }
   ],
   "source": [
    "o"
   ]
  },
  {
   "cell_type": "code",
   "execution_count": 70,
   "id": "1513ede7-fb2b-4754-bbd5-8c390b483a8b",
   "metadata": {},
   "outputs": [],
   "source": [
    "# Pop is going to remove last index of list"
   ]
  },
  {
   "cell_type": "code",
   "execution_count": 71,
   "id": "7f30853c-b0b0-4bda-9e8a-6cec3cf4e924",
   "metadata": {},
   "outputs": [
    {
     "data": {
      "text/plain": [
       "3"
      ]
     },
     "execution_count": 71,
     "metadata": {},
     "output_type": "execute_result"
    }
   ],
   "source": [
    "o.pop()"
   ]
  },
  {
   "cell_type": "code",
   "execution_count": 72,
   "id": "2e98507a-5e7b-4ddc-a576-7bc0e5a4c80a",
   "metadata": {},
   "outputs": [
    {
     "data": {
      "text/plain": [
       "[1, 1, 2, 2]"
      ]
     },
     "execution_count": 72,
     "metadata": {},
     "output_type": "execute_result"
    }
   ],
   "source": [
    "o"
   ]
  },
  {
   "cell_type": "code",
   "execution_count": 74,
   "id": "beae5be6-6deb-4fac-8a2e-137f7490967f",
   "metadata": {},
   "outputs": [
    {
     "data": {
      "text/plain": [
       "[2, 2, 1, 1]"
      ]
     },
     "execution_count": 74,
     "metadata": {},
     "output_type": "execute_result"
    }
   ],
   "source": [
    "o[::-1]"
   ]
  },
  {
   "cell_type": "code",
   "execution_count": 75,
   "id": "c2172481-6831-464e-930f-fab4a2672c81",
   "metadata": {},
   "outputs": [
    {
     "data": {
      "text/plain": [
       "[1, 1, 2, 2]"
      ]
     },
     "execution_count": 75,
     "metadata": {},
     "output_type": "execute_result"
    }
   ],
   "source": [
    "o"
   ]
  },
  {
   "cell_type": "code",
   "execution_count": 76,
   "id": "2ebd0b06-a040-4480-92c5-935da88d11a8",
   "metadata": {},
   "outputs": [],
   "source": [
    "o.reverse()"
   ]
  },
  {
   "cell_type": "code",
   "execution_count": 77,
   "id": "0f8d8fd4-e7a8-4ca8-b634-41e622584ef1",
   "metadata": {},
   "outputs": [
    {
     "data": {
      "text/plain": [
       "[2, 2, 1, 1]"
      ]
     },
     "execution_count": 77,
     "metadata": {},
     "output_type": "execute_result"
    }
   ],
   "source": [
    "o"
   ]
  },
  {
   "cell_type": "code",
   "execution_count": 78,
   "id": "7e0c43d6-73a2-4f52-92bc-5ff832573aba",
   "metadata": {},
   "outputs": [],
   "source": [
    "# Copy of dataset"
   ]
  },
  {
   "cell_type": "code",
   "execution_count": 79,
   "id": "c5359789-65f1-4a08-a9b5-d59018d9293e",
   "metadata": {},
   "outputs": [],
   "source": [
    "k = [1,2,3,4,5,6]"
   ]
  },
  {
   "cell_type": "code",
   "execution_count": 80,
   "id": "991ec0f3-2da9-4c00-b9f1-e15e67d83535",
   "metadata": {},
   "outputs": [
    {
     "data": {
      "text/plain": [
       "[1, 2, 3, 4, 5, 6]"
      ]
     },
     "execution_count": 80,
     "metadata": {},
     "output_type": "execute_result"
    }
   ],
   "source": [
    "k"
   ]
  },
  {
   "cell_type": "code",
   "execution_count": 81,
   "id": "ea83993d-5c82-452b-ad23-a0da66be5eee",
   "metadata": {},
   "outputs": [],
   "source": [
    "k1 = k"
   ]
  },
  {
   "cell_type": "code",
   "execution_count": 82,
   "id": "8694e8a1-6666-421d-8dee-4df73ea1ccf7",
   "metadata": {},
   "outputs": [
    {
     "data": {
      "text/plain": [
       "[1, 2, 3, 4, 5, 6]"
      ]
     },
     "execution_count": 82,
     "metadata": {},
     "output_type": "execute_result"
    }
   ],
   "source": [
    "k1"
   ]
  },
  {
   "cell_type": "code",
   "execution_count": 83,
   "id": "c6f70200-66e7-4849-af2c-e53457e6b2bb",
   "metadata": {},
   "outputs": [
    {
     "data": {
      "text/plain": [
       "6"
      ]
     },
     "execution_count": 83,
     "metadata": {},
     "output_type": "execute_result"
    }
   ],
   "source": [
    "k.pop()"
   ]
  },
  {
   "cell_type": "code",
   "execution_count": 84,
   "id": "4e82bb1c-978d-4f7e-bc79-01c6a5b8d5dc",
   "metadata": {},
   "outputs": [
    {
     "data": {
      "text/plain": [
       "[1, 2, 3, 4, 5]"
      ]
     },
     "execution_count": 84,
     "metadata": {},
     "output_type": "execute_result"
    }
   ],
   "source": [
    "k"
   ]
  },
  {
   "cell_type": "code",
   "execution_count": 85,
   "id": "5619eb7d-3cf2-425d-9e59-6f40f84f254e",
   "metadata": {},
   "outputs": [
    {
     "data": {
      "text/plain": [
       "[1, 2, 3, 4, 5]"
      ]
     },
     "execution_count": 85,
     "metadata": {},
     "output_type": "execute_result"
    }
   ],
   "source": [
    "k1"
   ]
  },
  {
   "cell_type": "code",
   "execution_count": 86,
   "id": "51a6b938-5f15-47ff-bc37-ca626d113e45",
   "metadata": {},
   "outputs": [],
   "source": [
    "k_copy = k.copy()"
   ]
  },
  {
   "cell_type": "code",
   "execution_count": 87,
   "id": "10dd6803-7938-4f09-b79c-cdcd03d4ed97",
   "metadata": {},
   "outputs": [
    {
     "data": {
      "text/plain": [
       "[1, 2, 3, 4, 5]"
      ]
     },
     "execution_count": 87,
     "metadata": {},
     "output_type": "execute_result"
    }
   ],
   "source": [
    "k_copy"
   ]
  },
  {
   "cell_type": "code",
   "execution_count": 88,
   "id": "b92ff118-d2fc-4954-b502-9225adaab129",
   "metadata": {},
   "outputs": [
    {
     "data": {
      "text/plain": [
       "[1, 2, 3, 4, 5]"
      ]
     },
     "execution_count": 88,
     "metadata": {},
     "output_type": "execute_result"
    }
   ],
   "source": [
    "k"
   ]
  },
  {
   "cell_type": "code",
   "execution_count": 89,
   "id": "98e3f7be-6ca9-4edb-814a-c264904cdf2d",
   "metadata": {},
   "outputs": [
    {
     "data": {
      "text/plain": [
       "5"
      ]
     },
     "execution_count": 89,
     "metadata": {},
     "output_type": "execute_result"
    }
   ],
   "source": [
    "k.pop()"
   ]
  },
  {
   "cell_type": "code",
   "execution_count": 90,
   "id": "9290bb76-023f-4867-8c22-776c41524357",
   "metadata": {},
   "outputs": [
    {
     "data": {
      "text/plain": [
       "[1, 2, 3, 4]"
      ]
     },
     "execution_count": 90,
     "metadata": {},
     "output_type": "execute_result"
    }
   ],
   "source": [
    "k"
   ]
  },
  {
   "cell_type": "code",
   "execution_count": 91,
   "id": "fe56458a-d8b5-41a5-bcb1-eb7493cd047f",
   "metadata": {},
   "outputs": [
    {
     "data": {
      "text/plain": [
       "[1, 2, 3, 4, 5]"
      ]
     },
     "execution_count": 91,
     "metadata": {},
     "output_type": "execute_result"
    }
   ],
   "source": [
    "k_copy"
   ]
  },
  {
   "cell_type": "code",
   "execution_count": null,
   "id": "1cad274f-9ead-4747-b9cd-14bb8b77f2b1",
   "metadata": {},
   "outputs": [],
   "source": []
  }
 ],
 "metadata": {
  "kernelspec": {
   "display_name": "Python 3 (ipykernel)",
   "language": "python",
   "name": "python3"
  },
  "language_info": {
   "codemirror_mode": {
    "name": "ipython",
    "version": 3
   },
   "file_extension": ".py",
   "mimetype": "text/x-python",
   "name": "python",
   "nbconvert_exporter": "python",
   "pygments_lexer": "ipython3",
   "version": "3.12.4"
  }
 },
 "nbformat": 4,
 "nbformat_minor": 5
}
