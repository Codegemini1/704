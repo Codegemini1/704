{
 "cells": [
  {
   "cell_type": "code",
   "execution_count": 2,
   "id": "6acb5a7b-7219-4487-b748-5467bdd41bd4",
   "metadata": {},
   "outputs": [],
   "source": [
    "def square(a):\n",
    "    return a * a"
   ]
  },
  {
   "cell_type": "code",
   "execution_count": 3,
   "id": "a6b6d1e5-d44a-4cf0-a7e6-f93dba67caa2",
   "metadata": {},
   "outputs": [
    {
     "data": {
      "text/plain": [
       "9"
      ]
     },
     "execution_count": 3,
     "metadata": {},
     "output_type": "execute_result"
    }
   ],
   "source": [
    "square(3)"
   ]
  },
  {
   "cell_type": "code",
   "execution_count": 4,
   "id": "0c585ff2-6471-4892-800c-552924edee34",
   "metadata": {},
   "outputs": [
    {
     "data": {
      "text/plain": [
       "5"
      ]
     },
     "execution_count": 4,
     "metadata": {},
     "output_type": "execute_result"
    }
   ],
   "source": [
    "len('Hello')"
   ]
  },
  {
   "cell_type": "code",
   "execution_count": null,
   "id": "07dbd011-dce3-4578-8512-3cbf7caec1ea",
   "metadata": {},
   "outputs": [],
   "source": []
  },
  {
   "cell_type": "code",
   "execution_count": 5,
   "id": "81beafcd-680d-4e38-a8f8-010f58e94f6e",
   "metadata": {},
   "outputs": [],
   "source": [
    "from imp_functions import test3, test5"
   ]
  },
  {
   "cell_type": "code",
   "execution_count": 6,
   "id": "80610e15-6ea0-4b8c-86c5-c034af141c68",
   "metadata": {},
   "outputs": [
    {
     "data": {
      "text/plain": [
       "[1]"
      ]
     },
     "execution_count": 6,
     "metadata": {},
     "output_type": "execute_result"
    }
   ],
   "source": [
    "test3(1,1.5,True,\"Hello\", [1,2,3,4])"
   ]
  },
  {
   "cell_type": "code",
   "execution_count": 8,
   "id": "152449fb-b4c6-4b77-91c9-5f4908fde46f",
   "metadata": {},
   "outputs": [
    {
     "data": {
      "text/plain": [
       "['P', 'y', 't', 'h', 'o', 'n']"
      ]
     },
     "execution_count": 8,
     "metadata": {},
     "output_type": "execute_result"
    }
   ],
   "source": [
    "test5('Python')"
   ]
  },
  {
   "cell_type": "code",
   "execution_count": 9,
   "id": "315b3203-4953-4e01-82d9-62cdeeb18311",
   "metadata": {},
   "outputs": [],
   "source": [
    "# 5 Modules and in that mdule you have to write  functions.\n",
    "# Then you have to import in new jupyter file and use function there"
   ]
  },
  {
   "cell_type": "code",
   "execution_count": null,
   "id": "cc9f468e-6add-4d01-9ddd-22e571e98cc5",
   "metadata": {},
   "outputs": [],
   "source": []
  }
 ],
 "metadata": {
  "kernelspec": {
   "display_name": "Python 3 (ipykernel)",
   "language": "python",
   "name": "python3"
  },
  "language_info": {
   "codemirror_mode": {
    "name": "ipython",
    "version": 3
   },
   "file_extension": ".py",
   "mimetype": "text/x-python",
   "name": "python",
   "nbconvert_exporter": "python",
   "pygments_lexer": "ipython3",
   "version": "3.12.4"
  }
 },
 "nbformat": 4,
 "nbformat_minor": 5
}
