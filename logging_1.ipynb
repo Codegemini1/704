{
 "cells": [
  {
   "cell_type": "code",
   "execution_count": 1,
   "id": "cd3f54bd-8b5d-4bfe-9d43-5b444799bd82",
   "metadata": {},
   "outputs": [],
   "source": [
    "import logging"
   ]
  },
  {
   "cell_type": "code",
   "execution_count": 3,
   "id": "df1c6ac1-f130-47f1-9c9a-3067ed9b48d9",
   "metadata": {},
   "outputs": [],
   "source": [
    "logging.basicConfig(level=logging.INFO)"
   ]
  },
  {
   "cell_type": "code",
   "execution_count": 4,
   "id": "221698ba-94fc-4157-a6b2-ea882c70a548",
   "metadata": {},
   "outputs": [],
   "source": [
    "logging.debug('This is my debug message')"
   ]
  },
  {
   "cell_type": "code",
   "execution_count": 5,
   "id": "678c192c-0e10-483d-b815-ddd4b5bc3f25",
   "metadata": {},
   "outputs": [],
   "source": [
    "logging.info('Thhis is my info log')"
   ]
  },
  {
   "cell_type": "code",
   "execution_count": 6,
   "id": "7c02426e-74de-49e8-a0fe-62d65bc61c5f",
   "metadata": {},
   "outputs": [
    {
     "name": "stderr",
     "output_type": "stream",
     "text": [
      "WARNING:root:This is my warning log\n"
     ]
    }
   ],
   "source": [
    "logging.warning('This is my warning log')"
   ]
  },
  {
   "cell_type": "code",
   "execution_count": 7,
   "id": "164d3bc2-1d75-4842-99e1-091f17427060",
   "metadata": {},
   "outputs": [
    {
     "name": "stderr",
     "output_type": "stream",
     "text": [
      "ERROR:root:This is my error log\n"
     ]
    }
   ],
   "source": [
    "logging.error('This is my error log')"
   ]
  },
  {
   "cell_type": "code",
   "execution_count": 8,
   "id": "a1430020-a73d-48f3-ba7c-e5942864360b",
   "metadata": {},
   "outputs": [
    {
     "name": "stderr",
     "output_type": "stream",
     "text": [
      "CRITICAL:root:This is my crirtical logging\n"
     ]
    }
   ],
   "source": [
    "logging.critical('This is my crirtical logging')"
   ]
  },
  {
   "cell_type": "code",
   "execution_count": null,
   "id": "4b1ceb0c-eb21-4200-b032-894ef43daf14",
   "metadata": {},
   "outputs": [],
   "source": []
  }
 ],
 "metadata": {
  "kernelspec": {
   "display_name": "Python 3 (ipykernel)",
   "language": "python",
   "name": "python3"
  },
  "language_info": {
   "codemirror_mode": {
    "name": "ipython",
    "version": 3
   },
   "file_extension": ".py",
   "mimetype": "text/x-python",
   "name": "python",
   "nbconvert_exporter": "python",
   "pygments_lexer": "ipython3",
   "version": "3.12.4"
  }
 },
 "nbformat": 4,
 "nbformat_minor": 5
}
