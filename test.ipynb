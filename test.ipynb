{
 "cells": [
  {
   "cell_type": "code",
   "execution_count": 6,
   "id": "2288b35c-c2ea-4c7a-b774-a82572d54504",
   "metadata": {},
   "outputs": [
    {
     "name": "stdout",
     "output_type": "stream",
     "text": [
      "15\n"
     ]
    }
   ],
   "source": [
    "print(10 + 5)"
   ]
  },
  {
   "cell_type": "markdown",
   "id": "cc5befff-c347-484f-a3ae-1fc0ba61f346",
   "metadata": {},
   "source": [
    "# Data Types in Python"
   ]
  },
  {
   "cell_type": "markdown",
   "id": "f91f3e43-a415-4fd6-ae24-e7d6983a0810",
   "metadata": {},
   "source": [
    "Today we are going to start data types topic in python."
   ]
  },
  {
   "cell_type": "raw",
   "id": "ecbe130e-cedc-485c-80c2-207786f9b4ab",
   "metadata": {},
   "source": [
    "#6 ----> u67h\n",
    "6---->jddhg\n",
    "js\n",
    "ksaf\n"
   ]
  },
  {
   "cell_type": "code",
   "execution_count": 3,
   "id": "b7425eff-1111-474b-bcfd-e564deed1b50",
   "metadata": {},
   "outputs": [
    {
     "name": "stdout",
     "output_type": "stream",
     "text": [
      "15\n"
     ]
    }
   ],
   "source": [
    "print(10 + 5) # I am doing add of two datasets"
   ]
  },
  {
   "cell_type": "code",
   "execution_count": 7,
   "id": "9109171e-32a1-43f8-853e-7e27015943f8",
   "metadata": {},
   "outputs": [
    {
     "name": "stdout",
     "output_type": "stream",
     "text": [
      "90\n"
     ]
    }
   ],
   "source": [
    "# Below I am going to start coding\n",
    "print(10 * 9)"
   ]
  },
  {
   "cell_type": "code",
   "execution_count": null,
   "id": "5ec6a3e3-607d-45a4-b61c-175e66eb4768",
   "metadata": {},
   "outputs": [],
   "source": []
  },
  {
   "cell_type": "code",
   "execution_count": null,
   "id": "8e4bda58-5def-47ab-9663-3e8a293a9bb8",
   "metadata": {},
   "outputs": [],
   "source": []
  },
  {
   "cell_type": "code",
   "execution_count": null,
   "id": "cc1f0beb-04f0-4243-b6ec-3af81895cffc",
   "metadata": {},
   "outputs": [],
   "source": []
  },
  {
   "cell_type": "code",
   "execution_count": null,
   "id": "cbb8907b-76e2-4939-a5a4-4176489a104d",
   "metadata": {},
   "outputs": [],
   "source": []
  },
  {
   "cell_type": "code",
   "execution_count": null,
   "id": "103687d7-b5b5-4a2f-adaa-a7bd66d46c3c",
   "metadata": {},
   "outputs": [],
   "source": []
  },
  {
   "cell_type": "code",
   "execution_count": null,
   "id": "15909dc4-d92f-4c9a-89b9-a9d7d591f057",
   "metadata": {},
   "outputs": [],
   "source": []
  },
  {
   "cell_type": "code",
   "execution_count": null,
   "id": "e5cd76c6-06ac-4d3d-9a5a-440a3a99603f",
   "metadata": {},
   "outputs": [],
   "source": []
  },
  {
   "cell_type": "code",
   "execution_count": null,
   "id": "0e856c06-8d2f-45f3-8e9c-a8e15d4cadf4",
   "metadata": {},
   "outputs": [],
   "source": []
  },
  {
   "cell_type": "code",
   "execution_count": null,
   "id": "0da39ca4-8a22-4dd9-a6a4-bba277fba878",
   "metadata": {},
   "outputs": [],
   "source": []
  },
  {
   "cell_type": "code",
   "execution_count": null,
   "id": "68976841-0604-46a3-a1ae-6ff4f4e52b91",
   "metadata": {},
   "outputs": [],
   "source": []
  }
 ],
 "metadata": {
  "kernelspec": {
   "display_name": "Python 3 (ipykernel)",
   "language": "python",
   "name": "python3"
  },
  "language_info": {
   "codemirror_mode": {
    "name": "ipython",
    "version": 3
   },
   "file_extension": ".py",
   "mimetype": "text/x-python",
   "name": "python",
   "nbconvert_exporter": "python",
   "pygments_lexer": "ipython3",
   "version": "3.12.4"
  }
 },
 "nbformat": 4,
 "nbformat_minor": 5
}
