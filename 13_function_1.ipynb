{
 "cells": [
  {
   "cell_type": "code",
   "execution_count": 10,
   "id": "eede4f4d-79de-4c46-99d8-9b8f41cfc198",
   "metadata": {},
   "outputs": [],
   "source": [
    "def hello():\n",
    "    print('This is my hello function')"
   ]
  },
  {
   "cell_type": "code",
   "execution_count": 11,
   "id": "c31b6967-3f40-4cf7-a89a-fbacf79cb336",
   "metadata": {},
   "outputs": [
    {
     "name": "stdout",
     "output_type": "stream",
     "text": [
      "This is my hello function\n"
     ]
    }
   ],
   "source": [
    "hello()"
   ]
  },
  {
   "cell_type": "code",
   "execution_count": 12,
   "id": "6d9443b9-8400-4526-a466-8b4f455e7df7",
   "metadata": {},
   "outputs": [
    {
     "name": "stdout",
     "output_type": "stream",
     "text": [
      "This is my hello function\n"
     ]
    }
   ],
   "source": [
    "hello()"
   ]
  },
  {
   "cell_type": "code",
   "execution_count": 13,
   "id": "69f10bd1-bff4-438b-ace7-17d18290a521",
   "metadata": {},
   "outputs": [],
   "source": [
    "# Writing down description / dockstring of function"
   ]
  },
  {
   "cell_type": "code",
   "execution_count": 16,
   "id": "9d018510-e7d1-4433-909b-35b5cd2b84b6",
   "metadata": {},
   "outputs": [],
   "source": [
    "def test():\n",
    "    \"\"\"This is my test function.\n",
    "    This will print out message of hello how are you! message.\"\"\"\n",
    "    print('hello how are you!')"
   ]
  },
  {
   "cell_type": "code",
   "execution_count": 17,
   "id": "73e1468b-5491-4d4b-b366-237aa3c99820",
   "metadata": {},
   "outputs": [
    {
     "name": "stdout",
     "output_type": "stream",
     "text": [
      "hello how are you!\n"
     ]
    }
   ],
   "source": [
    "test()"
   ]
  },
  {
   "cell_type": "code",
   "execution_count": null,
   "id": "725033f6-947c-4a07-aa33-74a33462b3b1",
   "metadata": {},
   "outputs": [],
   "source": [
    "# Pass arguments in function"
   ]
  },
  {
   "cell_type": "code",
   "execution_count": 18,
   "id": "6a152893-d457-4fd4-ab7f-7b03f0ffa695",
   "metadata": {},
   "outputs": [],
   "source": [
    "def test1(x):\n",
    "    print(x)"
   ]
  },
  {
   "cell_type": "code",
   "execution_count": 20,
   "id": "c55db57a-8421-4244-a8b5-43a75a9b68b3",
   "metadata": {},
   "outputs": [
    {
     "name": "stdout",
     "output_type": "stream",
     "text": [
      "1\n"
     ]
    }
   ],
   "source": [
    "test1(1)"
   ]
  },
  {
   "cell_type": "code",
   "execution_count": 25,
   "id": "58d32bda-7fea-43cb-af57-a94947ee4027",
   "metadata": {},
   "outputs": [
    {
     "name": "stdout",
     "output_type": "stream",
     "text": [
      "1\n"
     ]
    },
    {
     "data": {
      "text/plain": [
       "NoneType"
      ]
     },
     "execution_count": 25,
     "metadata": {},
     "output_type": "execute_result"
    }
   ],
   "source": [
    "type(test1(1))"
   ]
  },
  {
   "cell_type": "code",
   "execution_count": 21,
   "id": "5016a367-276c-4a2d-95e1-9d6082497caa",
   "metadata": {},
   "outputs": [
    {
     "name": "stdout",
     "output_type": "stream",
     "text": [
      "Hello\n"
     ]
    }
   ],
   "source": [
    "test1('Hello')"
   ]
  },
  {
   "cell_type": "code",
   "execution_count": 26,
   "id": "6597598e-3c61-4de5-96c4-cc1690572db2",
   "metadata": {},
   "outputs": [
    {
     "name": "stdout",
     "output_type": "stream",
     "text": [
      "Hello\n"
     ]
    },
    {
     "data": {
      "text/plain": [
       "NoneType"
      ]
     },
     "execution_count": 26,
     "metadata": {},
     "output_type": "execute_result"
    }
   ],
   "source": [
    "type(test1('Hello'))"
   ]
  },
  {
   "cell_type": "code",
   "execution_count": 22,
   "id": "b74fe206-7cc1-4757-bcea-c0796c9e1846",
   "metadata": {},
   "outputs": [
    {
     "ename": "TypeError",
     "evalue": "test1() takes 1 positional argument but 2 were given",
     "output_type": "error",
     "traceback": [
      "\u001b[1;31m---------------------------------------------------------------------------\u001b[0m",
      "\u001b[1;31mTypeError\u001b[0m                                 Traceback (most recent call last)",
      "Cell \u001b[1;32mIn[22], line 1\u001b[0m\n\u001b[1;32m----> 1\u001b[0m test1(\u001b[38;5;241m1\u001b[39m,\u001b[38;5;241m2\u001b[39m)\n",
      "\u001b[1;31mTypeError\u001b[0m: test1() takes 1 positional argument but 2 were given"
     ]
    }
   ],
   "source": [
    "test1(1,2)"
   ]
  },
  {
   "cell_type": "code",
   "execution_count": 23,
   "id": "93aef692-2679-4905-a0fc-527025d2be33",
   "metadata": {},
   "outputs": [],
   "source": [
    "def test2(a,b):\n",
    "    print(a+b)"
   ]
  },
  {
   "cell_type": "code",
   "execution_count": 24,
   "id": "b26e1a01-2525-4f2a-88e1-968dd58128a4",
   "metadata": {},
   "outputs": [
    {
     "name": "stdout",
     "output_type": "stream",
     "text": [
      "15\n"
     ]
    }
   ],
   "source": [
    "test2(10,5)"
   ]
  },
  {
   "cell_type": "code",
   "execution_count": null,
   "id": "1b999216-6525-42f1-8943-388c21c75cbc",
   "metadata": {},
   "outputs": [],
   "source": [
    "# diff b/w prin and return "
   ]
  },
  {
   "cell_type": "code",
   "execution_count": 27,
   "id": "0b255892-e9f9-432c-85d4-168b3dcaa9cd",
   "metadata": {},
   "outputs": [],
   "source": [
    "def test3(a):\n",
    "    return a"
   ]
  },
  {
   "cell_type": "code",
   "execution_count": 28,
   "id": "427f1bd2-70da-446a-a3ab-5cf4067888c1",
   "metadata": {},
   "outputs": [
    {
     "data": {
      "text/plain": [
       "5"
      ]
     },
     "execution_count": 28,
     "metadata": {},
     "output_type": "execute_result"
    }
   ],
   "source": [
    "test3(5)"
   ]
  },
  {
   "cell_type": "code",
   "execution_count": 29,
   "id": "5cd65644-6799-4176-b780-19a5e812d56c",
   "metadata": {},
   "outputs": [
    {
     "data": {
      "text/plain": [
       "int"
      ]
     },
     "execution_count": 29,
     "metadata": {},
     "output_type": "execute_result"
    }
   ],
   "source": [
    "type(test3(5))"
   ]
  },
  {
   "cell_type": "code",
   "execution_count": 30,
   "id": "f9e9b24b-3f29-4a7e-84cd-787fb88bb190",
   "metadata": {},
   "outputs": [],
   "source": [
    "def square(a):\n",
    "    return a * a"
   ]
  },
  {
   "cell_type": "code",
   "execution_count": 31,
   "id": "c109c7c5-f840-4cb1-a535-9a1b6f14cc6b",
   "metadata": {},
   "outputs": [
    {
     "data": {
      "text/plain": [
       "25"
      ]
     },
     "execution_count": 31,
     "metadata": {},
     "output_type": "execute_result"
    }
   ],
   "source": [
    "square(5)"
   ]
  },
  {
   "cell_type": "code",
   "execution_count": 32,
   "id": "024152de-b31f-4b1a-a39f-449e2fe81d9d",
   "metadata": {},
   "outputs": [
    {
     "data": {
      "text/plain": [
       "int"
      ]
     },
     "execution_count": 32,
     "metadata": {},
     "output_type": "execute_result"
    }
   ],
   "source": [
    "type(square(5))"
   ]
  },
  {
   "cell_type": "code",
   "execution_count": 33,
   "id": "d39d6fd2-26b4-4441-b365-8e42bc2ef203",
   "metadata": {},
   "outputs": [],
   "source": [
    "def add(a,b):\n",
    "    return a + b"
   ]
  },
  {
   "cell_type": "code",
   "execution_count": 34,
   "id": "8bd974c3-d2c1-4eab-872b-fe4edb66a4b2",
   "metadata": {},
   "outputs": [
    {
     "data": {
      "text/plain": [
       "5"
      ]
     },
     "execution_count": 34,
     "metadata": {},
     "output_type": "execute_result"
    }
   ],
   "source": [
    "add(1,4)"
   ]
  },
  {
   "cell_type": "code",
   "execution_count": 36,
   "id": "2b2f5017-5ea6-4c96-9c0d-3aed211747ad",
   "metadata": {},
   "outputs": [
    {
     "data": {
      "text/plain": [
       "'Hello Python'"
      ]
     },
     "execution_count": 36,
     "metadata": {},
     "output_type": "execute_result"
    }
   ],
   "source": [
    "add('Hello ', 'Python')"
   ]
  },
  {
   "cell_type": "code",
   "execution_count": 37,
   "id": "a8454189-4ce8-4a84-aa6f-4a8da0a8f2d4",
   "metadata": {},
   "outputs": [],
   "source": [
    "def add_str(a,b):\n",
    "    return a + ' ' + b"
   ]
  },
  {
   "cell_type": "code",
   "execution_count": 39,
   "id": "ac25a157-b704-4630-a956-0a9efc620a82",
   "metadata": {},
   "outputs": [
    {
     "data": {
      "text/plain": [
       "'Hello Python'"
      ]
     },
     "execution_count": 39,
     "metadata": {},
     "output_type": "execute_result"
    }
   ],
   "source": [
    "add_str('Hello', 'Python')"
   ]
  },
  {
   "cell_type": "code",
   "execution_count": 40,
   "id": "4b6eb9dc-8510-4ce2-b94b-84065ef211cf",
   "metadata": {},
   "outputs": [],
   "source": [
    "# Even or odd"
   ]
  },
  {
   "cell_type": "code",
   "execution_count": 41,
   "id": "0180a12a-e89e-4dea-81b4-0f93b0b4c550",
   "metadata": {},
   "outputs": [],
   "source": [
    "def even_odd(a):\n",
    "    if a % 2 == 0:\n",
    "        print('Even')\n",
    "    else:\n",
    "        print('Odd')"
   ]
  },
  {
   "cell_type": "code",
   "execution_count": 42,
   "id": "671650b5-54ad-4de3-9ec2-bcdb827f725c",
   "metadata": {},
   "outputs": [
    {
     "name": "stdout",
     "output_type": "stream",
     "text": [
      "Even\n"
     ]
    }
   ],
   "source": [
    "even_odd(8)"
   ]
  },
  {
   "cell_type": "code",
   "execution_count": 43,
   "id": "40641a1a-befc-40dd-ac5b-f40afed053f3",
   "metadata": {},
   "outputs": [
    {
     "name": "stdout",
     "output_type": "stream",
     "text": [
      "Odd\n"
     ]
    }
   ],
   "source": [
    "even_odd(9)"
   ]
  },
  {
   "cell_type": "code",
   "execution_count": 51,
   "id": "122970ee-ddbf-420c-805b-7de811cfbcbe",
   "metadata": {},
   "outputs": [],
   "source": [
    "def test5(a):\n",
    "    result = [] # Local variable\n",
    "    for i in a:\n",
    "        result.append(i)\n",
    "    return result"
   ]
  },
  {
   "cell_type": "code",
   "execution_count": 52,
   "id": "e5b5ab10-4639-4a93-907b-00a6e2649188",
   "metadata": {},
   "outputs": [
    {
     "data": {
      "text/plain": [
       "['H', 'e', 'l', 'l', 'o', ' ', 'P', 'y', 't', 'h', 'o', 'n']"
      ]
     },
     "execution_count": 52,
     "metadata": {},
     "output_type": "execute_result"
    }
   ],
   "source": [
    "test5('Hello Python')"
   ]
  },
  {
   "cell_type": "code",
   "execution_count": 53,
   "id": "74157750-c1ee-4390-be54-47fd295659d3",
   "metadata": {},
   "outputs": [
    {
     "ename": "NameError",
     "evalue": "name 'result' is not defined",
     "output_type": "error",
     "traceback": [
      "\u001b[1;31m---------------------------------------------------------------------------\u001b[0m",
      "\u001b[1;31mNameError\u001b[0m                                 Traceback (most recent call last)",
      "Cell \u001b[1;32mIn[53], line 1\u001b[0m\n\u001b[1;32m----> 1\u001b[0m result\n",
      "\u001b[1;31mNameError\u001b[0m: name 'result' is not defined"
     ]
    }
   ],
   "source": [
    "result"
   ]
  },
  {
   "cell_type": "code",
   "execution_count": 57,
   "id": "15870e32-d983-471b-80fd-ad0fb85ebc6e",
   "metadata": {},
   "outputs": [],
   "source": [
    "output = 'This is my output' # Global Varable"
   ]
  },
  {
   "cell_type": "code",
   "execution_count": 58,
   "id": "9d025e97-b241-449e-ab02-2557eda3e53d",
   "metadata": {},
   "outputs": [
    {
     "data": {
      "text/plain": [
       "'This is my output'"
      ]
     },
     "execution_count": 58,
     "metadata": {},
     "output_type": "execute_result"
    }
   ],
   "source": [
    "output"
   ]
  },
  {
   "cell_type": "code",
   "execution_count": 59,
   "id": "824a91dc-0f15-45d9-8fdb-3426d8572f57",
   "metadata": {},
   "outputs": [
    {
     "ename": "NameError",
     "evalue": "name 'result' is not defined",
     "output_type": "error",
     "traceback": [
      "\u001b[1;31m---------------------------------------------------------------------------\u001b[0m",
      "\u001b[1;31mNameError\u001b[0m                                 Traceback (most recent call last)",
      "Cell \u001b[1;32mIn[59], line 1\u001b[0m\n\u001b[1;32m----> 1\u001b[0m result\n",
      "\u001b[1;31mNameError\u001b[0m: name 'result' is not defined"
     ]
    }
   ],
   "source": [
    "result # Local Variable"
   ]
  },
  {
   "cell_type": "code",
   "execution_count": null,
   "id": "1c114e90-12d0-426d-a253-77eb6521c16a",
   "metadata": {},
   "outputs": [],
   "source": []
  }
 ],
 "metadata": {
  "kernelspec": {
   "display_name": "Python 3 (ipykernel)",
   "language": "python",
   "name": "python3"
  },
  "language_info": {
   "codemirror_mode": {
    "name": "ipython",
    "version": 3
   },
   "file_extension": ".py",
   "mimetype": "text/x-python",
   "name": "python",
   "nbconvert_exporter": "python",
   "pygments_lexer": "ipython3",
   "version": "3.12.4"
  }
 },
 "nbformat": 4,
 "nbformat_minor": 5
}
