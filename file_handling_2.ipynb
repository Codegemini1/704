{
 "cells": [
  {
   "cell_type": "code",
   "execution_count": 1,
   "id": "ff58d9c6-1077-4b91-8231-a1981bca4470",
   "metadata": {},
   "outputs": [
    {
     "name": "stdout",
     "output_type": "stream",
     "text": [
      "C:\\Users\\Admin\n"
     ]
    }
   ],
   "source": [
    "cd"
   ]
  },
  {
   "cell_type": "code",
   "execution_count": 2,
   "id": "ca36823a-b62c-43aa-8ef2-077474d8a959",
   "metadata": {},
   "outputs": [],
   "source": [
    "f = open('test.txt', mode = 'w')"
   ]
  },
  {
   "cell_type": "code",
   "execution_count": 3,
   "id": "ffaa5abc-1aa9-4232-8b94-0604cb8d7966",
   "metadata": {},
   "outputs": [
    {
     "data": {
      "text/plain": [
       "67"
      ]
     },
     "execution_count": 3,
     "metadata": {},
     "output_type": "execute_result"
    }
   ],
   "source": [
    "f.write('TOday we are learning File handling Topic. This is line number two.')"
   ]
  },
  {
   "cell_type": "code",
   "execution_count": 4,
   "id": "43c831d8-a058-49be-8969-9f3cad0e63b4",
   "metadata": {},
   "outputs": [],
   "source": [
    "f.close()"
   ]
  },
  {
   "cell_type": "code",
   "execution_count": 7,
   "id": "d218e41b-290c-46c7-ba1b-3d340fb543c7",
   "metadata": {},
   "outputs": [],
   "source": [
    "f = open('test.txt', mode='r')"
   ]
  },
  {
   "cell_type": "code",
   "execution_count": 8,
   "id": "f4fe5e49-f7ec-45a6-b1c3-b08f00fbe572",
   "metadata": {},
   "outputs": [
    {
     "data": {
      "text/plain": [
       "'TOday we are learning File handling Topic. This is line number two.'"
      ]
     },
     "execution_count": 8,
     "metadata": {},
     "output_type": "execute_result"
    }
   ],
   "source": [
    "f.read()"
   ]
  },
  {
   "cell_type": "code",
   "execution_count": 9,
   "id": "690f3c73-c9e6-4ca4-817a-2359d0f5f390",
   "metadata": {},
   "outputs": [
    {
     "data": {
      "text/plain": [
       "''"
      ]
     },
     "execution_count": 9,
     "metadata": {},
     "output_type": "execute_result"
    }
   ],
   "source": [
    "f.read()"
   ]
  },
  {
   "cell_type": "code",
   "execution_count": 10,
   "id": "4dac1cb0-f79a-4c1f-aece-a68bb488ecaa",
   "metadata": {},
   "outputs": [
    {
     "data": {
      "text/plain": [
       "0"
      ]
     },
     "execution_count": 10,
     "metadata": {},
     "output_type": "execute_result"
    }
   ],
   "source": [
    "f.seek(0)"
   ]
  },
  {
   "cell_type": "code",
   "execution_count": 11,
   "id": "1536fcfd-c18d-4956-909c-8ef7542c722b",
   "metadata": {},
   "outputs": [
    {
     "data": {
      "text/plain": [
       "'TOday we are learning File handling Topic. This is line number two.'"
      ]
     },
     "execution_count": 11,
     "metadata": {},
     "output_type": "execute_result"
    }
   ],
   "source": [
    "f.read()"
   ]
  },
  {
   "cell_type": "code",
   "execution_count": 12,
   "id": "0f0bc4e5-ff41-4bd2-b3bf-73790d7703be",
   "metadata": {},
   "outputs": [
    {
     "data": {
      "text/plain": [
       "5"
      ]
     },
     "execution_count": 12,
     "metadata": {},
     "output_type": "execute_result"
    }
   ],
   "source": [
    "f.seek(5)"
   ]
  },
  {
   "cell_type": "code",
   "execution_count": 13,
   "id": "e0c6929b-ba86-4332-94ed-3fb3ebdd7e8b",
   "metadata": {},
   "outputs": [
    {
     "data": {
      "text/plain": [
       "' we are learning File handling Topic. This is line number two.'"
      ]
     },
     "execution_count": 13,
     "metadata": {},
     "output_type": "execute_result"
    }
   ],
   "source": [
    "f.read()"
   ]
  },
  {
   "cell_type": "code",
   "execution_count": 14,
   "id": "23a5bcc5-2d5b-4b60-8f82-5765a209e843",
   "metadata": {},
   "outputs": [
    {
     "ename": "UnsupportedOperation",
     "evalue": "not writable",
     "output_type": "error",
     "traceback": [
      "\u001b[1;31m---------------------------------------------------------------------------\u001b[0m",
      "\u001b[1;31mUnsupportedOperation\u001b[0m                      Traceback (most recent call last)",
      "Cell \u001b[1;32mIn[14], line 1\u001b[0m\n\u001b[1;32m----> 1\u001b[0m f\u001b[38;5;241m.\u001b[39mwrite(\u001b[38;5;124m'\u001b[39m\u001b[38;5;124mThis is my third sentence\u001b[39m\u001b[38;5;124m'\u001b[39m)\n",
      "\u001b[1;31mUnsupportedOperation\u001b[0m: not writable"
     ]
    }
   ],
   "source": [
    "f.write('This is my third sentence')"
   ]
  },
  {
   "cell_type": "code",
   "execution_count": 15,
   "id": "eccbc8cc-fa36-4126-b2e3-b0207cf104cb",
   "metadata": {},
   "outputs": [],
   "source": [
    "f.close()"
   ]
  },
  {
   "cell_type": "code",
   "execution_count": 16,
   "id": "f74bb913-6f21-4cac-8051-a0c7cf7b1f9c",
   "metadata": {},
   "outputs": [],
   "source": [
    "f = open('test.txt', mode='r+')"
   ]
  },
  {
   "cell_type": "code",
   "execution_count": 17,
   "id": "1abda88a-fa3b-41ca-9b79-7bb583b65e6e",
   "metadata": {},
   "outputs": [
    {
     "data": {
      "text/plain": [
       "'TOday we are learning File handling Topic. This is line number two.'"
      ]
     },
     "execution_count": 17,
     "metadata": {},
     "output_type": "execute_result"
    }
   ],
   "source": [
    "f.read()"
   ]
  },
  {
   "cell_type": "code",
   "execution_count": 18,
   "id": "09a9f822-e22a-4586-85b5-72f794c4d23a",
   "metadata": {},
   "outputs": [
    {
     "data": {
      "text/plain": [
       "25"
      ]
     },
     "execution_count": 18,
     "metadata": {},
     "output_type": "execute_result"
    }
   ],
   "source": [
    "f.write('This is my third sentence')"
   ]
  },
  {
   "cell_type": "code",
   "execution_count": 19,
   "id": "a1ece67c-68d5-4dd8-99d7-78693ecb1eaa",
   "metadata": {},
   "outputs": [
    {
     "data": {
      "text/plain": [
       "0"
      ]
     },
     "execution_count": 19,
     "metadata": {},
     "output_type": "execute_result"
    }
   ],
   "source": [
    "f.seek(0)"
   ]
  },
  {
   "cell_type": "code",
   "execution_count": 20,
   "id": "6ef069fa-b612-4762-bd3a-416a8495350e",
   "metadata": {},
   "outputs": [
    {
     "data": {
      "text/plain": [
       "'TOday we are learning File handling Topic. This is line number two.This is my third sentence'"
      ]
     },
     "execution_count": 20,
     "metadata": {},
     "output_type": "execute_result"
    }
   ],
   "source": [
    "f.read()"
   ]
  },
  {
   "cell_type": "code",
   "execution_count": 21,
   "id": "20014b9a-089c-431f-891c-5e68010e5cf9",
   "metadata": {},
   "outputs": [
    {
     "data": {
      "text/plain": [
       "0"
      ]
     },
     "execution_count": 21,
     "metadata": {},
     "output_type": "execute_result"
    }
   ],
   "source": [
    "f.seek(0)"
   ]
  },
  {
   "cell_type": "code",
   "execution_count": 22,
   "id": "8e7030ff-1bac-4589-a724-f18ff3df7ae7",
   "metadata": {},
   "outputs": [
    {
     "data": {
      "text/plain": [
       "5"
      ]
     },
     "execution_count": 22,
     "metadata": {},
     "output_type": "execute_result"
    }
   ],
   "source": [
    "f.write('Hello')"
   ]
  },
  {
   "cell_type": "code",
   "execution_count": 24,
   "id": "a6131f92-672b-49e3-bc88-40d6fe3cedd8",
   "metadata": {},
   "outputs": [
    {
     "data": {
      "text/plain": [
       "0"
      ]
     },
     "execution_count": 24,
     "metadata": {},
     "output_type": "execute_result"
    }
   ],
   "source": [
    "f.seek(0)"
   ]
  },
  {
   "cell_type": "code",
   "execution_count": 25,
   "id": "13f50af5-ddc3-4c43-9cb3-f440eafac4cb",
   "metadata": {},
   "outputs": [
    {
     "data": {
      "text/plain": [
       "'Hello we are learning File handling Topic. This is line number two.This is my third sentence'"
      ]
     },
     "execution_count": 25,
     "metadata": {},
     "output_type": "execute_result"
    }
   ],
   "source": [
    "f.read()"
   ]
  },
  {
   "cell_type": "code",
   "execution_count": 26,
   "id": "7ed8bc53-d922-400c-8b91-93efa39cb185",
   "metadata": {},
   "outputs": [
    {
     "data": {
      "text/plain": [
       "9"
      ]
     },
     "execution_count": 26,
     "metadata": {},
     "output_type": "execute_result"
    }
   ],
   "source": [
    "f.write('Hello new')"
   ]
  },
  {
   "cell_type": "code",
   "execution_count": 27,
   "id": "1ab664b3-76c5-489b-9501-c1eb9164726e",
   "metadata": {},
   "outputs": [
    {
     "data": {
      "text/plain": [
       "0"
      ]
     },
     "execution_count": 27,
     "metadata": {},
     "output_type": "execute_result"
    }
   ],
   "source": [
    "f.seek(0)"
   ]
  },
  {
   "cell_type": "code",
   "execution_count": 28,
   "id": "9cbec4e0-ad7a-4076-85f7-b4f0e3241069",
   "metadata": {},
   "outputs": [
    {
     "data": {
      "text/plain": [
       "'Hello we are learning File handling Topic. This is line number two.This is my third sentenceHello new'"
      ]
     },
     "execution_count": 28,
     "metadata": {},
     "output_type": "execute_result"
    }
   ],
   "source": [
    "f.read()"
   ]
  },
  {
   "cell_type": "code",
   "execution_count": 29,
   "id": "fc906351-cc60-4b79-8794-9fb5af0cf7c0",
   "metadata": {},
   "outputs": [],
   "source": [
    "f.close()"
   ]
  },
  {
   "cell_type": "code",
   "execution_count": 30,
   "id": "b634066e-b3d1-45ee-877c-96e185a6f537",
   "metadata": {},
   "outputs": [],
   "source": [
    "f = open('test2.txt', mode='w')"
   ]
  },
  {
   "cell_type": "code",
   "execution_count": 31,
   "id": "43b55c7a-b16d-4fc9-81f1-46308d0921f3",
   "metadata": {},
   "outputs": [
    {
     "data": {
      "text/plain": [
       "84"
      ]
     },
     "execution_count": 31,
     "metadata": {},
     "output_type": "execute_result"
    }
   ],
   "source": [
    "f.write('''This is my line number one.\n",
    "This is my line number two.\n",
    "This is my line number three''')"
   ]
  },
  {
   "cell_type": "code",
   "execution_count": 32,
   "id": "9a071bc9-fa8a-492a-b99b-c7a3a7dda418",
   "metadata": {},
   "outputs": [],
   "source": [
    "f.close()"
   ]
  },
  {
   "cell_type": "code",
   "execution_count": 33,
   "id": "6061bbd0-87b9-4149-af2a-15c83dbd6197",
   "metadata": {},
   "outputs": [],
   "source": [
    "f = open('test2.txt', mode='r+')"
   ]
  },
  {
   "cell_type": "code",
   "execution_count": 34,
   "id": "e9f69b8c-bc82-409b-ad71-d7e358025d02",
   "metadata": {},
   "outputs": [
    {
     "data": {
      "text/plain": [
       "'This is my line number one.\\nThis is my line number two.\\nThis is my line number three'"
      ]
     },
     "execution_count": 34,
     "metadata": {},
     "output_type": "execute_result"
    }
   ],
   "source": [
    "f.read()"
   ]
  },
  {
   "cell_type": "code",
   "execution_count": 35,
   "id": "55d10d58-54e5-45ac-9eca-7ac3139145f8",
   "metadata": {},
   "outputs": [
    {
     "data": {
      "text/plain": [
       "0"
      ]
     },
     "execution_count": 35,
     "metadata": {},
     "output_type": "execute_result"
    }
   ],
   "source": [
    "f.seek(0)"
   ]
  },
  {
   "cell_type": "code",
   "execution_count": 36,
   "id": "af58c768-5f50-4f23-a9d9-6a5f0b73cab9",
   "metadata": {},
   "outputs": [
    {
     "data": {
      "text/plain": [
       "'This is my line number one.\\n'"
      ]
     },
     "execution_count": 36,
     "metadata": {},
     "output_type": "execute_result"
    }
   ],
   "source": [
    "f.readline()"
   ]
  },
  {
   "cell_type": "code",
   "execution_count": 37,
   "id": "a19aa8ac-b171-4549-a4dd-78c5930481f7",
   "metadata": {},
   "outputs": [
    {
     "data": {
      "text/plain": [
       "'This is my line number two.\\n'"
      ]
     },
     "execution_count": 37,
     "metadata": {},
     "output_type": "execute_result"
    }
   ],
   "source": [
    "f.readline()"
   ]
  },
  {
   "cell_type": "code",
   "execution_count": 38,
   "id": "121ce530-2d95-43b3-a5eb-4007bdd403ee",
   "metadata": {},
   "outputs": [
    {
     "data": {
      "text/plain": [
       "'This is my line number three'"
      ]
     },
     "execution_count": 38,
     "metadata": {},
     "output_type": "execute_result"
    }
   ],
   "source": [
    "f.readline()"
   ]
  },
  {
   "cell_type": "code",
   "execution_count": 39,
   "id": "1a2d7076-fa84-4013-b32f-7a178783a0ed",
   "metadata": {},
   "outputs": [
    {
     "data": {
      "text/plain": [
       "''"
      ]
     },
     "execution_count": 39,
     "metadata": {},
     "output_type": "execute_result"
    }
   ],
   "source": [
    "f.readline()"
   ]
  },
  {
   "cell_type": "code",
   "execution_count": 40,
   "id": "4a09cd98-fd17-4887-9d8e-1238c92cd2a9",
   "metadata": {},
   "outputs": [
    {
     "data": {
      "text/plain": [
       "0"
      ]
     },
     "execution_count": 40,
     "metadata": {},
     "output_type": "execute_result"
    }
   ],
   "source": [
    "f.seek(0)"
   ]
  },
  {
   "cell_type": "code",
   "execution_count": 41,
   "id": "b20749b8-cdfb-4c29-9a57-b9678278525f",
   "metadata": {},
   "outputs": [
    {
     "data": {
      "text/plain": [
       "['This is my line number one.\\n',\n",
       " 'This is my line number two.\\n',\n",
       " 'This is my line number three']"
      ]
     },
     "execution_count": 41,
     "metadata": {},
     "output_type": "execute_result"
    }
   ],
   "source": [
    "f.readlines()"
   ]
  },
  {
   "cell_type": "code",
   "execution_count": 42,
   "id": "0595167d-a2f7-4dd4-9fe3-388f82df752c",
   "metadata": {},
   "outputs": [
    {
     "data": {
      "text/plain": [
       "0"
      ]
     },
     "execution_count": 42,
     "metadata": {},
     "output_type": "execute_result"
    }
   ],
   "source": [
    "f.seek(0)"
   ]
  },
  {
   "cell_type": "code",
   "execution_count": 43,
   "id": "4d60f295-c894-4f35-9558-c9659a6b08fc",
   "metadata": {},
   "outputs": [
    {
     "name": "stdout",
     "output_type": "stream",
     "text": [
      "This is my line number one.\n",
      "This is my line number two.\n",
      "This is my line number three\n"
     ]
    }
   ],
   "source": [
    "print(f.read())"
   ]
  },
  {
   "cell_type": "code",
   "execution_count": 44,
   "id": "5fb7de62-b66e-4898-9244-965a67c43f45",
   "metadata": {},
   "outputs": [],
   "source": [
    "f.close()"
   ]
  },
  {
   "cell_type": "code",
   "execution_count": 45,
   "id": "3ca06458-d122-48b6-8e3d-6e9cd6e4caaa",
   "metadata": {},
   "outputs": [],
   "source": [
    "f = open('example.txt', mode='w')"
   ]
  },
  {
   "cell_type": "code",
   "execution_count": 46,
   "id": "9184bf20-b1ae-4423-9a33-b798d356d762",
   "metadata": {},
   "outputs": [
    {
     "data": {
      "text/plain": [
       "486"
      ]
     },
     "execution_count": 46,
     "metadata": {},
     "output_type": "execute_result"
    }
   ],
   "source": [
    "f.write('''Artificial Intelligence (AI) refers to the ability of a computer system to perform tasks that \n",
    "typically require human intelligence. This includes learning, reasoning, problem-solving, and decision-making. \n",
    "AI is a broad field encompassing various disciplines, including computer science, data analytics, \n",
    "and even philosophy. AI is transforming industries by automating repetitive processes, making complex \n",
    "decisions, and enabling new technologies like machine learning and robotics. ''')"
   ]
  },
  {
   "cell_type": "code",
   "execution_count": 47,
   "id": "e17032a3-d1cd-4d36-adf5-c2ac90430976",
   "metadata": {},
   "outputs": [],
   "source": [
    "f.close()"
   ]
  },
  {
   "cell_type": "code",
   "execution_count": 48,
   "id": "88bf70f3-f9b1-4132-a137-a0ae26425ebb",
   "metadata": {},
   "outputs": [],
   "source": [
    "f  = open('example.txt', mode='r+')"
   ]
  },
  {
   "cell_type": "code",
   "execution_count": 49,
   "id": "0965ddfa-bc72-46a6-b1a1-c8c385164a4b",
   "metadata": {},
   "outputs": [
    {
     "name": "stdout",
     "output_type": "stream",
     "text": [
      "Artificial Intelligence (AI) refers to the ability of a computer system to perform tasks that \n",
      "typically require human intelligence. This includes learning, reasoning, problem-solving, and decision-making. \n",
      "AI is a broad field encompassing various disciplines, including computer science, data analytics, \n",
      "and even philosophy. AI is transforming industries by automating repetitive processes, making complex \n",
      "decisions, and enabling new technologies like machine learning and robotics. \n"
     ]
    }
   ],
   "source": [
    "print(f.read())"
   ]
  },
  {
   "cell_type": "code",
   "execution_count": 50,
   "id": "744da86a-9f9b-4139-8ab2-7210da683bf0",
   "metadata": {},
   "outputs": [
    {
     "data": {
      "text/plain": [
       "0"
      ]
     },
     "execution_count": 50,
     "metadata": {},
     "output_type": "execute_result"
    }
   ],
   "source": [
    "f.seek(0)"
   ]
  },
  {
   "cell_type": "code",
   "execution_count": 51,
   "id": "6e8dd9a0-2f4f-45a7-97c1-28f5e0212292",
   "metadata": {},
   "outputs": [
    {
     "data": {
      "text/plain": [
       "'Artificial Intelligence (AI) refers to the ability of a computer system to perform tasks that \\n'"
      ]
     },
     "execution_count": 51,
     "metadata": {},
     "output_type": "execute_result"
    }
   ],
   "source": [
    "f.readline()"
   ]
  },
  {
   "cell_type": "code",
   "execution_count": 55,
   "id": "fb3fb890-1a8e-4a40-abe4-7b9bb105d1e4",
   "metadata": {},
   "outputs": [
    {
     "data": {
      "text/plain": [
       "0"
      ]
     },
     "execution_count": 55,
     "metadata": {},
     "output_type": "execute_result"
    }
   ],
   "source": [
    "f.seek(0)"
   ]
  },
  {
   "cell_type": "code",
   "execution_count": 56,
   "id": "b045515b-70ac-436a-a39e-0d7c2205be67",
   "metadata": {},
   "outputs": [
    {
     "name": "stdout",
     "output_type": "stream",
     "text": [
      "Artificial Intelligence (AI) refers to the ability of a computer system to perform tasks that \n",
      "\n",
      "typically require human intelligence. This includes learning, reasoning, problem-solving, and decision-making. \n",
      "\n",
      "AI is a broad field encompassing various disciplines, including computer science, data analytics, \n",
      "\n",
      "and even philosophy. AI is transforming industries by automating repetitive processes, making complex \n",
      "\n",
      "decisions, and enabling new technologies like machine learning and robotics. \n"
     ]
    }
   ],
   "source": [
    "for sentence in f.readlines():\n",
    "    print(sentence)"
   ]
  },
  {
   "cell_type": "code",
   "execution_count": 63,
   "id": "62f2fbc3-6890-4c89-9eda-2e9205a0ca2f",
   "metadata": {},
   "outputs": [
    {
     "data": {
      "text/plain": [
       "0"
      ]
     },
     "execution_count": 63,
     "metadata": {},
     "output_type": "execute_result"
    }
   ],
   "source": [
    "f.seek(0)"
   ]
  },
  {
   "cell_type": "code",
   "execution_count": 64,
   "id": "5ae182ea-e4a0-4223-a376-ac8a0633a7c5",
   "metadata": {},
   "outputs": [],
   "source": [
    "l = []\n",
    "for sentence in f.readlines():\n",
    "    for words in sentence.split():\n",
    "        l.append(words)"
   ]
  },
  {
   "cell_type": "code",
   "execution_count": 65,
   "id": "098f2411-e33e-4f6f-8a62-414c0691a8e9",
   "metadata": {},
   "outputs": [
    {
     "data": {
      "text/plain": [
       "['Artificial',\n",
       " 'Intelligence',\n",
       " '(AI)',\n",
       " 'refers',\n",
       " 'to',\n",
       " 'the',\n",
       " 'ability',\n",
       " 'of',\n",
       " 'a',\n",
       " 'computer',\n",
       " 'system',\n",
       " 'to',\n",
       " 'perform',\n",
       " 'tasks',\n",
       " 'that',\n",
       " 'typically',\n",
       " 'require',\n",
       " 'human',\n",
       " 'intelligence.',\n",
       " 'This',\n",
       " 'includes',\n",
       " 'learning,',\n",
       " 'reasoning,',\n",
       " 'problem-solving,',\n",
       " 'and',\n",
       " 'decision-making.',\n",
       " 'AI',\n",
       " 'is',\n",
       " 'a',\n",
       " 'broad',\n",
       " 'field',\n",
       " 'encompassing',\n",
       " 'various',\n",
       " 'disciplines,',\n",
       " 'including',\n",
       " 'computer',\n",
       " 'science,',\n",
       " 'data',\n",
       " 'analytics,',\n",
       " 'and',\n",
       " 'even',\n",
       " 'philosophy.',\n",
       " 'AI',\n",
       " 'is',\n",
       " 'transforming',\n",
       " 'industries',\n",
       " 'by',\n",
       " 'automating',\n",
       " 'repetitive',\n",
       " 'processes,',\n",
       " 'making',\n",
       " 'complex',\n",
       " 'decisions,',\n",
       " 'and',\n",
       " 'enabling',\n",
       " 'new',\n",
       " 'technologies',\n",
       " 'like',\n",
       " 'machine',\n",
       " 'learning',\n",
       " 'and',\n",
       " 'robotics.']"
      ]
     },
     "execution_count": 65,
     "metadata": {},
     "output_type": "execute_result"
    }
   ],
   "source": [
    "l"
   ]
  },
  {
   "cell_type": "code",
   "execution_count": 62,
   "id": "e3bbbb55-3791-4c3e-a3de-8390e90ed4db",
   "metadata": {},
   "outputs": [
    {
     "data": {
      "text/plain": [
       "['Artificial',\n",
       " 'Intelligence',\n",
       " '(AI)',\n",
       " 'refers',\n",
       " 'to',\n",
       " 'the',\n",
       " 'ability',\n",
       " 'of',\n",
       " 'a',\n",
       " 'computer',\n",
       " 'system',\n",
       " 'to',\n",
       " 'perform',\n",
       " 'tasks',\n",
       " 'that']"
      ]
     },
     "execution_count": 62,
     "metadata": {},
     "output_type": "execute_result"
    }
   ],
   "source": [
    "'Artificial Intelligence (AI) refers to the ability of a computer system to perform tasks that'.split()"
   ]
  },
  {
   "cell_type": "code",
   "execution_count": 66,
   "id": "47a8d929-6e0b-466e-8760-7e572e62914a",
   "metadata": {},
   "outputs": [
    {
     "data": {
      "text/plain": [
       "2"
      ]
     },
     "execution_count": 66,
     "metadata": {},
     "output_type": "execute_result"
    }
   ],
   "source": [
    "l.count('to')"
   ]
  },
  {
   "cell_type": "code",
   "execution_count": 67,
   "id": "b575c398-29e0-4fad-b8eb-66e86bf6c1b7",
   "metadata": {},
   "outputs": [
    {
     "data": {
      "text/plain": [
       "4"
      ]
     },
     "execution_count": 67,
     "metadata": {},
     "output_type": "execute_result"
    }
   ],
   "source": [
    "l.count('and')"
   ]
  },
  {
   "cell_type": "code",
   "execution_count": 69,
   "id": "d336dd22-8f19-44d2-a088-b45154c90ec3",
   "metadata": {},
   "outputs": [
    {
     "name": "stdout",
     "output_type": "stream",
     "text": [
      "A\n",
      "r\n",
      "t\n",
      "i\n",
      "f\n",
      "i\n",
      "c\n",
      "i\n",
      "a\n",
      "l\n"
     ]
    }
   ],
   "source": [
    "for i in 'Artificial':\n",
    "    print(i)"
   ]
  },
  {
   "cell_type": "code",
   "execution_count": 70,
   "id": "0227c44a-efbe-4c5b-9e84-e7fbe4b0e2dd",
   "metadata": {},
   "outputs": [],
   "source": [
    "a = []\n",
    "for words in l:\n",
    "    for char in words:\n",
    "        a.append(char)"
   ]
  },
  {
   "cell_type": "code",
   "execution_count": 71,
   "id": "db5a68e9-5767-41a8-ae68-fd074d59fe17",
   "metadata": {},
   "outputs": [
    {
     "data": {
      "text/plain": [
       "['A',\n",
       " 'r',\n",
       " 't',\n",
       " 'i',\n",
       " 'f',\n",
       " 'i',\n",
       " 'c',\n",
       " 'i',\n",
       " 'a',\n",
       " 'l',\n",
       " 'I',\n",
       " 'n',\n",
       " 't',\n",
       " 'e',\n",
       " 'l',\n",
       " 'l',\n",
       " 'i',\n",
       " 'g',\n",
       " 'e',\n",
       " 'n',\n",
       " 'c',\n",
       " 'e',\n",
       " '(',\n",
       " 'A',\n",
       " 'I',\n",
       " ')',\n",
       " 'r',\n",
       " 'e',\n",
       " 'f',\n",
       " 'e',\n",
       " 'r',\n",
       " 's',\n",
       " 't',\n",
       " 'o',\n",
       " 't',\n",
       " 'h',\n",
       " 'e',\n",
       " 'a',\n",
       " 'b',\n",
       " 'i',\n",
       " 'l',\n",
       " 'i',\n",
       " 't',\n",
       " 'y',\n",
       " 'o',\n",
       " 'f',\n",
       " 'a',\n",
       " 'c',\n",
       " 'o',\n",
       " 'm',\n",
       " 'p',\n",
       " 'u',\n",
       " 't',\n",
       " 'e',\n",
       " 'r',\n",
       " 's',\n",
       " 'y',\n",
       " 's',\n",
       " 't',\n",
       " 'e',\n",
       " 'm',\n",
       " 't',\n",
       " 'o',\n",
       " 'p',\n",
       " 'e',\n",
       " 'r',\n",
       " 'f',\n",
       " 'o',\n",
       " 'r',\n",
       " 'm',\n",
       " 't',\n",
       " 'a',\n",
       " 's',\n",
       " 'k',\n",
       " 's',\n",
       " 't',\n",
       " 'h',\n",
       " 'a',\n",
       " 't',\n",
       " 't',\n",
       " 'y',\n",
       " 'p',\n",
       " 'i',\n",
       " 'c',\n",
       " 'a',\n",
       " 'l',\n",
       " 'l',\n",
       " 'y',\n",
       " 'r',\n",
       " 'e',\n",
       " 'q',\n",
       " 'u',\n",
       " 'i',\n",
       " 'r',\n",
       " 'e',\n",
       " 'h',\n",
       " 'u',\n",
       " 'm',\n",
       " 'a',\n",
       " 'n',\n",
       " 'i',\n",
       " 'n',\n",
       " 't',\n",
       " 'e',\n",
       " 'l',\n",
       " 'l',\n",
       " 'i',\n",
       " 'g',\n",
       " 'e',\n",
       " 'n',\n",
       " 'c',\n",
       " 'e',\n",
       " '.',\n",
       " 'T',\n",
       " 'h',\n",
       " 'i',\n",
       " 's',\n",
       " 'i',\n",
       " 'n',\n",
       " 'c',\n",
       " 'l',\n",
       " 'u',\n",
       " 'd',\n",
       " 'e',\n",
       " 's',\n",
       " 'l',\n",
       " 'e',\n",
       " 'a',\n",
       " 'r',\n",
       " 'n',\n",
       " 'i',\n",
       " 'n',\n",
       " 'g',\n",
       " ',',\n",
       " 'r',\n",
       " 'e',\n",
       " 'a',\n",
       " 's',\n",
       " 'o',\n",
       " 'n',\n",
       " 'i',\n",
       " 'n',\n",
       " 'g',\n",
       " ',',\n",
       " 'p',\n",
       " 'r',\n",
       " 'o',\n",
       " 'b',\n",
       " 'l',\n",
       " 'e',\n",
       " 'm',\n",
       " '-',\n",
       " 's',\n",
       " 'o',\n",
       " 'l',\n",
       " 'v',\n",
       " 'i',\n",
       " 'n',\n",
       " 'g',\n",
       " ',',\n",
       " 'a',\n",
       " 'n',\n",
       " 'd',\n",
       " 'd',\n",
       " 'e',\n",
       " 'c',\n",
       " 'i',\n",
       " 's',\n",
       " 'i',\n",
       " 'o',\n",
       " 'n',\n",
       " '-',\n",
       " 'm',\n",
       " 'a',\n",
       " 'k',\n",
       " 'i',\n",
       " 'n',\n",
       " 'g',\n",
       " '.',\n",
       " 'A',\n",
       " 'I',\n",
       " 'i',\n",
       " 's',\n",
       " 'a',\n",
       " 'b',\n",
       " 'r',\n",
       " 'o',\n",
       " 'a',\n",
       " 'd',\n",
       " 'f',\n",
       " 'i',\n",
       " 'e',\n",
       " 'l',\n",
       " 'd',\n",
       " 'e',\n",
       " 'n',\n",
       " 'c',\n",
       " 'o',\n",
       " 'm',\n",
       " 'p',\n",
       " 'a',\n",
       " 's',\n",
       " 's',\n",
       " 'i',\n",
       " 'n',\n",
       " 'g',\n",
       " 'v',\n",
       " 'a',\n",
       " 'r',\n",
       " 'i',\n",
       " 'o',\n",
       " 'u',\n",
       " 's',\n",
       " 'd',\n",
       " 'i',\n",
       " 's',\n",
       " 'c',\n",
       " 'i',\n",
       " 'p',\n",
       " 'l',\n",
       " 'i',\n",
       " 'n',\n",
       " 'e',\n",
       " 's',\n",
       " ',',\n",
       " 'i',\n",
       " 'n',\n",
       " 'c',\n",
       " 'l',\n",
       " 'u',\n",
       " 'd',\n",
       " 'i',\n",
       " 'n',\n",
       " 'g',\n",
       " 'c',\n",
       " 'o',\n",
       " 'm',\n",
       " 'p',\n",
       " 'u',\n",
       " 't',\n",
       " 'e',\n",
       " 'r',\n",
       " 's',\n",
       " 'c',\n",
       " 'i',\n",
       " 'e',\n",
       " 'n',\n",
       " 'c',\n",
       " 'e',\n",
       " ',',\n",
       " 'd',\n",
       " 'a',\n",
       " 't',\n",
       " 'a',\n",
       " 'a',\n",
       " 'n',\n",
       " 'a',\n",
       " 'l',\n",
       " 'y',\n",
       " 't',\n",
       " 'i',\n",
       " 'c',\n",
       " 's',\n",
       " ',',\n",
       " 'a',\n",
       " 'n',\n",
       " 'd',\n",
       " 'e',\n",
       " 'v',\n",
       " 'e',\n",
       " 'n',\n",
       " 'p',\n",
       " 'h',\n",
       " 'i',\n",
       " 'l',\n",
       " 'o',\n",
       " 's',\n",
       " 'o',\n",
       " 'p',\n",
       " 'h',\n",
       " 'y',\n",
       " '.',\n",
       " 'A',\n",
       " 'I',\n",
       " 'i',\n",
       " 's',\n",
       " 't',\n",
       " 'r',\n",
       " 'a',\n",
       " 'n',\n",
       " 's',\n",
       " 'f',\n",
       " 'o',\n",
       " 'r',\n",
       " 'm',\n",
       " 'i',\n",
       " 'n',\n",
       " 'g',\n",
       " 'i',\n",
       " 'n',\n",
       " 'd',\n",
       " 'u',\n",
       " 's',\n",
       " 't',\n",
       " 'r',\n",
       " 'i',\n",
       " 'e',\n",
       " 's',\n",
       " 'b',\n",
       " 'y',\n",
       " 'a',\n",
       " 'u',\n",
       " 't',\n",
       " 'o',\n",
       " 'm',\n",
       " 'a',\n",
       " 't',\n",
       " 'i',\n",
       " 'n',\n",
       " 'g',\n",
       " 'r',\n",
       " 'e',\n",
       " 'p',\n",
       " 'e',\n",
       " 't',\n",
       " 'i',\n",
       " 't',\n",
       " 'i',\n",
       " 'v',\n",
       " 'e',\n",
       " 'p',\n",
       " 'r',\n",
       " 'o',\n",
       " 'c',\n",
       " 'e',\n",
       " 's',\n",
       " 's',\n",
       " 'e',\n",
       " 's',\n",
       " ',',\n",
       " 'm',\n",
       " 'a',\n",
       " 'k',\n",
       " 'i',\n",
       " 'n',\n",
       " 'g',\n",
       " 'c',\n",
       " 'o',\n",
       " 'm',\n",
       " 'p',\n",
       " 'l',\n",
       " 'e',\n",
       " 'x',\n",
       " 'd',\n",
       " 'e',\n",
       " 'c',\n",
       " 'i',\n",
       " 's',\n",
       " 'i',\n",
       " 'o',\n",
       " 'n',\n",
       " 's',\n",
       " ',',\n",
       " 'a',\n",
       " 'n',\n",
       " 'd',\n",
       " 'e',\n",
       " 'n',\n",
       " 'a',\n",
       " 'b',\n",
       " 'l',\n",
       " 'i',\n",
       " 'n',\n",
       " 'g',\n",
       " 'n',\n",
       " 'e',\n",
       " 'w',\n",
       " 't',\n",
       " 'e',\n",
       " 'c',\n",
       " 'h',\n",
       " 'n',\n",
       " 'o',\n",
       " 'l',\n",
       " 'o',\n",
       " 'g',\n",
       " 'i',\n",
       " 'e',\n",
       " 's',\n",
       " 'l',\n",
       " 'i',\n",
       " 'k',\n",
       " 'e',\n",
       " 'm',\n",
       " 'a',\n",
       " 'c',\n",
       " 'h',\n",
       " 'i',\n",
       " 'n',\n",
       " 'e',\n",
       " 'l',\n",
       " 'e',\n",
       " 'a',\n",
       " 'r',\n",
       " 'n',\n",
       " 'i',\n",
       " 'n',\n",
       " 'g',\n",
       " 'a',\n",
       " 'n',\n",
       " 'd',\n",
       " 'r',\n",
       " 'o',\n",
       " 'b',\n",
       " 'o',\n",
       " 't',\n",
       " 'i',\n",
       " 'c',\n",
       " 's',\n",
       " '.']"
      ]
     },
     "execution_count": 71,
     "metadata": {},
     "output_type": "execute_result"
    }
   ],
   "source": [
    "a"
   ]
  },
  {
   "cell_type": "code",
   "execution_count": 72,
   "id": "9dadd7e8-3dc4-422e-8e1f-9ee6b1218b30",
   "metadata": {},
   "outputs": [
    {
     "data": {
      "text/plain": [
       "29"
      ]
     },
     "execution_count": 72,
     "metadata": {},
     "output_type": "execute_result"
    }
   ],
   "source": [
    "a.count('a')"
   ]
  },
  {
   "cell_type": "code",
   "execution_count": null,
   "id": "1efe1eef-23d8-4372-a2d2-ff4be9504d17",
   "metadata": {},
   "outputs": [],
   "source": []
  }
 ],
 "metadata": {
  "kernelspec": {
   "display_name": "Python 3 (ipykernel)",
   "language": "python",
   "name": "python3"
  },
  "language_info": {
   "codemirror_mode": {
    "name": "ipython",
    "version": 3
   },
   "file_extension": ".py",
   "mimetype": "text/x-python",
   "name": "python",
   "nbconvert_exporter": "python",
   "pygments_lexer": "ipython3",
   "version": "3.12.4"
  }
 },
 "nbformat": 4,
 "nbformat_minor": 5
}
