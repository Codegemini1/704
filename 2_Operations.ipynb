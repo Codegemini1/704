{
 "cells": [
  {
   "cell_type": "code",
   "execution_count": 1,
   "id": "6bacf54d-36af-4711-9924-4d0089fcadcf",
   "metadata": {},
   "outputs": [
    {
     "data": {
      "text/plain": [
       "16"
      ]
     },
     "execution_count": 1,
     "metadata": {},
     "output_type": "execute_result"
    }
   ],
   "source": [
    "10 + 6"
   ]
  },
  {
   "cell_type": "code",
   "execution_count": 2,
   "id": "71d8f664-b2c8-4ec1-9583-b6da16ab357f",
   "metadata": {},
   "outputs": [
    {
     "data": {
      "text/plain": [
       "24"
      ]
     },
     "execution_count": 2,
     "metadata": {},
     "output_type": "execute_result"
    }
   ],
   "source": [
    "6 * 4"
   ]
  },
  {
   "cell_type": "code",
   "execution_count": 3,
   "id": "532dceb8-ea49-4261-b063-271e10c18c05",
   "metadata": {},
   "outputs": [
    {
     "data": {
      "text/plain": [
       "5.0"
      ]
     },
     "execution_count": 3,
     "metadata": {},
     "output_type": "execute_result"
    }
   ],
   "source": [
    "10 / 2"
   ]
  },
  {
   "cell_type": "code",
   "execution_count": 4,
   "id": "c9b709e2-fce6-4282-89b8-0cbb6c3bb70c",
   "metadata": {},
   "outputs": [
    {
     "data": {
      "text/plain": [
       "0"
      ]
     },
     "execution_count": 4,
     "metadata": {},
     "output_type": "execute_result"
    }
   ],
   "source": [
    "10 % 2"
   ]
  },
  {
   "cell_type": "code",
   "execution_count": 5,
   "id": "769c22e3-9707-4ee3-a33d-a0e203e5d83a",
   "metadata": {},
   "outputs": [
    {
     "data": {
      "text/plain": [
       "1"
      ]
     },
     "execution_count": 5,
     "metadata": {},
     "output_type": "execute_result"
    }
   ],
   "source": [
    "10 % 3"
   ]
  },
  {
   "cell_type": "code",
   "execution_count": 6,
   "id": "00a75264-35ae-4642-9271-576927f1b506",
   "metadata": {},
   "outputs": [
    {
     "data": {
      "text/plain": [
       "'HelloPython'"
      ]
     },
     "execution_count": 6,
     "metadata": {},
     "output_type": "execute_result"
    }
   ],
   "source": [
    "'Hello' + 'Python'"
   ]
  },
  {
   "cell_type": "code",
   "execution_count": 7,
   "id": "23d601d4-cdd9-4c0d-8684-185dffdc0300",
   "metadata": {},
   "outputs": [
    {
     "data": {
      "text/plain": [
       "'HelloHelloHello'"
      ]
     },
     "execution_count": 7,
     "metadata": {},
     "output_type": "execute_result"
    }
   ],
   "source": [
    "'Hello' * 3"
   ]
  },
  {
   "cell_type": "code",
   "execution_count": 8,
   "id": "947c44e9-332f-40f3-865d-39db244eb4a6",
   "metadata": {},
   "outputs": [
    {
     "data": {
      "text/plain": [
       "'Today is holiday'"
      ]
     },
     "execution_count": 8,
     "metadata": {},
     "output_type": "execute_result"
    }
   ],
   "source": [
    "'Today' + ' ' + 'is holiday'"
   ]
  },
  {
   "cell_type": "code",
   "execution_count": 9,
   "id": "de422c2d-a27f-48dc-940a-58d05d9839cc",
   "metadata": {},
   "outputs": [
    {
     "data": {
      "text/plain": [
       "'Today is holiday'"
      ]
     },
     "execution_count": 9,
     "metadata": {},
     "output_type": "execute_result"
    }
   ],
   "source": [
    "'Today ' + 'is holiday'"
   ]
  },
  {
   "cell_type": "markdown",
   "id": "88d311b1-095a-44b3-aeec-cb76be81a80c",
   "metadata": {},
   "source": [
    "# Variable "
   ]
  },
  {
   "cell_type": "code",
   "execution_count": 10,
   "id": "7342f034-3747-465a-8d59-a976272a18a7",
   "metadata": {},
   "outputs": [],
   "source": [
    "a = 10"
   ]
  },
  {
   "cell_type": "code",
   "execution_count": 12,
   "id": "e417bacd-3100-416e-858d-1d77f46f9c2b",
   "metadata": {},
   "outputs": [],
   "source": [
    "b = 5"
   ]
  },
  {
   "cell_type": "code",
   "execution_count": 13,
   "id": "b6425ddb-c36d-4ee2-9003-834349878ea8",
   "metadata": {},
   "outputs": [
    {
     "data": {
      "text/plain": [
       "15"
      ]
     },
     "execution_count": 13,
     "metadata": {},
     "output_type": "execute_result"
    }
   ],
   "source": [
    "a + b"
   ]
  },
  {
   "cell_type": "code",
   "execution_count": 14,
   "id": "9afa0af8-b76c-4fd5-b774-2e481cba413e",
   "metadata": {},
   "outputs": [
    {
     "data": {
      "text/plain": [
       "10"
      ]
     },
     "execution_count": 14,
     "metadata": {},
     "output_type": "execute_result"
    }
   ],
   "source": [
    "a"
   ]
  },
  {
   "cell_type": "code",
   "execution_count": 15,
   "id": "363623f4-6d9b-48d6-a2f7-4774a524905f",
   "metadata": {},
   "outputs": [
    {
     "data": {
      "text/plain": [
       "5"
      ]
     },
     "execution_count": 15,
     "metadata": {},
     "output_type": "execute_result"
    }
   ],
   "source": [
    "b"
   ]
  },
  {
   "cell_type": "code",
   "execution_count": 16,
   "id": "89a52eab-33a9-4100-ac46-ef874944b523",
   "metadata": {},
   "outputs": [
    {
     "data": {
      "text/plain": [
       "int"
      ]
     },
     "execution_count": 16,
     "metadata": {},
     "output_type": "execute_result"
    }
   ],
   "source": [
    "type(a)"
   ]
  },
  {
   "cell_type": "code",
   "execution_count": 17,
   "id": "93c7f307-621f-4121-825d-8541359ce77b",
   "metadata": {},
   "outputs": [],
   "source": [
    "result = a + b"
   ]
  },
  {
   "cell_type": "code",
   "execution_count": 18,
   "id": "b8a41d04-9d86-41da-9378-40c410aea1c9",
   "metadata": {},
   "outputs": [
    {
     "data": {
      "text/plain": [
       "15"
      ]
     },
     "execution_count": 18,
     "metadata": {},
     "output_type": "execute_result"
    }
   ],
   "source": [
    "result"
   ]
  },
  {
   "cell_type": "code",
   "execution_count": 19,
   "id": "e0141969-0b5a-4e53-a8df-c59247b257ef",
   "metadata": {},
   "outputs": [],
   "source": [
    "name = 'Vaibhav'"
   ]
  },
  {
   "cell_type": "code",
   "execution_count": 20,
   "id": "f6cabbe7-cb59-4653-88d6-dd877d3bf584",
   "metadata": {},
   "outputs": [
    {
     "data": {
      "text/plain": [
       "str"
      ]
     },
     "execution_count": 20,
     "metadata": {},
     "output_type": "execute_result"
    }
   ],
   "source": [
    "type(name)"
   ]
  },
  {
   "cell_type": "code",
   "execution_count": 21,
   "id": "53989cf2-746a-47d3-a1d9-8d789715f08d",
   "metadata": {},
   "outputs": [
    {
     "data": {
      "text/plain": [
       "'Vaibhav'"
      ]
     },
     "execution_count": 21,
     "metadata": {},
     "output_type": "execute_result"
    }
   ],
   "source": [
    "name "
   ]
  },
  {
   "cell_type": "code",
   "execution_count": 22,
   "id": "bff0a2aa-a010-48c0-99ee-6b499ec2ea84",
   "metadata": {},
   "outputs": [
    {
     "data": {
      "text/plain": [
       "'VaibhavVaibhavVaibhavVaibhavVaibhav'"
      ]
     },
     "execution_count": 22,
     "metadata": {},
     "output_type": "execute_result"
    }
   ],
   "source": [
    "name * 5"
   ]
  },
  {
   "cell_type": "code",
   "execution_count": 23,
   "id": "41ac028d-ad5a-419a-b4f8-d4722cffc6dd",
   "metadata": {},
   "outputs": [
    {
     "data": {
      "text/plain": [
       "'My name is Vaibhav'"
      ]
     },
     "execution_count": 23,
     "metadata": {},
     "output_type": "execute_result"
    }
   ],
   "source": [
    "'My name is ' + name"
   ]
  },
  {
   "cell_type": "code",
   "execution_count": 24,
   "id": "9ecfe7b4-19e1-4e59-ad85-d6c5e58220fb",
   "metadata": {},
   "outputs": [
    {
     "data": {
      "text/plain": [
       "'My name is Vaibhav. Today i am going to Pune'"
      ]
     },
     "execution_count": 24,
     "metadata": {},
     "output_type": "execute_result"
    }
   ],
   "source": [
    "'My name is ' + name + '. Today i am going to Pune'"
   ]
  },
  {
   "cell_type": "code",
   "execution_count": 25,
   "id": "8aae2165-9eff-4f6f-90b4-5037059e4283",
   "metadata": {},
   "outputs": [
    {
     "ename": "SyntaxError",
     "evalue": "cannot assign to literal here. Maybe you meant '==' instead of '='? (637806826.py, line 1)",
     "output_type": "error",
     "traceback": [
      "\u001b[1;36m  Cell \u001b[1;32mIn[25], line 1\u001b[1;36m\u001b[0m\n\u001b[1;33m    5 = 2\u001b[0m\n\u001b[1;37m    ^\u001b[0m\n\u001b[1;31mSyntaxError\u001b[0m\u001b[1;31m:\u001b[0m cannot assign to literal here. Maybe you meant '==' instead of '='?\n"
     ]
    }
   ],
   "source": [
    "5 = 2"
   ]
  },
  {
   "cell_type": "code",
   "execution_count": 27,
   "id": "5095c78a-5322-4a52-97ec-7d16512d8670",
   "metadata": {},
   "outputs": [
    {
     "ename": "SyntaxError",
     "evalue": "invalid syntax (3392610131.py, line 1)",
     "output_type": "error",
     "traceback": [
      "\u001b[1;36m  Cell \u001b[1;32mIn[27], line 1\u001b[1;36m\u001b[0m\n\u001b[1;33m    @ = 78\u001b[0m\n\u001b[1;37m      ^\u001b[0m\n\u001b[1;31mSyntaxError\u001b[0m\u001b[1;31m:\u001b[0m invalid syntax\n"
     ]
    }
   ],
   "source": [
    "@ = 78"
   ]
  },
  {
   "cell_type": "code",
   "execution_count": 28,
   "id": "d80d731a-8eff-4cbf-b149-424ee7ec48ce",
   "metadata": {},
   "outputs": [],
   "source": [
    "# = 5"
   ]
  },
  {
   "cell_type": "code",
   "execution_count": 29,
   "id": "c736c34e-b094-4d70-8347-7aeeeaff0333",
   "metadata": {},
   "outputs": [],
   "source": [
    "a5 = 10"
   ]
  },
  {
   "cell_type": "code",
   "execution_count": 30,
   "id": "1dfcfe83-a9ad-4657-8b89-824c3afb5954",
   "metadata": {},
   "outputs": [
    {
     "data": {
      "text/plain": [
       "10"
      ]
     },
     "execution_count": 30,
     "metadata": {},
     "output_type": "execute_result"
    }
   ],
   "source": [
    "a5"
   ]
  },
  {
   "cell_type": "code",
   "execution_count": 31,
   "id": "67995a0d-a3b6-478e-9650-eb632352a329",
   "metadata": {},
   "outputs": [],
   "source": [
    "a_7 = 90"
   ]
  },
  {
   "cell_type": "code",
   "execution_count": 32,
   "id": "bd124438-67b8-404d-a26a-c68d73d10b55",
   "metadata": {},
   "outputs": [
    {
     "data": {
      "text/plain": [
       "90"
      ]
     },
     "execution_count": 32,
     "metadata": {},
     "output_type": "execute_result"
    }
   ],
   "source": [
    "a_7"
   ]
  },
  {
   "cell_type": "code",
   "execution_count": 33,
   "id": "e60c5248-b1df-405a-b4eb-6cc8365d675d",
   "metadata": {},
   "outputs": [],
   "source": [
    "int = 10"
   ]
  },
  {
   "cell_type": "code",
   "execution_count": 34,
   "id": "05017479-6a9b-4001-abc8-06ebe1a8de3a",
   "metadata": {},
   "outputs": [
    {
     "data": {
      "text/plain": [
       "10"
      ]
     },
     "execution_count": 34,
     "metadata": {},
     "output_type": "execute_result"
    }
   ],
   "source": [
    "int"
   ]
  },
  {
   "cell_type": "markdown",
   "id": "225205fb-1f94-4c37-b163-6c08ef312dec",
   "metadata": {},
   "source": [
    "# How to do Typecasting"
   ]
  },
  {
   "cell_type": "markdown",
   "id": "073c0d31-7926-40a0-8125-d3e48371cb4d",
   "metadata": {},
   "source": [
    "Changing data type "
   ]
  },
  {
   "cell_type": "code",
   "execution_count": 1,
   "id": "d0c888f8-3534-4b4d-b3d7-809eead3abc9",
   "metadata": {},
   "outputs": [],
   "source": [
    "a = '15'"
   ]
  },
  {
   "cell_type": "code",
   "execution_count": 2,
   "id": "80ca6182-05ef-4632-a88f-5da0ed229975",
   "metadata": {},
   "outputs": [
    {
     "data": {
      "text/plain": [
       "str"
      ]
     },
     "execution_count": 2,
     "metadata": {},
     "output_type": "execute_result"
    }
   ],
   "source": [
    "type(a)"
   ]
  },
  {
   "cell_type": "code",
   "execution_count": 3,
   "id": "bb9b3756-87f4-4282-ae60-e5445a1a27cd",
   "metadata": {},
   "outputs": [
    {
     "data": {
      "text/plain": [
       "15"
      ]
     },
     "execution_count": 3,
     "metadata": {},
     "output_type": "execute_result"
    }
   ],
   "source": [
    "int('15')"
   ]
  },
  {
   "cell_type": "code",
   "execution_count": 4,
   "id": "02671adc-008c-4f62-89cd-9655ccc19305",
   "metadata": {},
   "outputs": [],
   "source": [
    "result = int(a)"
   ]
  },
  {
   "cell_type": "code",
   "execution_count": 5,
   "id": "82e84094-e33c-4b49-94c2-ebe8049eae0e",
   "metadata": {},
   "outputs": [
    {
     "data": {
      "text/plain": [
       "15"
      ]
     },
     "execution_count": 5,
     "metadata": {},
     "output_type": "execute_result"
    }
   ],
   "source": [
    "result"
   ]
  },
  {
   "cell_type": "code",
   "execution_count": 6,
   "id": "46869b3d-1723-40a8-a8e1-0ca221b3dad3",
   "metadata": {},
   "outputs": [
    {
     "data": {
      "text/plain": [
       "int"
      ]
     },
     "execution_count": 6,
     "metadata": {},
     "output_type": "execute_result"
    }
   ],
   "source": [
    "type(result)"
   ]
  },
  {
   "cell_type": "code",
   "execution_count": 7,
   "id": "e9996b0a-c281-4793-a889-3711b68f8745",
   "metadata": {},
   "outputs": [],
   "source": [
    "d = 'Hello'"
   ]
  },
  {
   "cell_type": "code",
   "execution_count": 8,
   "id": "4d7c94eb-3e9f-41a2-98e4-16a47dba5838",
   "metadata": {},
   "outputs": [
    {
     "ename": "ValueError",
     "evalue": "invalid literal for int() with base 10: 'Hello'",
     "output_type": "error",
     "traceback": [
      "\u001b[1;31m---------------------------------------------------------------------------\u001b[0m",
      "\u001b[1;31mValueError\u001b[0m                                Traceback (most recent call last)",
      "Cell \u001b[1;32mIn[8], line 1\u001b[0m\n\u001b[1;32m----> 1\u001b[0m \u001b[38;5;28mint\u001b[39m(d)\n",
      "\u001b[1;31mValueError\u001b[0m: invalid literal for int() with base 10: 'Hello'"
     ]
    }
   ],
   "source": [
    "int(d)"
   ]
  },
  {
   "cell_type": "code",
   "execution_count": 9,
   "id": "ef73b426-4926-44c7-9a2f-f4fe9e301e4f",
   "metadata": {},
   "outputs": [
    {
     "data": {
      "text/plain": [
       "5.0"
      ]
     },
     "execution_count": 9,
     "metadata": {},
     "output_type": "execute_result"
    }
   ],
   "source": [
    "float(5)"
   ]
  },
  {
   "cell_type": "code",
   "execution_count": 10,
   "id": "750d33c9-1486-4484-8a8c-8d52e24e1a7f",
   "metadata": {},
   "outputs": [
    {
     "data": {
      "text/plain": [
       "1.45"
      ]
     },
     "execution_count": 10,
     "metadata": {},
     "output_type": "execute_result"
    }
   ],
   "source": [
    "float('1.45')"
   ]
  },
  {
   "cell_type": "code",
   "execution_count": null,
   "id": "2705a427-5c5c-4567-92a9-1f0eca489ffc",
   "metadata": {},
   "outputs": [],
   "source": []
  }
 ],
 "metadata": {
  "kernelspec": {
   "display_name": "Python 3 (ipykernel)",
   "language": "python",
   "name": "python3"
  },
  "language_info": {
   "codemirror_mode": {
    "name": "ipython",
    "version": 3
   },
   "file_extension": ".py",
   "mimetype": "text/x-python",
   "name": "python",
   "nbconvert_exporter": "python",
   "pygments_lexer": "ipython3",
   "version": "3.12.4"
  }
 },
 "nbformat": 4,
 "nbformat_minor": 5
}
