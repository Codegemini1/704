{
 "cells": [
  {
   "cell_type": "code",
   "execution_count": 1,
   "id": "449ae699-394b-4479-a519-440274a0235c",
   "metadata": {},
   "outputs": [],
   "source": [
    "def test(a,b,c,d):\n",
    "    return a ,b, c, d"
   ]
  },
  {
   "cell_type": "code",
   "execution_count": 2,
   "id": "ab475775-4d3d-45cd-8aa5-7f0b52082253",
   "metadata": {},
   "outputs": [
    {
     "data": {
      "text/plain": [
       "(1, 2, 3, 4)"
      ]
     },
     "execution_count": 2,
     "metadata": {},
     "output_type": "execute_result"
    }
   ],
   "source": [
    "test(1,2,3,4)"
   ]
  },
  {
   "cell_type": "markdown",
   "id": "53f14d25-ea1d-4047-83b4-3f66ea617961",
   "metadata": {},
   "source": [
    "# ARGS"
   ]
  },
  {
   "cell_type": "code",
   "execution_count": 3,
   "id": "8ebcf65c-d38c-48ce-b571-3ac42a922fd1",
   "metadata": {},
   "outputs": [],
   "source": [
    "def test2(*args):\n",
    "    return args"
   ]
  },
  {
   "cell_type": "code",
   "execution_count": 4,
   "id": "c6819e57-3bbe-4922-a159-b8e575bbede4",
   "metadata": {},
   "outputs": [
    {
     "data": {
      "text/plain": [
       "(1, 6, 4, 2, 4, 2, 5)"
      ]
     },
     "execution_count": 4,
     "metadata": {},
     "output_type": "execute_result"
    }
   ],
   "source": [
    "test2(1,6,4,2,4,2,5)"
   ]
  },
  {
   "cell_type": "code",
   "execution_count": 5,
   "id": "68e3d005-b29a-43fa-8c00-309a6aac5aad",
   "metadata": {},
   "outputs": [
    {
     "data": {
      "text/plain": [
       "('Hello', 'Python', 1, 5, 3, 7, 2)"
      ]
     },
     "execution_count": 5,
     "metadata": {},
     "output_type": "execute_result"
    }
   ],
   "source": [
    "test2('Hello', 'Python', 1,5,3,7,2)"
   ]
  },
  {
   "cell_type": "code",
   "execution_count": 6,
   "id": "8ce268ff-70ea-43ca-8fe0-cb9943f61d4f",
   "metadata": {},
   "outputs": [],
   "source": [
    "def test3(*args):\n",
    "    l = []\n",
    "    for i in args:\n",
    "        if type(i) == int:\n",
    "            l.append(i)\n",
    "    return l"
   ]
  },
  {
   "cell_type": "code",
   "execution_count": 7,
   "id": "c2b9ed99-eb62-4228-a69a-2a076388a06b",
   "metadata": {},
   "outputs": [
    {
     "data": {
      "text/plain": [
       "[1, 5, 3, 7, 2]"
      ]
     },
     "execution_count": 7,
     "metadata": {},
     "output_type": "execute_result"
    }
   ],
   "source": [
    "test3('Hello', 'Python', 1,5,3,7,2)"
   ]
  },
  {
   "cell_type": "code",
   "execution_count": 8,
   "id": "17a7de93-5766-49a1-8d5d-0fbd87cdf362",
   "metadata": {},
   "outputs": [],
   "source": [
    "def test4(x,*args):\n",
    "    return x, args"
   ]
  },
  {
   "cell_type": "code",
   "execution_count": 9,
   "id": "f6c1cbd1-6cc4-4358-ad52-0bcb9cb833d2",
   "metadata": {},
   "outputs": [
    {
     "data": {
      "text/plain": [
       "(100, (1, 2, 3, 4, 5))"
      ]
     },
     "execution_count": 9,
     "metadata": {},
     "output_type": "execute_result"
    }
   ],
   "source": [
    "test4(100,1,2,3,4,5)"
   ]
  },
  {
   "cell_type": "code",
   "execution_count": 10,
   "id": "035a4436-f778-4983-898b-e43a6d431106",
   "metadata": {},
   "outputs": [],
   "source": [
    "def test5(a,b,c,*args):\n",
    "    return a,b,c,args"
   ]
  },
  {
   "cell_type": "code",
   "execution_count": 11,
   "id": "b3385e21-e56d-4fbd-b02d-70f5fdb09d66",
   "metadata": {},
   "outputs": [
    {
     "data": {
      "text/plain": [
       "(1, 2, 3, (4, 5, 6, 7, 8, 9))"
      ]
     },
     "execution_count": 11,
     "metadata": {},
     "output_type": "execute_result"
    }
   ],
   "source": [
    "test5(1,2,3,4,5,6,7,8,9)"
   ]
  },
  {
   "cell_type": "markdown",
   "id": "c25a7b27-eb1e-45a9-94ca-9ad4777d1d09",
   "metadata": {},
   "source": [
    "# Kwargs"
   ]
  },
  {
   "cell_type": "code",
   "execution_count": 12,
   "id": "4546774b-a531-47d7-a4e2-9c50306325c0",
   "metadata": {},
   "outputs": [],
   "source": [
    "def test6(**kwargs):\n",
    "    return kwargs"
   ]
  },
  {
   "cell_type": "code",
   "execution_count": 13,
   "id": "42a38703-affb-4edf-b182-ebf0a19e4cf9",
   "metadata": {},
   "outputs": [
    {
     "data": {
      "text/plain": [
       "{'a': 5, 'b': 1, 'c': 6}"
      ]
     },
     "execution_count": 13,
     "metadata": {},
     "output_type": "execute_result"
    }
   ],
   "source": [
    "test6(a=5,b=1,c=6)"
   ]
  },
  {
   "cell_type": "code",
   "execution_count": 14,
   "id": "3dd3d8b8-7cef-405a-9314-a9e09fe1bab4",
   "metadata": {},
   "outputs": [],
   "source": [
    "def test7(a,**kwargs):\n",
    "    return a, kwargs"
   ]
  },
  {
   "cell_type": "code",
   "execution_count": 16,
   "id": "51194bd3-9da0-4d29-8eac-7c25187eed8e",
   "metadata": {},
   "outputs": [
    {
     "data": {
      "text/plain": [
       "(10, {'Name': 'Vaibhav', 'Mobile_No': 9289293839, 'City': 'Delhi'})"
      ]
     },
     "execution_count": 16,
     "metadata": {},
     "output_type": "execute_result"
    }
   ],
   "source": [
    "test7(10,Name ='Vaibhav',Mobile_No=9289293839,City= 'Delhi')"
   ]
  },
  {
   "cell_type": "code",
   "execution_count": 17,
   "id": "0fa79b07-14d7-415a-a4b9-09e5fcc442da",
   "metadata": {},
   "outputs": [],
   "source": [
    "def test8(*args,**kwargs):\n",
    "    return args, kwargs"
   ]
  },
  {
   "cell_type": "code",
   "execution_count": 18,
   "id": "e11062ac-df41-45ac-93fe-cc7567b7ebc6",
   "metadata": {},
   "outputs": [
    {
     "data": {
      "text/plain": [
       "((1, 2, 3, 4, 2, 4, 2),\n",
       " {'Name': 'Vaibhav', 'Mobile_No': 9289293839, 'City': 'Delhi'})"
      ]
     },
     "execution_count": 18,
     "metadata": {},
     "output_type": "execute_result"
    }
   ],
   "source": [
    "test8(1,2,3,4,2,4,2,Name ='Vaibhav',Mobile_No=9289293839,City= 'Delhi')"
   ]
  },
  {
   "cell_type": "code",
   "execution_count": 21,
   "id": "54770923-ded1-4f57-a218-d6e12d04cd9a",
   "metadata": {},
   "outputs": [
    {
     "ename": "SyntaxError",
     "evalue": "positional argument follows keyword argument (261385953.py, line 1)",
     "output_type": "error",
     "traceback": [
      "\u001b[1;36m  Cell \u001b[1;32mIn[21], line 1\u001b[1;36m\u001b[0m\n\u001b[1;33m    test8(1,2,3,Name ='Vaibhav',Mobile_No=9289293839,1,2,3,4,5)\u001b[0m\n\u001b[1;37m                                                              ^\u001b[0m\n\u001b[1;31mSyntaxError\u001b[0m\u001b[1;31m:\u001b[0m positional argument follows keyword argument\n"
     ]
    }
   ],
   "source": [
    "test8(1,2,3,Name ='Vaibhav',Mobile_No=9289293839,1,2,3,4,5)"
   ]
  },
  {
   "cell_type": "code",
   "execution_count": 22,
   "id": "456d782c-eb51-4370-8498-9632a40469fb",
   "metadata": {},
   "outputs": [
    {
     "data": {
      "text/plain": [
       "((1, 2, 3), {'Name': 'Vaibhav', 'Mobile_No': 9289293839})"
      ]
     },
     "execution_count": 22,
     "metadata": {},
     "output_type": "execute_result"
    }
   ],
   "source": [
    "test8(1,2,3,Name ='Vaibhav',Mobile_No=9289293839)"
   ]
  },
  {
   "cell_type": "markdown",
   "id": "1923fee9-761a-47d6-911e-bacf7a61d21f",
   "metadata": {},
   "source": [
    "single Argument, Multiple_Arguments, Keys and values"
   ]
  },
  {
   "cell_type": "code",
   "execution_count": 23,
   "id": "15e3910a-2baf-4f8d-9170-a14fc260ecb5",
   "metadata": {},
   "outputs": [],
   "source": [
    "def test9(a,b,*args,**kwargs):\n",
    "    return a,b,args, kwargs"
   ]
  },
  {
   "cell_type": "code",
   "execution_count": 24,
   "id": "d12908da-a90d-4ef8-8fcd-3a183b05b5bd",
   "metadata": {},
   "outputs": [
    {
     "data": {
      "text/plain": [
       "(1, 2, (3, 3, 4, 5, 5, 6, 3), {'Name': 'Vaibhav', 'Mobile_No': 9289293839})"
      ]
     },
     "execution_count": 24,
     "metadata": {},
     "output_type": "execute_result"
    }
   ],
   "source": [
    "test9(1,2,3,3,4,5,5,6,3,Name ='Vaibhav',Mobile_No=9289293839)"
   ]
  },
  {
   "cell_type": "code",
   "execution_count": 25,
   "id": "197cd42d-7430-48a2-b843-f1c689340157",
   "metadata": {},
   "outputs": [
    {
     "ename": "SyntaxError",
     "evalue": "arguments cannot follow var-keyword argument (939141432.py, line 1)",
     "output_type": "error",
     "traceback": [
      "\u001b[1;36m  Cell \u001b[1;32mIn[25], line 1\u001b[1;36m\u001b[0m\n\u001b[1;33m    def test10(a,b,**kwargs,*args):\u001b[0m\n\u001b[1;37m                            ^\u001b[0m\n\u001b[1;31mSyntaxError\u001b[0m\u001b[1;31m:\u001b[0m arguments cannot follow var-keyword argument\n"
     ]
    }
   ],
   "source": [
    "def test10(a,b,**kwargs,*args):\n",
    "    return a,b,args, kwargs"
   ]
  },
  {
   "cell_type": "markdown",
   "id": "e6f2f0ee-1754-4ad2-b644-95a2606a6fb3",
   "metadata": {},
   "source": [
    "# Lambda"
   ]
  },
  {
   "cell_type": "code",
   "execution_count": 26,
   "id": "6f89f2b4-b900-48ea-8dc4-66080458b34e",
   "metadata": {},
   "outputs": [],
   "source": [
    "x = lambda a:a+10"
   ]
  },
  {
   "cell_type": "code",
   "execution_count": 27,
   "id": "dab68817-2da3-4e11-b0e2-54756dfa07b3",
   "metadata": {},
   "outputs": [
    {
     "data": {
      "text/plain": [
       "15"
      ]
     },
     "execution_count": 27,
     "metadata": {},
     "output_type": "execute_result"
    }
   ],
   "source": [
    "x(5)"
   ]
  },
  {
   "cell_type": "code",
   "execution_count": 28,
   "id": "0376c3be-e856-4acd-a82f-dbf4351291ed",
   "metadata": {},
   "outputs": [],
   "source": [
    "s = lambda a:a*a"
   ]
  },
  {
   "cell_type": "code",
   "execution_count": 29,
   "id": "69a7798a-100e-4cdc-af30-718571b73e8e",
   "metadata": {},
   "outputs": [
    {
     "data": {
      "text/plain": [
       "9"
      ]
     },
     "execution_count": 29,
     "metadata": {},
     "output_type": "execute_result"
    }
   ],
   "source": [
    "s(3)"
   ]
  },
  {
   "cell_type": "code",
   "execution_count": 30,
   "id": "bea347f5-6790-41f7-888a-724b2c9d3c9a",
   "metadata": {},
   "outputs": [],
   "source": [
    "x = lambda a,b:a+b"
   ]
  },
  {
   "cell_type": "code",
   "execution_count": 31,
   "id": "869a754e-6399-4796-9d87-d0af291b3379",
   "metadata": {},
   "outputs": [
    {
     "data": {
      "text/plain": [
       "12"
      ]
     },
     "execution_count": 31,
     "metadata": {},
     "output_type": "execute_result"
    }
   ],
   "source": [
    "x(10,2)"
   ]
  },
  {
   "cell_type": "code",
   "execution_count": 32,
   "id": "f9ae3c18-9153-4b01-a49d-f439dd6e8047",
   "metadata": {},
   "outputs": [],
   "source": [
    "x = lambda *args:args"
   ]
  },
  {
   "cell_type": "code",
   "execution_count": 33,
   "id": "e44c4eef-d7d8-42ee-8247-3d57d38b1fc6",
   "metadata": {},
   "outputs": [
    {
     "data": {
      "text/plain": [
       "(1, 2, 3, 2, 4, 2, 4)"
      ]
     },
     "execution_count": 33,
     "metadata": {},
     "output_type": "execute_result"
    }
   ],
   "source": [
    "x(1,2,3,2,4,2,4)"
   ]
  },
  {
   "cell_type": "code",
   "execution_count": 34,
   "id": "f6703700-9d9a-4147-9eb4-13437bf1c544",
   "metadata": {},
   "outputs": [
    {
     "name": "stdout",
     "output_type": "stream",
     "text": [
      "1\n",
      "2\n",
      "3\n",
      "4\n",
      "5\n"
     ]
    }
   ],
   "source": [
    "for i in range(1,6):\n",
    "    print(i)"
   ]
  },
  {
   "cell_type": "code",
   "execution_count": 35,
   "id": "3a4b3bb1-5571-4646-915f-ffb2535fd087",
   "metadata": {},
   "outputs": [
    {
     "data": {
      "text/plain": [
       "[1, 2, 3, 4, 5]"
      ]
     },
     "execution_count": 35,
     "metadata": {},
     "output_type": "execute_result"
    }
   ],
   "source": [
    "[i for i in range(1,6)]"
   ]
  },
  {
   "cell_type": "code",
   "execution_count": 36,
   "id": "71be9c99-ed69-4879-91d4-054af13296b8",
   "metadata": {},
   "outputs": [
    {
     "data": {
      "text/plain": [
       "[11, 12, 13, 14, 15, 16, 17, 18, 19, 20]"
      ]
     },
     "execution_count": 36,
     "metadata": {},
     "output_type": "execute_result"
    }
   ],
   "source": [
    "[i+10 for i in range(1,11)]"
   ]
  },
  {
   "cell_type": "code",
   "execution_count": 37,
   "id": "2da60763-ed4f-4509-9340-ce09fc05dfed",
   "metadata": {},
   "outputs": [
    {
     "data": {
      "text/plain": [
       "[1, 4, 9, 16, 25, 36, 49, 64, 81, 100]"
      ]
     },
     "execution_count": 37,
     "metadata": {},
     "output_type": "execute_result"
    }
   ],
   "source": [
    "[i*i for i in range(1,11)]"
   ]
  },
  {
   "cell_type": "code",
   "execution_count": 38,
   "id": "c3651a16-e442-45b2-a753-e5a0f87a09bc",
   "metadata": {},
   "outputs": [],
   "source": [
    "numbers = 1,2,3,4,5,6,7"
   ]
  },
  {
   "cell_type": "code",
   "execution_count": 40,
   "id": "c305ab60-148a-4f83-a3ae-6ccabffb16e5",
   "metadata": {},
   "outputs": [
    {
     "name": "stdout",
     "output_type": "stream",
     "text": [
      "2\n",
      "4\n",
      "6\n"
     ]
    }
   ],
   "source": [
    "for i in numbers:\n",
    "    if i % 2 == 0:\n",
    "        print(i)"
   ]
  },
  {
   "cell_type": "code",
   "execution_count": 41,
   "id": "070c0618-5097-4ed0-a0b8-68d67bb2ccf3",
   "metadata": {},
   "outputs": [
    {
     "data": {
      "text/plain": [
       "[2, 4, 6]"
      ]
     },
     "execution_count": 41,
     "metadata": {},
     "output_type": "execute_result"
    }
   ],
   "source": [
    "[i for i in numbers if i % 2 ==0]"
   ]
  },
  {
   "cell_type": "code",
   "execution_count": 42,
   "id": "6e51b4c1-7ae3-4da2-a558-f12eff83aec7",
   "metadata": {},
   "outputs": [
    {
     "data": {
      "text/plain": [
       "(1, 2, 3, 4, 5, 6, 7)"
      ]
     },
     "execution_count": 42,
     "metadata": {},
     "output_type": "execute_result"
    }
   ],
   "source": [
    "numbers"
   ]
  },
  {
   "cell_type": "code",
   "execution_count": 43,
   "id": "5bc42587-0a56-4789-a29e-7f68f05ca328",
   "metadata": {},
   "outputs": [
    {
     "data": {
      "text/plain": [
       "['Odd', 'Even', 'Odd', 'Even', 'Odd', 'Even', 'Odd']"
      ]
     },
     "execution_count": 43,
     "metadata": {},
     "output_type": "execute_result"
    }
   ],
   "source": [
    "['Even' if i % 2 ==0 else 'Odd' for i in numbers]"
   ]
  },
  {
   "cell_type": "code",
   "execution_count": 44,
   "id": "2542712c-35b0-4fac-8212-39749b571fe1",
   "metadata": {},
   "outputs": [],
   "source": [
    "marks = [45,78,33,23,73]"
   ]
  },
  {
   "cell_type": "code",
   "execution_count": 46,
   "id": "fd50f996-d652-4ddf-903a-f96a0004d4e6",
   "metadata": {},
   "outputs": [
    {
     "data": {
      "text/plain": [
       "['Pass', 'Pass', 'Fail', 'Fail', 'Pass']"
      ]
     },
     "execution_count": 46,
     "metadata": {},
     "output_type": "execute_result"
    }
   ],
   "source": [
    "['Pass' if i >= 35 else 'Fail' for i in marks]"
   ]
  },
  {
   "cell_type": "markdown",
   "id": "500501cc-b232-44cc-800e-3bf4b4df7bcb",
   "metadata": {},
   "source": [
    "# Dictionary Comprehension"
   ]
  },
  {
   "cell_type": "code",
   "execution_count": 47,
   "id": "2ae508aa-91d3-439c-8b18-e16dbd7c1238",
   "metadata": {},
   "outputs": [
    {
     "data": {
      "text/plain": [
       "{1: 11, 2: 12, 3: 13, 4: 14, 5: 15}"
      ]
     },
     "execution_count": 47,
     "metadata": {},
     "output_type": "execute_result"
    }
   ],
   "source": [
    "{i:i+10 for i in range(1,6)}"
   ]
  },
  {
   "cell_type": "code",
   "execution_count": 48,
   "id": "b54d030d-52a3-4de2-b7dc-8359b7f49520",
   "metadata": {},
   "outputs": [
    {
     "data": {
      "text/plain": [
       "{1: 1, 2: 4, 3: 9, 4: 16, 5: 25}"
      ]
     },
     "execution_count": 48,
     "metadata": {},
     "output_type": "execute_result"
    }
   ],
   "source": [
    "{i:i * i for i in range(1,6)}"
   ]
  },
  {
   "cell_type": "code",
   "execution_count": null,
   "id": "0124f2f7-77f1-40fe-89ae-475218b268e7",
   "metadata": {},
   "outputs": [],
   "source": []
  }
 ],
 "metadata": {
  "kernelspec": {
   "display_name": "Python 3 (ipykernel)",
   "language": "python",
   "name": "python3"
  },
  "language_info": {
   "codemirror_mode": {
    "name": "ipython",
    "version": 3
   },
   "file_extension": ".py",
   "mimetype": "text/x-python",
   "name": "python",
   "nbconvert_exporter": "python",
   "pygments_lexer": "ipython3",
   "version": "3.12.4"
  }
 },
 "nbformat": 4,
 "nbformat_minor": 5
}
