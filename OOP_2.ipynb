{
 "cells": [
  {
   "cell_type": "code",
   "execution_count": 1,
   "id": "b7ec0e6e-16f6-4388-9003-9ab5c85ba08d",
   "metadata": {},
   "outputs": [],
   "source": [
    "class house ():\n",
    "    def __init__(self,size,bedrooms,floors,type):\n",
    "        self.size = size\n",
    "        self.bedrooms = bedrooms\n",
    "        self.floors = floors\n",
    "        self.type = type\n",
    "\n",
    "    def open_door(self):\n",
    "        return 'Main door is opning'"
   ]
  },
  {
   "cell_type": "code",
   "execution_count": 2,
   "id": "5a5598fc-cfad-4632-8b4d-57ebb9142e15",
   "metadata": {},
   "outputs": [],
   "source": [
    "mannat = house('3000 sqft',5,'3 Floors', 'Flat')"
   ]
  },
  {
   "cell_type": "code",
   "execution_count": 3,
   "id": "bda7c2e3-1abc-44f0-a5fa-86f588a9765d",
   "metadata": {},
   "outputs": [
    {
     "data": {
      "text/plain": [
       "'3000 sqft'"
      ]
     },
     "execution_count": 3,
     "metadata": {},
     "output_type": "execute_result"
    }
   ],
   "source": [
    "mannat.size"
   ]
  },
  {
   "cell_type": "code",
   "execution_count": 4,
   "id": "bcc21849-049c-4125-998d-07f480a8f604",
   "metadata": {},
   "outputs": [
    {
     "data": {
      "text/plain": [
       "'3 Floors'"
      ]
     },
     "execution_count": 4,
     "metadata": {},
     "output_type": "execute_result"
    }
   ],
   "source": [
    "mannat.floors"
   ]
  },
  {
   "cell_type": "code",
   "execution_count": 5,
   "id": "2598b674-8c93-42cf-88b7-cd802993ffe4",
   "metadata": {},
   "outputs": [
    {
     "data": {
      "text/plain": [
       "'Flat'"
      ]
     },
     "execution_count": 5,
     "metadata": {},
     "output_type": "execute_result"
    }
   ],
   "source": [
    "mannat.type"
   ]
  },
  {
   "cell_type": "code",
   "execution_count": 6,
   "id": "3df3a9c3-b55d-4282-993d-60cf7b883e51",
   "metadata": {},
   "outputs": [
    {
     "data": {
      "text/plain": [
       "5"
      ]
     },
     "execution_count": 6,
     "metadata": {},
     "output_type": "execute_result"
    }
   ],
   "source": [
    "mannat.bedrooms"
   ]
  },
  {
   "cell_type": "code",
   "execution_count": 8,
   "id": "5f8e8c04-53db-4a64-a5e8-0f7eeac66ca6",
   "metadata": {},
   "outputs": [
    {
     "data": {
      "text/plain": [
       "'Main door is opning'"
      ]
     },
     "execution_count": 8,
     "metadata": {},
     "output_type": "execute_result"
    }
   ],
   "source": [
    "mannat.open_door()"
   ]
  },
  {
   "cell_type": "code",
   "execution_count": 9,
   "id": "81859610-fd8a-46c7-9b9a-10049b6cb7cc",
   "metadata": {},
   "outputs": [],
   "source": [
    "class parent():\n",
    "    def singing(self):\n",
    "        return 'I am parent class and able to sing a song'"
   ]
  },
  {
   "cell_type": "code",
   "execution_count": 10,
   "id": "839402b3-8754-4189-955e-5859c3dfb9b5",
   "metadata": {},
   "outputs": [],
   "source": [
    "class child(parent):\n",
    "    def cricket(self):\n",
    "        return 'I am child class and able to play cricket well'"
   ]
  },
  {
   "cell_type": "code",
   "execution_count": 11,
   "id": "245d8aee-0b6b-482c-a1f1-522627237095",
   "metadata": {},
   "outputs": [],
   "source": [
    "obj = parent()"
   ]
  },
  {
   "cell_type": "code",
   "execution_count": 12,
   "id": "f8c276b8-e2cb-4fd4-84bd-6e057491e431",
   "metadata": {},
   "outputs": [
    {
     "data": {
      "text/plain": [
       "'I am parent class and able to sing a song'"
      ]
     },
     "execution_count": 12,
     "metadata": {},
     "output_type": "execute_result"
    }
   ],
   "source": [
    "obj.singing()"
   ]
  },
  {
   "cell_type": "code",
   "execution_count": 13,
   "id": "3bffae23-1d39-40fa-a04b-dd6b31414251",
   "metadata": {},
   "outputs": [],
   "source": [
    "obj2 = child()"
   ]
  },
  {
   "cell_type": "code",
   "execution_count": 14,
   "id": "ed41763d-dea9-4373-840c-d478852e5130",
   "metadata": {},
   "outputs": [
    {
     "data": {
      "text/plain": [
       "'I am parent class and able to sing a song'"
      ]
     },
     "execution_count": 14,
     "metadata": {},
     "output_type": "execute_result"
    }
   ],
   "source": [
    "obj2.singing()"
   ]
  },
  {
   "cell_type": "code",
   "execution_count": 15,
   "id": "43be9b64-4ff8-47a5-912c-e938849b78f8",
   "metadata": {},
   "outputs": [
    {
     "data": {
      "text/plain": [
       "'I am child class and able to play cricket well'"
      ]
     },
     "execution_count": 15,
     "metadata": {},
     "output_type": "execute_result"
    }
   ],
   "source": [
    "obj2.cricket()"
   ]
  },
  {
   "cell_type": "markdown",
   "id": "abc7cca2-f688-4643-9f70-02c0333ed325",
   "metadata": {},
   "source": [
    "# Multilevel Inheritance"
   ]
  },
  {
   "cell_type": "code",
   "execution_count": 16,
   "id": "a92d7baf-f2ae-4138-9213-b6b7eaf3db6c",
   "metadata": {},
   "outputs": [],
   "source": [
    "class grandparent():\n",
    "    def car(self):\n",
    "        return 'Grandparents car'\n",
    "\n",
    "class parent(grandparent):\n",
    "    def house(self):\n",
    "        return 'Parents House'\n",
    "\n",
    "class child(parent):\n",
    "    def bike(self):\n",
    "        return 'Childs Bike'"
   ]
  },
  {
   "cell_type": "code",
   "execution_count": 17,
   "id": "58e3d88f-2a77-4382-a205-f45bf1ded6a9",
   "metadata": {},
   "outputs": [],
   "source": [
    "c = child()"
   ]
  },
  {
   "cell_type": "code",
   "execution_count": 19,
   "id": "830f9c0b-d19c-479b-8b7e-bff7f6f40a00",
   "metadata": {},
   "outputs": [
    {
     "data": {
      "text/plain": [
       "'Parents House'"
      ]
     },
     "execution_count": 19,
     "metadata": {},
     "output_type": "execute_result"
    }
   ],
   "source": [
    "c.house()"
   ]
  },
  {
   "cell_type": "code",
   "execution_count": 21,
   "id": "a61b3307-ec04-448c-9ce6-bd5bdda64f91",
   "metadata": {},
   "outputs": [
    {
     "data": {
      "text/plain": [
       "'Grandparents car'"
      ]
     },
     "execution_count": 21,
     "metadata": {},
     "output_type": "execute_result"
    }
   ],
   "source": [
    "c.car()"
   ]
  },
  {
   "cell_type": "code",
   "execution_count": 22,
   "id": "c5edfe62-748a-4487-a48b-1ddb9bf4a61a",
   "metadata": {},
   "outputs": [
    {
     "data": {
      "text/plain": [
       "'Childs Bike'"
      ]
     },
     "execution_count": 22,
     "metadata": {},
     "output_type": "execute_result"
    }
   ],
   "source": [
    "c.bike()"
   ]
  },
  {
   "cell_type": "markdown",
   "id": "74a58b31-2303-4cb0-a108-a72ce2d37374",
   "metadata": {},
   "source": [
    "# Incapsulation"
   ]
  },
  {
   "cell_type": "code",
   "execution_count": 23,
   "id": "d801c7ef-9b3e-48d4-a3dc-7601d883e5db",
   "metadata": {},
   "outputs": [],
   "source": [
    "class person():\n",
    "    def __init__(self,first_name,last_name,city):\n",
    "        self.first_name = first_name # Public\n",
    "        self._last_name = last_name # Private\n",
    "        self.__city = city # Protected"
   ]
  },
  {
   "cell_type": "code",
   "execution_count": 24,
   "id": "34d0d3e3-c3a3-4114-ae74-7152bcf5eb37",
   "metadata": {},
   "outputs": [],
   "source": [
    "a = person('Om','Bhosale','Pune')"
   ]
  },
  {
   "cell_type": "code",
   "execution_count": 25,
   "id": "6efd78eb-2cc1-4bc2-b9de-951fda22f27a",
   "metadata": {},
   "outputs": [
    {
     "data": {
      "text/plain": [
       "'Om'"
      ]
     },
     "execution_count": 25,
     "metadata": {},
     "output_type": "execute_result"
    }
   ],
   "source": [
    "a.first_name"
   ]
  },
  {
   "cell_type": "code",
   "execution_count": 26,
   "id": "56782233-9639-4d4c-82a7-cf6b85babadf",
   "metadata": {},
   "outputs": [
    {
     "data": {
      "text/plain": [
       "'Bhosale'"
      ]
     },
     "execution_count": 26,
     "metadata": {},
     "output_type": "execute_result"
    }
   ],
   "source": [
    "a._last_name"
   ]
  },
  {
   "cell_type": "code",
   "execution_count": 27,
   "id": "448bba95-becf-460b-8a2f-c856efd01543",
   "metadata": {},
   "outputs": [
    {
     "data": {
      "text/plain": [
       "'Pune'"
      ]
     },
     "execution_count": 27,
     "metadata": {},
     "output_type": "execute_result"
    }
   ],
   "source": [
    "a._person__city"
   ]
  },
  {
   "cell_type": "code",
   "execution_count": 28,
   "id": "f3a89a39-0285-4192-bf73-e55c22f52993",
   "metadata": {},
   "outputs": [],
   "source": [
    "# Create same example on car class"
   ]
  },
  {
   "cell_type": "markdown",
   "id": "11daf48f-d233-483c-9927-ad95308cd222",
   "metadata": {},
   "source": [
    "# Polymorphism"
   ]
  },
  {
   "cell_type": "code",
   "execution_count": 32,
   "id": "385c0ea4-945c-4d74-8731-b988bb8d2432",
   "metadata": {},
   "outputs": [],
   "source": [
    "class Animal():\n",
    "    def sound(self):\n",
    "        return 'Animal Sound'\n",
    "\n",
    "class dog(Animal):\n",
    "    def sound(self):\n",
    "        return 'Bhaup bhauo'\n",
    "\n",
    "class cat(Animal):\n",
    "    def sound(self):\n",
    "        return ' Meow Meow'"
   ]
  },
  {
   "cell_type": "code",
   "execution_count": 30,
   "id": "d4e54c40-cd94-4381-9bfb-3ea93e2ba289",
   "metadata": {},
   "outputs": [],
   "source": [
    "a = dog()"
   ]
  },
  {
   "cell_type": "code",
   "execution_count": 31,
   "id": "56d7fdf0-9760-42ed-9c79-575985251a45",
   "metadata": {},
   "outputs": [
    {
     "data": {
      "text/plain": [
       "'Bhaup bhauo'"
      ]
     },
     "execution_count": 31,
     "metadata": {},
     "output_type": "execute_result"
    }
   ],
   "source": [
    "a.sound()"
   ]
  },
  {
   "cell_type": "code",
   "execution_count": 33,
   "id": "1db46e76-cf20-4136-b70f-e30ed542c368",
   "metadata": {},
   "outputs": [],
   "source": [
    "c = cat()"
   ]
  },
  {
   "cell_type": "code",
   "execution_count": 34,
   "id": "ce7b32a5-fb2d-4eba-8337-f3ec5a053a93",
   "metadata": {},
   "outputs": [
    {
     "data": {
      "text/plain": [
       "' Meow Meow'"
      ]
     },
     "execution_count": 34,
     "metadata": {},
     "output_type": "execute_result"
    }
   ],
   "source": [
    "c.sound()"
   ]
  },
  {
   "cell_type": "code",
   "execution_count": 35,
   "id": "1de676ab-400b-45a9-9f8b-75129ccaa2fc",
   "metadata": {},
   "outputs": [],
   "source": [
    "s= Animal()"
   ]
  },
  {
   "cell_type": "code",
   "execution_count": 36,
   "id": "b70fe6a9-f945-4704-a437-d11b9be38d1b",
   "metadata": {},
   "outputs": [
    {
     "data": {
      "text/plain": [
       "'Animal Sound'"
      ]
     },
     "execution_count": 36,
     "metadata": {},
     "output_type": "execute_result"
    }
   ],
   "source": [
    "s.sound()"
   ]
  },
  {
   "cell_type": "code",
   "execution_count": 38,
   "id": "8ca6aaf0-6357-48b8-8226-269050760709",
   "metadata": {},
   "outputs": [],
   "source": [
    "class social_media():\n",
    "    def share_story(self):\n",
    "        return 'Sharing story to social media'\n",
    "\n",
    "class facebook(social_media):\n",
    "    def share_story(self):\n",
    "        return 'Sharing story to facebook'\n",
    "\n",
    "class instagram(social_media):\n",
    "    def share_story(self):\n",
    "        return 'Sharing story to instagram'"
   ]
  },
  {
   "cell_type": "code",
   "execution_count": 39,
   "id": "286bd965-8ce2-43a7-b9d4-e3bfca7c0f0f",
   "metadata": {},
   "outputs": [],
   "source": [
    "i = instagram()"
   ]
  },
  {
   "cell_type": "code",
   "execution_count": 40,
   "id": "f923a2c5-3c9c-4c6f-afb3-7df47397fde9",
   "metadata": {},
   "outputs": [
    {
     "data": {
      "text/plain": [
       "'Sharing story to instagram'"
      ]
     },
     "execution_count": 40,
     "metadata": {},
     "output_type": "execute_result"
    }
   ],
   "source": [
    "i.share_story()"
   ]
  },
  {
   "cell_type": "code",
   "execution_count": 41,
   "id": "77efff3c-1196-4916-ba1c-e20aa30811c0",
   "metadata": {},
   "outputs": [],
   "source": [
    "f = facebook()"
   ]
  },
  {
   "cell_type": "code",
   "execution_count": 42,
   "id": "f752cd47-ffd1-4a70-acfa-5c33bd4fcb41",
   "metadata": {},
   "outputs": [
    {
     "data": {
      "text/plain": [
       "'Sharing story to facebook'"
      ]
     },
     "execution_count": 42,
     "metadata": {},
     "output_type": "execute_result"
    }
   ],
   "source": [
    "f.share_story()"
   ]
  },
  {
   "cell_type": "code",
   "execution_count": null,
   "id": "aaefb64d-4941-4f40-8adb-4ddb4fdb9f24",
   "metadata": {},
   "outputs": [],
   "source": []
  }
 ],
 "metadata": {
  "kernelspec": {
   "display_name": "Python 3 (ipykernel)",
   "language": "python",
   "name": "python3"
  },
  "language_info": {
   "codemirror_mode": {
    "name": "ipython",
    "version": 3
   },
   "file_extension": ".py",
   "mimetype": "text/x-python",
   "name": "python",
   "nbconvert_exporter": "python",
   "pygments_lexer": "ipython3",
   "version": "3.12.4"
  }
 },
 "nbformat": 4,
 "nbformat_minor": 5
}
