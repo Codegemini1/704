{
 "cells": [
  {
   "cell_type": "code",
   "execution_count": 1,
   "id": "48eba58d-83ff-4f8d-afdd-667a797906f8",
   "metadata": {},
   "outputs": [
    {
     "name": "stdout",
     "output_type": "stream",
     "text": [
      "Requirement already satisfied: numpy in c:\\users\\admin\\anaconda3\\lib\\site-packages (1.26.4)\n",
      "Note: you may need to restart the kernel to use updated packages.\n"
     ]
    }
   ],
   "source": [
    "pip install numpy"
   ]
  },
  {
   "cell_type": "code",
   "execution_count": 2,
   "id": "b8b51941-9fb3-4772-a6c0-afe82f256948",
   "metadata": {},
   "outputs": [],
   "source": [
    "import numpy as np"
   ]
  },
  {
   "cell_type": "code",
   "execution_count": 3,
   "id": "4d860461-b05f-4ee9-9e97-119d976799b4",
   "metadata": {},
   "outputs": [
    {
     "data": {
      "text/plain": [
       "19.2"
      ]
     },
     "execution_count": 3,
     "metadata": {},
     "output_type": "execute_result"
    }
   ],
   "source": [
    "np.mean([12,4,3,24,53])"
   ]
  },
  {
   "cell_type": "code",
   "execution_count": 4,
   "id": "6952a2cb-4a7c-4fe6-aaf3-12fc2c75148e",
   "metadata": {},
   "outputs": [
    {
     "data": {
      "text/plain": [
       "12.0"
      ]
     },
     "execution_count": 4,
     "metadata": {},
     "output_type": "execute_result"
    }
   ],
   "source": [
    "np.median([12,4,3,24,53])"
   ]
  },
  {
   "cell_type": "code",
   "execution_count": 5,
   "id": "d561ac42-54b0-4ff2-a59f-e28d038c605a",
   "metadata": {},
   "outputs": [
    {
     "data": {
      "text/plain": [
       "53"
      ]
     },
     "execution_count": 5,
     "metadata": {},
     "output_type": "execute_result"
    }
   ],
   "source": [
    "np.max([12,4,3,24,53])"
   ]
  },
  {
   "cell_type": "code",
   "execution_count": 6,
   "id": "3f4c05d3-5453-4e77-81be-ac4256625993",
   "metadata": {},
   "outputs": [
    {
     "data": {
      "text/plain": [
       "array([4, 6, 7, 7, 1])"
      ]
     },
     "execution_count": 6,
     "metadata": {},
     "output_type": "execute_result"
    }
   ],
   "source": [
    "np.random.randint(1,10,5)"
   ]
  },
  {
   "cell_type": "code",
   "execution_count": 7,
   "id": "c594a470-f9ed-4e01-8834-22462b603e58",
   "metadata": {},
   "outputs": [
    {
     "data": {
      "text/plain": [
       "array([49, 45, 19, 24, 15])"
      ]
     },
     "execution_count": 7,
     "metadata": {},
     "output_type": "execute_result"
    }
   ],
   "source": [
    "np.random.randint(10,50,5)"
   ]
  },
  {
   "cell_type": "code",
   "execution_count": 8,
   "id": "502e61d6-a922-422b-a788-6d181857e1e1",
   "metadata": {},
   "outputs": [
    {
     "data": {
      "text/plain": [
       "array([[0.17149786, 0.42700331],\n",
       "       [0.66491651, 0.26616563],\n",
       "       [0.8960796 , 0.67067336]])"
      ]
     },
     "execution_count": 8,
     "metadata": {},
     "output_type": "execute_result"
    }
   ],
   "source": [
    "np.random.rand(3,2)"
   ]
  },
  {
   "cell_type": "code",
   "execution_count": 9,
   "id": "111416d0-1779-498d-89d2-1297ff531216",
   "metadata": {},
   "outputs": [],
   "source": [
    "# Array"
   ]
  },
  {
   "cell_type": "code",
   "execution_count": 11,
   "id": "524e3460-779d-474f-87e0-21ffbab945f1",
   "metadata": {},
   "outputs": [],
   "source": [
    "x1 = np.array([23,54,13,66,34,65])"
   ]
  },
  {
   "cell_type": "code",
   "execution_count": 12,
   "id": "139e166a-b3f9-4750-8887-a1dd3d560c94",
   "metadata": {},
   "outputs": [
    {
     "data": {
      "text/plain": [
       "array([23, 54, 13, 66, 34, 65])"
      ]
     },
     "execution_count": 12,
     "metadata": {},
     "output_type": "execute_result"
    }
   ],
   "source": [
    "x1"
   ]
  },
  {
   "cell_type": "code",
   "execution_count": 15,
   "id": "83071569-4fd2-46bc-8f82-d06d24ac3ff3",
   "metadata": {},
   "outputs": [
    {
     "data": {
      "text/plain": [
       "1"
      ]
     },
     "execution_count": 15,
     "metadata": {},
     "output_type": "execute_result"
    }
   ],
   "source": [
    "x1.ndim"
   ]
  },
  {
   "cell_type": "code",
   "execution_count": 16,
   "id": "1b660d15-de69-46e1-a165-d2b0bdc52a4d",
   "metadata": {},
   "outputs": [],
   "source": [
    "x2 = np.array([[1,2,3,4,5],[6,7,8,9,10],[11,12,13,14,15]])"
   ]
  },
  {
   "cell_type": "code",
   "execution_count": 17,
   "id": "ac139b07-94fe-496a-912e-1e9dc1a0c806",
   "metadata": {},
   "outputs": [
    {
     "data": {
      "text/plain": [
       "array([[ 1,  2,  3,  4,  5],\n",
       "       [ 6,  7,  8,  9, 10],\n",
       "       [11, 12, 13, 14, 15]])"
      ]
     },
     "execution_count": 17,
     "metadata": {},
     "output_type": "execute_result"
    }
   ],
   "source": [
    "x2"
   ]
  },
  {
   "cell_type": "code",
   "execution_count": 18,
   "id": "5e9ab5e2-88f2-428b-bfa1-e7028646a9a0",
   "metadata": {},
   "outputs": [
    {
     "data": {
      "text/plain": [
       "2"
      ]
     },
     "execution_count": 18,
     "metadata": {},
     "output_type": "execute_result"
    }
   ],
   "source": [
    "x2.ndim"
   ]
  },
  {
   "cell_type": "code",
   "execution_count": 20,
   "id": "126ee62c-454a-49ca-9648-6701b36cfe97",
   "metadata": {},
   "outputs": [],
   "source": [
    "x3 = np.array([[[1,2,3,4,5],[10,20,30,40,50],[100,200,300,400,500]]])"
   ]
  },
  {
   "cell_type": "code",
   "execution_count": 21,
   "id": "1a4654be-a8ee-4905-aa8f-d87cb6a68e82",
   "metadata": {},
   "outputs": [
    {
     "data": {
      "text/plain": [
       "array([[[  1,   2,   3,   4,   5],\n",
       "        [ 10,  20,  30,  40,  50],\n",
       "        [100, 200, 300, 400, 500]]])"
      ]
     },
     "execution_count": 21,
     "metadata": {},
     "output_type": "execute_result"
    }
   ],
   "source": [
    "x3"
   ]
  },
  {
   "cell_type": "code",
   "execution_count": 22,
   "id": "0747e69e-6aad-46b5-8862-d2dd6dd96c57",
   "metadata": {},
   "outputs": [
    {
     "data": {
      "text/plain": [
       "3"
      ]
     },
     "execution_count": 22,
     "metadata": {},
     "output_type": "execute_result"
    }
   ],
   "source": [
    "x3.ndim"
   ]
  },
  {
   "cell_type": "code",
   "execution_count": 23,
   "id": "ea91320f-b5f4-4cab-9c73-468d7b9155b7",
   "metadata": {},
   "outputs": [
    {
     "data": {
      "text/plain": [
       "array([[[0.20289009, 0.75917348, 0.17852226, 0.47372561],\n",
       "        [0.74506215, 0.27528319, 0.38586479, 0.32495802]],\n",
       "\n",
       "       [[0.36188376, 0.15910625, 0.24833674, 0.27023418],\n",
       "        [0.08389687, 0.13160273, 0.95833005, 0.97035063]],\n",
       "\n",
       "       [[0.30561085, 0.45450692, 0.4156201 , 0.65340782],\n",
       "        [0.1726089 , 0.39131466, 0.5817803 , 0.78819535]]])"
      ]
     },
     "execution_count": 23,
     "metadata": {},
     "output_type": "execute_result"
    }
   ],
   "source": [
    "np.random.rand(3,2,4)"
   ]
  },
  {
   "cell_type": "code",
   "execution_count": 24,
   "id": "5c8a3852-0ac4-4a16-bbe9-839564e5c86d",
   "metadata": {},
   "outputs": [
    {
     "data": {
      "text/plain": [
       "array([[0.03221897, 0.76073709],\n",
       "       [0.09845646, 0.04634279],\n",
       "       [0.47461443, 0.16893792]])"
      ]
     },
     "execution_count": 24,
     "metadata": {},
     "output_type": "execute_result"
    }
   ],
   "source": [
    "np.random.rand(3,2)"
   ]
  },
  {
   "cell_type": "code",
   "execution_count": 25,
   "id": "d715433c-b82f-45de-8fda-b5e8bf0328ed",
   "metadata": {},
   "outputs": [
    {
     "data": {
      "text/plain": [
       "array([[0.25138087, 0.24903873, 0.37091912],\n",
       "       [0.80048047, 0.20022069, 0.6909278 ],\n",
       "       [0.53008121, 0.86526852, 0.73725687],\n",
       "       [0.26611555, 0.82713263, 0.93753713],\n",
       "       [0.4693407 , 0.49919061, 0.73275449]])"
      ]
     },
     "execution_count": 25,
     "metadata": {},
     "output_type": "execute_result"
    }
   ],
   "source": [
    "np.random.rand(5,3)"
   ]
  },
  {
   "cell_type": "code",
   "execution_count": null,
   "id": "4546a92b-769a-4583-bb87-5b1f816c2e0f",
   "metadata": {},
   "outputs": [],
   "source": []
  },
  {
   "cell_type": "code",
   "execution_count": null,
   "id": "cb84284c-2963-44ad-b5a2-7390381687ce",
   "metadata": {},
   "outputs": [],
   "source": []
  }
 ],
 "metadata": {
  "kernelspec": {
   "display_name": "Python 3 (ipykernel)",
   "language": "python",
   "name": "python3"
  },
  "language_info": {
   "codemirror_mode": {
    "name": "ipython",
    "version": 3
   },
   "file_extension": ".py",
   "mimetype": "text/x-python",
   "name": "python",
   "nbconvert_exporter": "python",
   "pygments_lexer": "ipython3",
   "version": "3.12.4"
  }
 },
 "nbformat": 4,
 "nbformat_minor": 5
}
