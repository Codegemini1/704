{
 "cells": [
  {
   "cell_type": "code",
   "execution_count": 1,
   "id": "fb57ba26-4125-4910-8b1e-09848071cd81",
   "metadata": {},
   "outputs": [],
   "source": [
    "import logging"
   ]
  },
  {
   "cell_type": "code",
   "execution_count": 2,
   "id": "13dad9fb-5ab3-45f5-a962-7f15831ebff9",
   "metadata": {},
   "outputs": [],
   "source": [
    "logging.basicConfig(filename = 'app.log', level = logging.DEBUG, format = '%(asctime)s - %(levelname)s - %(message)s')"
   ]
  },
  {
   "cell_type": "code",
   "execution_count": 3,
   "id": "4b5383b9-de6a-4c15-ac19-4811c263da62",
   "metadata": {},
   "outputs": [],
   "source": [
    "logging.debug('This is DEBUG log')\n",
    "logging.info('This is NFO log I am writing')\n",
    "logging.warning('This is warning log')"
   ]
  },
  {
   "cell_type": "code",
   "execution_count": 4,
   "id": "dfa21fb5-a21e-4846-8ac5-4e33cab7e2dc",
   "metadata": {},
   "outputs": [],
   "source": [
    "def devide(a,b):\n",
    "    try:\n",
    "        result = a / b\n",
    "        logging.info(f'Division completed and result is {result}')\n",
    "        return result\n",
    "    except Exception as e:\n",
    "        logging.error('Error happend in devide function.')\n",
    "        logging.error(e)"
   ]
  },
  {
   "cell_type": "code",
   "execution_count": 5,
   "id": "81741793-608d-456d-ac9c-1fae130a250e",
   "metadata": {},
   "outputs": [
    {
     "data": {
      "text/plain": [
       "2.0"
      ]
     },
     "execution_count": 5,
     "metadata": {},
     "output_type": "execute_result"
    }
   ],
   "source": [
    "devide(10,5)"
   ]
  },
  {
   "cell_type": "code",
   "execution_count": 6,
   "id": "e476ef1b-0836-4d13-8895-ed67a8b08308",
   "metadata": {},
   "outputs": [],
   "source": [
    "devide(10,0)"
   ]
  },
  {
   "cell_type": "code",
   "execution_count": 7,
   "id": "acb333d8-5aa9-4226-b907-1387eac3036f",
   "metadata": {},
   "outputs": [],
   "source": [
    "logging.shutdown()"
   ]
  },
  {
   "cell_type": "code",
   "execution_count": null,
   "id": "a192ef17-f7c4-469e-b894-56c8b6f2c22e",
   "metadata": {},
   "outputs": [],
   "source": []
  },
  {
   "cell_type": "code",
   "execution_count": 9,
   "id": "72b0e269-923e-4cf1-b9e6-1de0b7a2a502",
   "metadata": {},
   "outputs": [],
   "source": [
    "import logging"
   ]
  },
  {
   "cell_type": "code",
   "execution_count": 10,
   "id": "e31c7402-778c-46c0-9aa9-8431f10670a4",
   "metadata": {},
   "outputs": [],
   "source": [
    "logging.basicConfig(filename = 'test.log', level = logging.DEBUG, format = '%(asctime)s - %(levelname)s - %(message)s')"
   ]
  },
  {
   "cell_type": "code",
   "execution_count": null,
   "id": "99b8fd21-8705-4984-824f-9b473605c6e7",
   "metadata": {},
   "outputs": [],
   "source": []
  }
 ],
 "metadata": {
  "kernelspec": {
   "display_name": "Python 3 (ipykernel)",
   "language": "python",
   "name": "python3"
  },
  "language_info": {
   "codemirror_mode": {
    "name": "ipython",
    "version": 3
   },
   "file_extension": ".py",
   "mimetype": "text/x-python",
   "name": "python",
   "nbconvert_exporter": "python",
   "pygments_lexer": "ipython3",
   "version": "3.12.4"
  }
 },
 "nbformat": 4,
 "nbformat_minor": 5
}
